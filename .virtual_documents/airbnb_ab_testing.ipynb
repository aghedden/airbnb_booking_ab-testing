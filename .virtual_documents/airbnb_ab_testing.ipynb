














import pandas as pd
import numpy as np
import sqlite3





df = pd.read_csv('Airbnb_Open_Data.csv')


# view data
df.head()


df.describe()


df.info()


df.shape





# connect to the database 
conn = sqlite3.connect('Airbnb_Open_Data.db')
df.to_sql('airbnb_data', conn, if_exists='replace', index=False)








# total listings
pd.read_sql('SELECT COUNT(*) AS total_listings FROM airbnb_data;', conn)


# average daily price
q1 = '''
SELECT 
    COUNT(*) AS listings_with_price,
    AVG(CAST(REPLACE(REPLACE(price, '$', ''), ',', '') AS DECIMAL(10,2))) AS avg_daily_rate
FROM airbnb_data
WHERE price IS NOT NULL;
'''

pd.read_sql(q1, conn)


# sanity check w pandas
df['price'] = (
    df['price']
    .replace('[\$,]', '', regex=True)  
    .replace('', np.nan)
    .pipe(pd.to_numeric, errors='coerce') 
)

df['price'].mean()


# number of listings without price
q2 = '''
SELECT
    total_listings - listings_with_price AS listings_no_price
FROM (
    SELECT
        COUNT(*) AS total_listings, 
        COUNT(price) AS listings_with_price 
    FROM airbnb_data
)
'''

pd.read_sql(q2, conn)


q3 = '''
SELECT
    COUNT(*) AS listings_with_service_fee,
    AVG(CAST(REPLACE(REPLACE(`service fee`, '$', ''), ',', '') AS DECIMAL(10,2))) AS avg_service_fee
FROM airbnb_data
WHERE `service fee` IS NOT NULL;
'''

pd.read_sql(q3, conn)


# sanity check w pandas
df['service fee'] = (
    df['service fee']
    .replace('[\$,]', '', regex=True)  
    .replace('', np.nan)
    .pipe(pd.to_numeric, errors='coerce') 
)

df['service fee'].mean()


# average total cost
q4 = '''
SELECT 
    COUNT(*) AS listings_with_both_fees,
    AVG(CAST(REPLACE(REPLACE(price, '$', ''), ',', '') AS DECIMAL(10,2)) +
        CAST(REPLACE(REPLACE(`service fee`, '$', ''), ',', '') AS DECIMAL(10,2))) AS avg_total_cost
FROM airbnb_data
WHERE price IS NOT NULL AND `service fee` IS NOT NULL;
'''

pd.read_sql(q4, conn)


# sanity check w pandas
df['total_cost'] = df['price']+df['service fee']
print(df[['price', 'service fee', 'total_cost']].head(3))
df.total_cost.mean()


# price distribution
q5 = '''
SELECT 
    COUNT(*) AS total_listings,
    MIN(CAST(REPLACE(REPLACE(price, '$', ''), ',', '') AS DECIMAL(10,2))) AS min_price,
    PERCENTILE_CONT(0.25) WITHIN GROUP (ORDER BY CAST(REPLACE(REPLACE(price, '$', ''), ',', '') AS DECIMAL(10,2))) AS q1_25th_percentile,
    PERCENTILE_CONT(0.50) WITHIN GROUP (ORDER BY CAST(REPLACE(REPLACE(price, '$', ''), ',', '') AS DECIMAL(10,2))) AS median_price,
    PERCENTILE_CONT(0.75) WITHIN GROUP (ORDER BY CAST(REPLACE(REPLACE(price, '$', ''), ',', '') AS DECIMAL(10,2))) AS q3_75th_percentile,
    MAX(CAST(REPLACE(REPLACE(price, '$', ''), ',', '') AS DECIMAL(10,2))) AS max_price,
    AVG(CAST(REPLACE(REPLACE(price, '$', ''), ',', '') AS DECIMAL(10,2))) AS mean_price
FROM airbnb_data 
WHERE price IS NOT NULL AND CAST(REPLACE(REPLACE(price, '$', ''), ',', '') AS DECIMAL(10,2)) > 0;
'''

pd.read_sql(q5, conn)





























## Data Quality Checks
- Verify price formatting consistency ($XXX vs XXX)
- Check for duplicate listings
- Validate geographic coordinates within NYC bounds
- Confirm review dates are logical (not future dates)


- **Instant booking availability:** *Do instant bookable properties charge more?*
    - Method: A/B Test: Instant Booking Impact Analysis
    - Groups:
        - Control: instant_bookable = FALSE
        - Treatment: instant_bookable = TRUE
    - **Primary Metric:** Average daily price difference
    - **Secondary Metrics:** Price variance, market positioning
    - **Expected Effect Size:** 5-15% price difference


-- A/B Test Analysis: Instant Booking
SELECT 
    instant_bookable as test_group,
    COUNT(*) as sample_size,
    AVG(CAST(REPLACE(price, '$', '') AS DECIMAL)) as avg_price,
    AVG(reviews_per_month) as avg_reviews_monthly,
    AVG(review_rate_number) as avg_rating
FROM airbnb_data 
WHERE instant_bookable IS NOT NULL 
GROUP BY instant_bookable;














# close SQL connection
conn.close()
