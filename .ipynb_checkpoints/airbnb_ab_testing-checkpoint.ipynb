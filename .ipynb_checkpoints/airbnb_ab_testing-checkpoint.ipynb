{
 "cells": [
  {
   "cell_type": "markdown",
   "id": "201dc60d-ad88-4f5a-b560-d43e66c3b5d2",
   "metadata": {},
   "source": [
    "# Airbnb A/B Testing Project"
   ]
  },
  {
   "cell_type": "markdown",
   "id": "d21e2e03-f777-4c10-bd7f-eddb9ed0062d",
   "metadata": {},
   "source": [
    "# Project Aims\n",
    "## Aims/Dashboard 1: Airbnb pricing analysis\n",
    "*Analyze features of Airbnbs that are related to pricing*\n",
    "### General pricing statistics:\n",
    "- **Total listings:** *What is the total number of Airbnb listings in the dataset?*\n",
    "- **Average daily price:** *What is the average Airbnb daily rate?*\n",
    "- **Average service fee:** *What is the average service fee charged?*\n",
    "- **Average total cost:** *What is the average total guest cost (price + service fee)?*\n",
    "- **Price distribution:** *What is the median, quartiles, and range of pricing?*\n",
    "\n",
    "### Geographic pricing:\n",
    "#### Hypothesis - Manhattan properties command higher prices than other boroughs\n",
    "- **Average price per neighborhood:** *Which neighborhood has the most expensive base rental rates?*\n",
    "- **Price variance by neighborhood:** *Which neighborhoods have the highest price spreads?*\n",
    "- **How service fees vary by property type/location:** *Do service fees vary systematically by location?*\n",
    "- **Average total price per neighborhood:** *Total cost heatmap: Where are the most/least expensive areas for guests?*\n",
    "\n",
    "### Property features impact on pricing:\n",
    "#### Hypothesis 1: Entire homes command 40%+ premium over private rooms\n",
    "#### Hypothesis 2: Newer properties (post-2010) have higher pricing power\n",
    "- **Room type:** *How much more do entire homes cost vs. private rooms?*\n",
    "- **Property age (construction year):** *Do newer properties command price premiums?*\n",
    "- **Room type/Location interaction:** *How much more do entire homes cost vs. private rooms by location?*\n",
    "\n",
    "### Host impact on pricing: \n",
    "#### Hypothesis 1: Professional hosts (5+ properties) price higher than casual hosts (< 3 properties)\n",
    "#### Hypothesis 2: Verified hosts can charge premium prices\n",
    "- **Host portfolio size effect:** *Do multi-property hosts charge more per listing?*\n",
    "    - Method: A/B Test: Professional vs. Casual Host Performance\n",
    "        - Groups:\n",
    "            - Control: calculated_host_listings_count = 1 (Casual hosts)\n",
    "            - Treatment: calculated_host_listings_count >= 5 (Professional hosts)\n",
    "        - Primary metric: Average daily price difference\n",
    "        - Secondary metric: Total guest cost (price + service fee)\n",
    "- **Verification premium:** *What price advantage does host verification provide?*\n",
    "    - Method: A/B Test: Host Verification Premium Test\n",
    "        - Groups:\n",
    "            - Control: host_identity_verified = 'unconfirmed'\n",
    "            - Treatment: host_identity_verified = 'verified'\n",
    "        - Primary metric: Average daily price difference\n",
    "        - Secondary metric: Total guest cost (price + service fee)\n",
    "        \n",
    "### Policy impact on pricing:\n",
    "#### Hypothesis 1: Instant bookable properties command premium for convenience\n",
    "#### Hypothesis 2: Stricter cancellation policies allow for higher pricing\n",
    "- **Instant booking availability:** *Do instant bookable properties charge more?*\n",
    "    - Method: A/B Test: Instant Booking Impact Analysis\n",
    "        - Groups:\n",
    "            - Control: instant_bookable = FALSE\n",
    "            - Treatment: instant_bookable = TRUE\n",
    "        - Primary metric: Average daily price difference\n",
    "        - Secondary metric: Total guest cost\n",
    "- **Cancellation policy strictness:** *How do flexible vs. strict policies affect pricing?*\n",
    "    - Stricter cancellation policies transfer booking risk from the host to the guest. When hosts offer this risk protection to themselves, they can potentially charge a premium for the reduced uncertainty in their revenue.\n",
    "    - Method: A/B Test: Cancellation Policy Strategy Test\n",
    "        - Groups:\n",
    "            - Control: cancellation_policy = 'strict'\n",
    "            - Treatment A: cancellation_policy = 'moderate'\n",
    "            - Treatment B: cancellation_policy = 'flexible'\n",
    "        - Primary metric: Average daily price by policy type\n",
    "- **Minimum stay requirements:** *Is there optimal minimum stay length for pricing?*\n",
    "   \n",
    "   \n",
    "## Aims/Dashboard 2: Airbnb reviews analysis\n",
    "*Analyze features of Airbnbs that are related to reviews*\n",
    "### General reviews statistics:\n",
    "- **Total listings:** *What is the total number of Airbnb listings in the dataset?*\n",
    "- **Total reviews:** *What are the total number of Airbnb reviews?*\n",
    "- **Total active listings:** *How many properties have recent reviews? (last 3 months)*\n",
    "- **Percentage active listings:** *What percentage of properties have recent reviews? (last 3 months)*\n",
    "- **Average review rating:** *What is the average Airbnb review rating?* \n",
    "\n",
    "### Key success metrics:\n",
    "- **Number of reviews :**\n",
    "- **Review rating number:**\n",
    "\n",
    "### Host impact on reviews: \n",
    "#### Hypothesis 1: Professional hosts receive more positive review activity\n",
    "#### Hypothesis 2: Verified hosts receive higher review ratings\n",
    "- **Host portfolio size effect:** *Do multi-property hosts maintain review quality across listings?*\n",
    "    - Method: A/B Test: Professional vs. Casual Host Performance\n",
    "        - Groups:\n",
    "            - Control: calculated_host_listings_count = 1 (Casual hosts)\n",
    "            - Treatment: calculated_host_listings_count >= 5 (Professional hosts)\n",
    "        - Primary metric: Average rating review\n",
    "        - Secondary metric: Number of reviews\n",
    "- **Host verification impact:** *Does verification status affect guest review rating scores?*\n",
    "    - Method: A/B Test: Host Verification Premium Test\n",
    "        - Groups:\n",
    "            - Control: host_identity_verified = 'unconfirmed'\n",
    "            - Treatment: host_identity_verified = 'verified'\n",
    "        - Primary metric: Average review rating difference\n",
    "        - Secondary metric: Number of reviews\n",
    "### Property features impact on reviews:\n",
    "#### Hypothesis 1: Entire homes receive higher satisfaction ratings than shared spaces\n",
    "#### Hypothesis 2: Newer properties receive more favorable reviews\n",
    "- **Room type:** *Which room types generate the most positive guest feedback?*\n",
    "- **Location (neighborhood):** *Do certain neighborhoods consistently receive better reviews?*\n",
    "- **Property age (construction year):** *Are newer properties rated more favorably?*\n",
    "\n",
    "### Policy impact on reviews:\n",
    "#### Hypothesis 1: Instant booking reduces friction and improves guest satisfaction\n",
    "#### Hypothesis 2: Flexible cancellation policies lead to better reviews\n",
    "- **Instant booking availability:** *Does instant booking correlate with better review performance?*\n",
    "    - A/B Test: Instant Booking Impact Analysis\n",
    "        - Groups:\n",
    "            - Control: instant_bookable = FALSE\n",
    "            - Treatment: instant_bookable = TRUE\n",
    "        - Primary metric: Average review rating difference\n",
    "        - Secondary metric: Number of reviews\n",
    "- **Cancellation policy strictness:** *How do cancellation policies affect guest satisfaction?*\n",
    "    - A/B Test: Cancellation Policy Strategy Test\n",
    "        - Groups:\n",
    "            - Control: cancellation_policy = 'strict'\n",
    "            - Treatment A: cancellation_policy = 'moderate'\n",
    "            - Treatment B: cancellation_policy = 'flexible'\n",
    "        - Primary metric: Average review rating difference by policy\n",
    "        - Secondary metric: Number of reviews\n",
    "- **Minimum stay requirements:** *What minimum stay requirements generate the best reviews?*\n",
    "\n",
    "\n",
    "## Cross-Dashboard Analysis\n",
    "### Price-Review Correlation\n",
    "#### Hypothesis: Higher-priced properties receive better review ratings due to quality expectations\n",
    "- **Method:** Correlation analysis between price tiers and review performance\n",
    "- **Price Tiers:** Budget (<$100), Mid-range ($100-200), Premium ($200+)\n",
    "\n",
    "## Study Limitations\n",
    "- **Temporal:** Snapshot data, no longitudinal trends\n",
    "- **Causality:** Observational study, correlation not causation\n",
    "- **Selection Bias:** Only includes listed properties, not delisted ones\n",
    "- **Proxy Metrics:** Reviews as proxy for bookings/satisfaction"
   ]
  },
  {
   "cell_type": "markdown",
   "id": "a0494322-85df-4cab-9147-5502d1228226",
   "metadata": {},
   "source": [
    "# Study Methods\n",
    "\n",
    "## Dataset Overview\n",
    "- **Source:** Airbnb Open Data (NYC)\n",
    "- **Sample Size:** [Insert total number of listings]\n",
    "- **Time Period:** [Insert data collection period]\n",
    "- **Geographic Scope:** New York City (5 boroughs)\n",
    "\n",
    "## Statistical Approach\n",
    "### A/B Testing Framework\n",
    "- **Significance Level:** α = 0.05\n",
    "- **Minimum Sample Size:** 30 per group (will calculate power analysis)\n",
    "- **Statistical Tests:** Two-sample t-tests for continuous variables, Chi-square for categorical\n",
    "- **Effect Size Calculation:** Cohen's d for practical significance\n",
    "\n",
    "### Data Cleaning Criteria\n",
    "- Exclude listings with missing price data\n",
    "- Remove extreme outliers (prices >$1000 or <$10 per night)\n",
    "- Filter for listings with at least 1 review for review analysis\n",
    "- Include only listings active within last 12 months\n",
    "\n",
    "## Key Variables\n",
    "### Dependent Variables (Outcomes)\n",
    "- **Pricing Analysis:** `price`, `service_fee`, total cost\n",
    "- **Review Analysis:** `review_rate_number`, `number_of_reviews`\n",
    "\n",
    "### Independent Variables (Predictors)\n",
    "- **Geographic:** `neighbourhood_group`, `neighbourhood`\n",
    "- **Property:** `room_type`, `construction_year`\n",
    "- **Host:** `calculated_host_listings_count`, `host_identity_verified`\n",
    "- **Policy:** `instant_bookable`, `cancellation_policy`, `minimum_nights`"
   ]
  },
  {
   "cell_type": "markdown",
   "id": "d24dc88b-068e-4796-bab1-b84d36d7c04a",
   "metadata": {},
   "source": [
    "# Code"
   ]
  },
  {
   "cell_type": "markdown",
   "id": "8a58d69c-2e6c-4175-9388-a8823a311ebc",
   "metadata": {},
   "source": [
    "## Set-up"
   ]
  },
  {
   "cell_type": "markdown",
   "id": "3a80ce09-e057-4732-aa3b-d0fe4b948908",
   "metadata": {},
   "source": [
    "### Load in packages"
   ]
  },
  {
   "cell_type": "code",
   "execution_count": null,
   "id": "96b98606-803d-4bf1-a97c-01d4c0f65dcd",
   "metadata": {},
   "outputs": [],
   "source": [
    "import pandas as pd\n",
    "import numpy as np"
   ]
  },
  {
   "cell_type": "markdown",
   "id": "b535c527-37e7-4bcc-b423-afc53e567cb2",
   "metadata": {},
   "source": [
    "### Load in data"
   ]
  },
  {
   "cell_type": "code",
   "execution_count": null,
   "id": "d1eb31cb-4cd4-46b6-9a9c-9e691d48e3f3",
   "metadata": {},
   "outputs": [],
   "source": [
    "text_df = pd.read_csv('clean_nus_sms.csv')"
   ]
  },
  {
   "cell_type": "code",
   "execution_count": null,
   "id": "64633d61-b59d-46d3-88b6-52ccbe4e3104",
   "metadata": {},
   "outputs": [],
   "source": [
    "# view data\n",
    "text_df.head(10)"
   ]
  },
  {
   "cell_type": "markdown",
   "id": "2480ad9a-0906-4964-aee9-03e3bd5e2676",
   "metadata": {},
   "source": [
    "Variable info is outlined [here](https://docs.google.com/spreadsheets/d/1b_dvmyhb_kAJhUmv81rAxl4KcXn0Pymz/edit?gid=1967362979#gid=1967362979)"
   ]
  },
  {
   "cell_type": "markdown",
   "id": "4761345c-5b79-40d4-b386-99c1d20b3379",
   "metadata": {},
   "source": []
  },
  {
   "cell_type": "code",
   "execution_count": null,
   "id": "223469b1-5f17-4026-a7d5-cddf32a25473",
   "metadata": {},
   "outputs": [],
   "source": []
  },
  {
   "cell_type": "code",
   "execution_count": null,
   "id": "e1204a3e-e672-4ebd-a087-cf85468fd1a8",
   "metadata": {},
   "outputs": [],
   "source": []
  },
  {
   "cell_type": "code",
   "execution_count": null,
   "id": "03b8709f-9cd6-4731-b9ef-c52b6d7887bf",
   "metadata": {},
   "outputs": [],
   "source": []
  },
  {
   "cell_type": "code",
   "execution_count": null,
   "id": "2b721252-f5f4-4649-aea3-9e929aae6521",
   "metadata": {},
   "outputs": [],
   "source": []
  },
  {
   "cell_type": "code",
   "execution_count": null,
   "id": "112a1143-2e22-41f1-a38d-3d36a3450fc3",
   "metadata": {},
   "outputs": [],
   "source": [
    "## Data Quality Checks\n",
    "- Verify price formatting consistency ($XXX vs XXX)\n",
    "- Check for duplicate listings\n",
    "- Validate geographic coordinates within NYC bounds\n",
    "- Confirm review dates are logical (not future dates)"
   ]
  },
  {
   "cell_type": "code",
   "execution_count": null,
   "id": "98d0b54b-0ac2-435a-8ad4-8a771c56925f",
   "metadata": {},
   "outputs": [],
   "source": [
    "- **Instant booking availability:** *Do instant bookable properties charge more?*\n",
    "    - Method: A/B Test: Instant Booking Impact Analysis\n",
    "    - Groups:\n",
    "        - Control: instant_bookable = FALSE\n",
    "        - Treatment: instant_bookable = TRUE\n",
    "    - **Primary Metric:** Average daily price difference\n",
    "    - **Secondary Metrics:** Price variance, market positioning\n",
    "    - **Expected Effect Size:** 5-15% price difference"
   ]
  },
  {
   "cell_type": "code",
   "execution_count": null,
   "id": "26c771ca-f26f-475f-b60e-62fce35d8ec4",
   "metadata": {},
   "outputs": [],
   "source": [
    "-- A/B Test Analysis: Instant Booking\n",
    "SELECT \n",
    "    instant_bookable as test_group,\n",
    "    COUNT(*) as sample_size,\n",
    "    AVG(CAST(REPLACE(price, '$', '') AS DECIMAL)) as avg_price,\n",
    "    AVG(reviews_per_month) as avg_reviews_monthly,\n",
    "    AVG(review_rate_number) as avg_rating\n",
    "FROM airbnb_data \n",
    "WHERE instant_bookable IS NOT NULL \n",
    "GROUP BY instant_bookable;"
   ]
  },
  {
   "cell_type": "code",
   "execution_count": null,
   "id": "2aad308e-e7b7-490b-bf4b-3bbe16c3a241",
   "metadata": {},
   "outputs": [],
   "source": []
  },
  {
   "cell_type": "code",
   "execution_count": null,
   "id": "4d636a23-16c1-4769-8bde-6ee40c43c059",
   "metadata": {},
   "outputs": [],
   "source": []
  },
  {
   "cell_type": "markdown",
   "id": "73f8b958-9977-4bd8-97ae-d597d0cb5ea6",
   "metadata": {},
   "source": [
    "Instant booking premium analysis\n",
    "-- Does instant booking allow for higher pricing?\n",
    "\n",
    "Business Insight: Do properties with instant booking command higher prices because they offer convenience? Or do budget properties use instant booking to compete?"
   ]
  }
 ],
 "metadata": {
  "kernelspec": {
   "display_name": "Python 3",
   "language": "python",
   "name": "python3"
  },
  "language_info": {
   "codemirror_mode": {
    "name": "ipython",
    "version": 3
   },
   "file_extension": ".py",
   "mimetype": "text/x-python",
   "name": "python",
   "nbconvert_exporter": "python",
   "pygments_lexer": "ipython3",
   "version": "3.8.8"
  }
 },
 "nbformat": 4,
 "nbformat_minor": 5
}
