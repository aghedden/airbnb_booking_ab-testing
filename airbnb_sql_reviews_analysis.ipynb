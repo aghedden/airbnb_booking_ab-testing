{
 "cells": [
  {
   "cell_type": "markdown",
   "id": "d05a1f97-9c9b-4d36-850e-4225e7f4e967",
   "metadata": {},
   "source": []
  },
  {
   "cell_type": "markdown",
   "id": "da8e745e-ab77-4e23-9336-074c67cab783",
   "metadata": {},
   "source": [
    "# Project Aims\n",
    "This project consisted of 2 sub-projects with distinct aims. First, I sought to investigate features of Airbnb listings that are related to pricing and summarize key results through visualizations and a dashboard. **Second, the focus of this notebook, I sought to investigate the features of Airbnb listings that are related to the number and ratings of reviews and summarize key results through visualizations and a second dashboard.** Key methods included:\n",
    "- Pulling relevant data and calculating basic metrics using SQL\n",
    "- Performing A/B tests to determine feature relationships\n",
    "- Using Seaborn and plotly.io to create unique and interactive data visualizations\n",
    "- Creating 2 dashboards of the main findings in Tableau\n",
    "\n",
    "## Aims/Dashboard 2: Airbnb reviews analysis\n",
    "*Analyze features of Airbnbs that are related to reviews*\n",
    "### General reviews statistics:\n",
    "- **Total listings:** *What is the total number of Airbnb listings in the dataset?*\n",
    "- **Total reviews:** *What are the total number of Airbnb reviews?*\n",
    "- **Total active listings:** *How many properties have recent reviews? (last 3 months)*\n",
    "- **Percentage active listings:** *What percentage of properties have recent reviews? (last 3 months)*\n",
    "- **Average review rating:** *What is the average Airbnb review rating?* \n",
    "\n",
    "### Key success metrics:\n",
    "- **Number of reviews :**\n",
    "- **Review rating number:**\n",
    "\n",
    "### Host impact on reviews: \n",
    "#### Hypothesis 1: Professional hosts receive more positive review activity\n",
    "#### Hypothesis 2: Verified hosts receive higher review ratings\n",
    "- **Host portfolio size effect:** *Do multi-property hosts maintain review quality across listings?*\n",
    "    - Method: A/B Test: Professional vs. Casual Host Performance\n",
    "        - Groups:\n",
    "            - Control: calculated_host_listings_count = 1 (Casual hosts)\n",
    "            - Treatment: calculated_host_listings_count >= 5 (Professional hosts)\n",
    "        - Primary metric: Average rating review\n",
    "        - Secondary metric: Number of reviews\n",
    "- **Host verification impact:** *Does verification status affect guest review rating scores?*\n",
    "    - Method: A/B Test: Host Verification Premium Test\n",
    "        - Groups:\n",
    "            - Control: host_identity_verified = 'unconfirmed'\n",
    "            - Treatment: host_identity_verified = 'verified'\n",
    "        - Primary metric: Average review rating difference\n",
    "        - Secondary metric: Number of reviews\n",
    "### Property features impact on reviews:\n",
    "#### Hypothesis 1: Entire homes receive higher satisfaction ratings than shared spaces\n",
    "#### Hypothesis 2: Newer properties receive more favorable reviews\n",
    "- **Room type:** *Which room types generate the most positive guest feedback?*\n",
    "- **Location (neighborhood):** *Do certain neighborhoods consistently receive better reviews?*\n",
    "- **Property age (construction year):** *Are newer properties rated more favorably?*\n",
    "\n",
    "### Policy impact on reviews:\n",
    "#### Hypothesis 1: Instant booking reduces friction and improves guest satisfaction\n",
    "#### Hypothesis 2: Flexible cancellation policies lead to better reviews\n",
    "- **Instant booking availability:** *Does instant booking correlate with better review performance?*\n",
    "    - A/B Test: Instant Booking Impact Analysis\n",
    "        - Groups:\n",
    "            - Control: instant_bookable = FALSE\n",
    "            - Treatment: instant_bookable = TRUE\n",
    "        - Primary metric: Average review rating difference\n",
    "        - Secondary metric: Number of reviews\n",
    "- **Cancellation policy strictness:** *How do cancellation policies affect guest satisfaction?*\n",
    "    - A/B Test: Cancellation Policy Strategy Test\n",
    "        - Groups:\n",
    "            - Control: cancellation_policy = 'strict'\n",
    "            - Treatment A: cancellation_policy = 'moderate'\n",
    "            - Treatment B: cancellation_policy = 'flexible'\n",
    "        - Primary metric: Average review rating difference by policy\n",
    "        - Secondary metric: Number of reviews\n",
    "- **Minimum stay requirements:** *What minimum stay requirements generate the best reviews?*\n",
    "\n"
   ]
  },
  {
   "cell_type": "code",
   "execution_count": null,
   "id": "4d594162-4e06-4f92-9ae8-b499abf38317",
   "metadata": {},
   "outputs": [],
   "source": []
  },
  {
   "cell_type": "code",
   "execution_count": null,
   "id": "3040a933-217b-4619-ac94-d7250b5d006b",
   "metadata": {},
   "outputs": [],
   "source": []
  },
  {
   "cell_type": "code",
   "execution_count": null,
   "id": "fc58aaa2-edd7-42c5-ad55-e107eafe8ca9",
   "metadata": {},
   "outputs": [],
   "source": []
  }
 ],
 "metadata": {
  "kernelspec": {
   "display_name": "Python 3",
   "language": "python",
   "name": "python3"
  },
  "language_info": {
   "codemirror_mode": {
    "name": "ipython",
    "version": 3
   },
   "file_extension": ".py",
   "mimetype": "text/x-python",
   "name": "python",
   "nbconvert_exporter": "python",
   "pygments_lexer": "ipython3",
   "version": "3.8.8"
  }
 },
 "nbformat": 4,
 "nbformat_minor": 5
}
