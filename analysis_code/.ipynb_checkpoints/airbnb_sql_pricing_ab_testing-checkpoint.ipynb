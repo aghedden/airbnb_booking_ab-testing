{
 "cells": [
  {
   "cell_type": "markdown",
   "id": "201dc60d-ad88-4f5a-b560-d43e66c3b5d2",
   "metadata": {},
   "source": [
    "# Airbnb Pricing A/B Testing Project"
   ]
  },
  {
   "cell_type": "markdown",
   "id": "d21e2e03-f777-4c10-bd7f-eddb9ed0062d",
   "metadata": {},
   "source": [
    "# Project Aims\n",
    "This project consisted of 2 sub-projects with distinct aims. **First, the focus of this Notebook, I sought to investigate features of Airbnb listings that are related to pricing and summarize key results through visualizations and a dashboard.** Second, I sought to investigate the features of Airbnb listings that are related to the number and ratings of reviews and summarize key results through visualizations and a second dashboard. Key methods included:\n",
    "- Pulling relevant data and calculating basic metrics using SQL\n",
    "- Using SQL to perform A/B tests to determine feature relationships\n",
    "- Using Seaborn and plotly.io to create unique and interactive data visualizations\n",
    "- Creating 2 dashboards of the main findings in Tableau\n",
    "\n",
    "## Aims/Dashboard 1: Airbnb pricing analysis\n",
    "*Analyze features of Airbnbs that are related to pricing*\n",
    "### General pricing statistics:\n",
    "- **Total listings:** *What is the total number of Airbnb listings in the dataset?*\n",
    "- **Average daily price:** *What is the average Airbnb daily rate?*\n",
    "- **Average service fee:** *What is the average service fee charged?*\n",
    "- **Average total cost:** *What is the average total guest cost (price + service fee)?*\n",
    "- **Price distribution:** *What is the median, quartiles, and range of pricing?*\n",
    "\n",
    "### Geographic pricing:\n",
    "#### Hypothesis - Manhattan properties command higher prices than other boroughs\n",
    "- **Average price per neighborhood:** *Which neighborhood has the most expensive base rental rates?*\n",
    "- **How service fees vary by property type/location:** *Do service fees vary systematically by location?*\n",
    "- **Average total price per neighborhood:** *Total cost heatmap: Where are the most/least expensive areas for guests?*\n",
    "\n",
    "### Property features impact on pricing:\n",
    "#### Hypothesis 1: Entire homes are more pricy than single rooms or shared spaces\n",
    "#### Hypothesis 2: Newer properties (post-2010) have higher pricing power\n",
    "- **Room type:** *How much more do entire homes cost vs. private rooms?*\n",
    "- **Room type/Location interaction:** *How much more do entire homes cost vs. private rooms by location?*\n",
    "- **Property age (construction year):** *Do newer properties command price premiums?*\n",
    "    - Method: A/B Test: Property age test\n",
    "        - Groups:\n",
    "            - Control (old homes): Construction year < 2010\n",
    "            - Treatment (new homes): Construction year >= 2010\n",
    "        - Primary metric: Average daily price difference\n",
    "        - Secondary metric: Total guest cost (price + service fee)\n",
    "    - *Followed up on initial results by examining how this changed based on borough and neighborhood*\n",
    " \n",
    "### Host impact on pricing: \n",
    "#### Hypothesis 1: Professional hosts (5+ properties) price higher than casual hosts (=1 properties)\n",
    "#### Hypothesis 2: Verified hosts can charge premium prices\n",
    "- **Host portfolio size effect:** *Do multi-property hosts charge more per listing?*\n",
    "    - Method: A/B Test: Professional vs. Casual Host Performance\n",
    "        - Groups:\n",
    "            - Control: calculated_host_listings_count = 1 (Casual hosts)\n",
    "            - Treatment: calculated_host_listings_count >= 5 (Professional hosts)\n",
    "        - Primary metric: Average daily price difference\n",
    "        - Secondary metric: Total guest cost (price + service fee)\n",
    "- **Verification premium:** *What price advantage does host verification provide?*\n",
    "    - Method: A/B Test: Host Verification Premium Test\n",
    "        - Groups:\n",
    "            - Control: host_identity_verified = 'unconfirmed'\n",
    "            - Treatment: host_identity_verified = 'verified'\n",
    "        - Primary metric: Average daily price difference\n",
    "        - Secondary metric: Total guest cost (price + service fee)\n",
    "        \n",
    "### Policy impact on pricing:\n",
    "#### Hypothesis 1: Instant bookable properties command premium for convenience\n",
    "#### Hypothesis 2: Stricter cancellation policies allow for higher pricing\n",
    "- **Instant booking availability:** *Do instant bookable properties charge more?*\n",
    "    - Method: A/B Test: Instant Booking Impact Analysis\n",
    "        - Groups:\n",
    "            - Control: instant_bookable = FALSE\n",
    "            - Treatment: instant_bookable = TRUE\n",
    "        - Primary metric: Average daily price difference\n",
    "        - Secondary metric: Total guest cost\n",
    "- **Cancellation policy strictness:** *How do flexible vs. strict policies affect pricing?*\n",
    "    - Stricter cancellation policies transfer booking risk from the host to the guest. When hosts offer this risk protection to themselves, they can potentially charge a premium for the reduced uncertainty in their revenue.\n",
    "    - Method: A/B Test: Cancellation Policy Strategy Test\n",
    "        - Groups:\n",
    "            - Control: cancellation_policy = 'strict'\n",
    "            - Treatment A: cancellation_policy = 'moderate'\n",
    "            - Treatment B: cancellation_policy = 'flexible'\n",
    "        - Primary metric: Average daily price by policy type\n",
    "   \n",
    "## Cross-Dashboard Analysis\n",
    "### Price-Review Correlation\n",
    "#### Hypothesis: Higher-priced properties receive better review ratings due to quality expectations\n",
    "- **Method:** Correlation analysis between price tiers and review performance\n",
    "- **Price Tiers:** Budget (<100), Mid-range (100-200), Premium (200+)\n",
    "\n",
    "## Study Limitations\n",
    "- **Temporal:** Snapshot data, no longitudinal trends\n",
    "- **Causality:** Observational study, correlation not causation\n",
    "- **Selection Bias:** Only includes listed properties, not delisted ones\n",
    "- **Proxy Metrics:** Reviews as proxy for bookings/satisfaction\n",
    "\n",
    "## Dataset Overview\n",
    "- **Source:** Airbnb Open Data (NYC)\n",
    "- **Sample Size:** 102599 (listings)\n",
    "- **Time Period:** 2012-07-11 to 2025-06-26 (4733 days)\n",
    "- **Geographic Scope:** New York City (5 boroughs)\n",
    "\n",
    "## Percentage Difference Thresholds Used:\n",
    "- < 1%: Negligible - likely not worth acting on\n",
    "- 1-3%: Small but potentially meaningful for high-volume businesses\n",
    "- 3-5%: Moderate - often worth considering strategically\n",
    "- 5-10%: Substantial - clear business impact\n",
    "- 10%+: Large - significant business driver"
   ]
  },
  {
   "cell_type": "markdown",
   "id": "8a58d69c-2e6c-4175-9388-a8823a311ebc",
   "metadata": {},
   "source": [
    "# Set-up"
   ]
  },
  {
   "cell_type": "markdown",
   "id": "3a80ce09-e057-4732-aa3b-d0fe4b948908",
   "metadata": {},
   "source": [
    "## Load in packages"
   ]
  },
  {
   "cell_type": "code",
   "execution_count": 1,
   "id": "96b98606-803d-4bf1-a97c-01d4c0f65dcd",
   "metadata": {},
   "outputs": [],
   "source": [
    "import pandas as pd\n",
    "import numpy as np\n",
    "import sqlite3\n",
    "import plotly.express as px\n",
    "import plotly.graph_objects as go"
   ]
  },
  {
   "cell_type": "markdown",
   "id": "b535c527-37e7-4bcc-b423-afc53e567cb2",
   "metadata": {},
   "source": [
    "## Load in data\n",
    "Variable info is outlined [here](https://docs.google.com/spreadsheets/d/1b_dvmyhb_kAJhUmv81rAxl4KcXn0Pymz/edit?gid=1967362979#gid=1967362979)"
   ]
  },
  {
   "cell_type": "code",
   "execution_count": null,
   "id": "88bda71d-01ef-43e0-af88-f5b9bbb37d4a",
   "metadata": {},
   "outputs": [],
   "source": [
    "#wd\n",
    "os.chdir('/Users/agshivers/Documents/GitHub/airbnb_booking_ab-testing')"
   ]
  },
  {
   "cell_type": "code",
   "execution_count": 2,
   "id": "d1eb31cb-4cd4-46b6-9a9c-9e691d48e3f3",
   "metadata": {},
   "outputs": [
    {
     "name": "stderr",
     "output_type": "stream",
     "text": [
      "/Users/agshivers/opt/anaconda3/lib/python3.8/site-packages/IPython/core/interactiveshell.py:3165: DtypeWarning: Columns (25) have mixed types.Specify dtype option on import or set low_memory=False.\n",
      "  has_raised = await self.run_ast_nodes(code_ast.body, cell_name,\n"
     ]
    }
   ],
   "source": [
    "df = pd.read_csv('Airbnb_Open_Data.csv')"
   ]
  },
  {
   "cell_type": "code",
   "execution_count": 3,
   "id": "64633d61-b59d-46d3-88b6-52ccbe4e3104",
   "metadata": {},
   "outputs": [
    {
     "data": {
      "text/html": [
       "<div>\n",
       "<style scoped>\n",
       "    .dataframe tbody tr th:only-of-type {\n",
       "        vertical-align: middle;\n",
       "    }\n",
       "\n",
       "    .dataframe tbody tr th {\n",
       "        vertical-align: top;\n",
       "    }\n",
       "\n",
       "    .dataframe thead th {\n",
       "        text-align: right;\n",
       "    }\n",
       "</style>\n",
       "<table border=\"1\" class=\"dataframe\">\n",
       "  <thead>\n",
       "    <tr style=\"text-align: right;\">\n",
       "      <th></th>\n",
       "      <th>id</th>\n",
       "      <th>NAME</th>\n",
       "      <th>host id</th>\n",
       "      <th>host_identity_verified</th>\n",
       "      <th>host name</th>\n",
       "      <th>neighbourhood group</th>\n",
       "      <th>neighbourhood</th>\n",
       "      <th>lat</th>\n",
       "      <th>long</th>\n",
       "      <th>country</th>\n",
       "      <th>...</th>\n",
       "      <th>service fee</th>\n",
       "      <th>minimum nights</th>\n",
       "      <th>number of reviews</th>\n",
       "      <th>last review</th>\n",
       "      <th>reviews per month</th>\n",
       "      <th>review rate number</th>\n",
       "      <th>calculated host listings count</th>\n",
       "      <th>availability 365</th>\n",
       "      <th>house_rules</th>\n",
       "      <th>license</th>\n",
       "    </tr>\n",
       "  </thead>\n",
       "  <tbody>\n",
       "    <tr>\n",
       "      <th>0</th>\n",
       "      <td>1001254</td>\n",
       "      <td>Clean &amp; quiet apt home by the park</td>\n",
       "      <td>80014485718</td>\n",
       "      <td>unconfirmed</td>\n",
       "      <td>Madaline</td>\n",
       "      <td>Brooklyn</td>\n",
       "      <td>Kensington</td>\n",
       "      <td>40.64749</td>\n",
       "      <td>-73.97237</td>\n",
       "      <td>United States</td>\n",
       "      <td>...</td>\n",
       "      <td>$193</td>\n",
       "      <td>10.0</td>\n",
       "      <td>9.0</td>\n",
       "      <td>10/19/2021</td>\n",
       "      <td>0.21</td>\n",
       "      <td>4.0</td>\n",
       "      <td>6.0</td>\n",
       "      <td>286.0</td>\n",
       "      <td>Clean up and treat the home the way you'd like...</td>\n",
       "      <td>NaN</td>\n",
       "    </tr>\n",
       "    <tr>\n",
       "      <th>1</th>\n",
       "      <td>1002102</td>\n",
       "      <td>Skylit Midtown Castle</td>\n",
       "      <td>52335172823</td>\n",
       "      <td>verified</td>\n",
       "      <td>Jenna</td>\n",
       "      <td>Manhattan</td>\n",
       "      <td>Midtown</td>\n",
       "      <td>40.75362</td>\n",
       "      <td>-73.98377</td>\n",
       "      <td>United States</td>\n",
       "      <td>...</td>\n",
       "      <td>$28</td>\n",
       "      <td>30.0</td>\n",
       "      <td>45.0</td>\n",
       "      <td>5/21/2022</td>\n",
       "      <td>0.38</td>\n",
       "      <td>4.0</td>\n",
       "      <td>2.0</td>\n",
       "      <td>228.0</td>\n",
       "      <td>Pet friendly but please confirm with me if the...</td>\n",
       "      <td>NaN</td>\n",
       "    </tr>\n",
       "    <tr>\n",
       "      <th>2</th>\n",
       "      <td>1002403</td>\n",
       "      <td>THE VILLAGE OF HARLEM....NEW YORK !</td>\n",
       "      <td>78829239556</td>\n",
       "      <td>NaN</td>\n",
       "      <td>Elise</td>\n",
       "      <td>Manhattan</td>\n",
       "      <td>Harlem</td>\n",
       "      <td>40.80902</td>\n",
       "      <td>-73.94190</td>\n",
       "      <td>United States</td>\n",
       "      <td>...</td>\n",
       "      <td>$124</td>\n",
       "      <td>3.0</td>\n",
       "      <td>0.0</td>\n",
       "      <td>NaN</td>\n",
       "      <td>NaN</td>\n",
       "      <td>5.0</td>\n",
       "      <td>1.0</td>\n",
       "      <td>352.0</td>\n",
       "      <td>I encourage you to use my kitchen, cooking and...</td>\n",
       "      <td>NaN</td>\n",
       "    </tr>\n",
       "    <tr>\n",
       "      <th>3</th>\n",
       "      <td>1002755</td>\n",
       "      <td>NaN</td>\n",
       "      <td>85098326012</td>\n",
       "      <td>unconfirmed</td>\n",
       "      <td>Garry</td>\n",
       "      <td>Brooklyn</td>\n",
       "      <td>Clinton Hill</td>\n",
       "      <td>40.68514</td>\n",
       "      <td>-73.95976</td>\n",
       "      <td>United States</td>\n",
       "      <td>...</td>\n",
       "      <td>$74</td>\n",
       "      <td>30.0</td>\n",
       "      <td>270.0</td>\n",
       "      <td>7/5/2019</td>\n",
       "      <td>4.64</td>\n",
       "      <td>4.0</td>\n",
       "      <td>1.0</td>\n",
       "      <td>322.0</td>\n",
       "      <td>NaN</td>\n",
       "      <td>NaN</td>\n",
       "    </tr>\n",
       "    <tr>\n",
       "      <th>4</th>\n",
       "      <td>1003689</td>\n",
       "      <td>Entire Apt: Spacious Studio/Loft by central park</td>\n",
       "      <td>92037596077</td>\n",
       "      <td>verified</td>\n",
       "      <td>Lyndon</td>\n",
       "      <td>Manhattan</td>\n",
       "      <td>East Harlem</td>\n",
       "      <td>40.79851</td>\n",
       "      <td>-73.94399</td>\n",
       "      <td>United States</td>\n",
       "      <td>...</td>\n",
       "      <td>$41</td>\n",
       "      <td>10.0</td>\n",
       "      <td>9.0</td>\n",
       "      <td>11/19/2018</td>\n",
       "      <td>0.10</td>\n",
       "      <td>3.0</td>\n",
       "      <td>1.0</td>\n",
       "      <td>289.0</td>\n",
       "      <td>Please no smoking in the house, porch or on th...</td>\n",
       "      <td>NaN</td>\n",
       "    </tr>\n",
       "  </tbody>\n",
       "</table>\n",
       "<p>5 rows × 26 columns</p>\n",
       "</div>"
      ],
      "text/plain": [
       "        id                                              NAME      host id  \\\n",
       "0  1001254                Clean & quiet apt home by the park  80014485718   \n",
       "1  1002102                             Skylit Midtown Castle  52335172823   \n",
       "2  1002403               THE VILLAGE OF HARLEM....NEW YORK !  78829239556   \n",
       "3  1002755                                               NaN  85098326012   \n",
       "4  1003689  Entire Apt: Spacious Studio/Loft by central park  92037596077   \n",
       "\n",
       "  host_identity_verified host name neighbourhood group neighbourhood  \\\n",
       "0            unconfirmed  Madaline            Brooklyn    Kensington   \n",
       "1               verified     Jenna           Manhattan       Midtown   \n",
       "2                    NaN     Elise           Manhattan        Harlem   \n",
       "3            unconfirmed     Garry            Brooklyn  Clinton Hill   \n",
       "4               verified    Lyndon           Manhattan   East Harlem   \n",
       "\n",
       "        lat      long        country  ... service fee minimum nights  \\\n",
       "0  40.64749 -73.97237  United States  ...       $193            10.0   \n",
       "1  40.75362 -73.98377  United States  ...        $28            30.0   \n",
       "2  40.80902 -73.94190  United States  ...       $124             3.0   \n",
       "3  40.68514 -73.95976  United States  ...        $74            30.0   \n",
       "4  40.79851 -73.94399  United States  ...        $41            10.0   \n",
       "\n",
       "  number of reviews last review  reviews per month review rate number  \\\n",
       "0               9.0  10/19/2021               0.21                4.0   \n",
       "1              45.0   5/21/2022               0.38                4.0   \n",
       "2               0.0         NaN                NaN                5.0   \n",
       "3             270.0    7/5/2019               4.64                4.0   \n",
       "4               9.0  11/19/2018               0.10                3.0   \n",
       "\n",
       "  calculated host listings count  availability 365  \\\n",
       "0                            6.0             286.0   \n",
       "1                            2.0             228.0   \n",
       "2                            1.0             352.0   \n",
       "3                            1.0             322.0   \n",
       "4                            1.0             289.0   \n",
       "\n",
       "                                         house_rules license  \n",
       "0  Clean up and treat the home the way you'd like...     NaN  \n",
       "1  Pet friendly but please confirm with me if the...     NaN  \n",
       "2  I encourage you to use my kitchen, cooking and...     NaN  \n",
       "3                                                NaN     NaN  \n",
       "4  Please no smoking in the house, porch or on th...     NaN  \n",
       "\n",
       "[5 rows x 26 columns]"
      ]
     },
     "execution_count": 3,
     "metadata": {},
     "output_type": "execute_result"
    }
   ],
   "source": [
    "# view data\n",
    "df.head()"
   ]
  },
  {
   "cell_type": "code",
   "execution_count": 4,
   "id": "6f37d43f-3aae-48ed-aafa-be757ef2c46c",
   "metadata": {},
   "outputs": [
    {
     "data": {
      "text/html": [
       "<div>\n",
       "<style scoped>\n",
       "    .dataframe tbody tr th:only-of-type {\n",
       "        vertical-align: middle;\n",
       "    }\n",
       "\n",
       "    .dataframe tbody tr th {\n",
       "        vertical-align: top;\n",
       "    }\n",
       "\n",
       "    .dataframe thead th {\n",
       "        text-align: right;\n",
       "    }\n",
       "</style>\n",
       "<table border=\"1\" class=\"dataframe\">\n",
       "  <thead>\n",
       "    <tr style=\"text-align: right;\">\n",
       "      <th></th>\n",
       "      <th>id</th>\n",
       "      <th>host id</th>\n",
       "      <th>lat</th>\n",
       "      <th>long</th>\n",
       "      <th>Construction year</th>\n",
       "      <th>minimum nights</th>\n",
       "      <th>number of reviews</th>\n",
       "      <th>reviews per month</th>\n",
       "      <th>review rate number</th>\n",
       "      <th>calculated host listings count</th>\n",
       "      <th>availability 365</th>\n",
       "    </tr>\n",
       "  </thead>\n",
       "  <tbody>\n",
       "    <tr>\n",
       "      <th>count</th>\n",
       "      <td>1.025990e+05</td>\n",
       "      <td>1.025990e+05</td>\n",
       "      <td>102591.000000</td>\n",
       "      <td>102591.000000</td>\n",
       "      <td>102385.000000</td>\n",
       "      <td>102190.000000</td>\n",
       "      <td>102416.000000</td>\n",
       "      <td>86720.000000</td>\n",
       "      <td>102273.000000</td>\n",
       "      <td>102280.000000</td>\n",
       "      <td>102151.000000</td>\n",
       "    </tr>\n",
       "    <tr>\n",
       "      <th>mean</th>\n",
       "      <td>2.914623e+07</td>\n",
       "      <td>4.925411e+10</td>\n",
       "      <td>40.728094</td>\n",
       "      <td>-73.949644</td>\n",
       "      <td>2012.487464</td>\n",
       "      <td>8.135845</td>\n",
       "      <td>27.483743</td>\n",
       "      <td>1.374022</td>\n",
       "      <td>3.279106</td>\n",
       "      <td>7.936605</td>\n",
       "      <td>141.133254</td>\n",
       "    </tr>\n",
       "    <tr>\n",
       "      <th>std</th>\n",
       "      <td>1.625751e+07</td>\n",
       "      <td>2.853900e+10</td>\n",
       "      <td>0.055857</td>\n",
       "      <td>0.049521</td>\n",
       "      <td>5.765556</td>\n",
       "      <td>30.553781</td>\n",
       "      <td>49.508954</td>\n",
       "      <td>1.746621</td>\n",
       "      <td>1.284657</td>\n",
       "      <td>32.218780</td>\n",
       "      <td>135.435024</td>\n",
       "    </tr>\n",
       "    <tr>\n",
       "      <th>min</th>\n",
       "      <td>1.001254e+06</td>\n",
       "      <td>1.236005e+08</td>\n",
       "      <td>40.499790</td>\n",
       "      <td>-74.249840</td>\n",
       "      <td>2003.000000</td>\n",
       "      <td>-1223.000000</td>\n",
       "      <td>0.000000</td>\n",
       "      <td>0.010000</td>\n",
       "      <td>1.000000</td>\n",
       "      <td>1.000000</td>\n",
       "      <td>-10.000000</td>\n",
       "    </tr>\n",
       "    <tr>\n",
       "      <th>25%</th>\n",
       "      <td>1.508581e+07</td>\n",
       "      <td>2.458333e+10</td>\n",
       "      <td>40.688740</td>\n",
       "      <td>-73.982580</td>\n",
       "      <td>2007.000000</td>\n",
       "      <td>2.000000</td>\n",
       "      <td>1.000000</td>\n",
       "      <td>0.220000</td>\n",
       "      <td>2.000000</td>\n",
       "      <td>1.000000</td>\n",
       "      <td>3.000000</td>\n",
       "    </tr>\n",
       "    <tr>\n",
       "      <th>50%</th>\n",
       "      <td>2.913660e+07</td>\n",
       "      <td>4.911774e+10</td>\n",
       "      <td>40.722290</td>\n",
       "      <td>-73.954440</td>\n",
       "      <td>2012.000000</td>\n",
       "      <td>3.000000</td>\n",
       "      <td>7.000000</td>\n",
       "      <td>0.740000</td>\n",
       "      <td>3.000000</td>\n",
       "      <td>1.000000</td>\n",
       "      <td>96.000000</td>\n",
       "    </tr>\n",
       "    <tr>\n",
       "      <th>75%</th>\n",
       "      <td>4.320120e+07</td>\n",
       "      <td>7.399650e+10</td>\n",
       "      <td>40.762760</td>\n",
       "      <td>-73.932350</td>\n",
       "      <td>2017.000000</td>\n",
       "      <td>5.000000</td>\n",
       "      <td>30.000000</td>\n",
       "      <td>2.000000</td>\n",
       "      <td>4.000000</td>\n",
       "      <td>2.000000</td>\n",
       "      <td>269.000000</td>\n",
       "    </tr>\n",
       "    <tr>\n",
       "      <th>max</th>\n",
       "      <td>5.736742e+07</td>\n",
       "      <td>9.876313e+10</td>\n",
       "      <td>40.916970</td>\n",
       "      <td>-73.705220</td>\n",
       "      <td>2022.000000</td>\n",
       "      <td>5645.000000</td>\n",
       "      <td>1024.000000</td>\n",
       "      <td>90.000000</td>\n",
       "      <td>5.000000</td>\n",
       "      <td>332.000000</td>\n",
       "      <td>3677.000000</td>\n",
       "    </tr>\n",
       "  </tbody>\n",
       "</table>\n",
       "</div>"
      ],
      "text/plain": [
       "                 id       host id            lat           long  \\\n",
       "count  1.025990e+05  1.025990e+05  102591.000000  102591.000000   \n",
       "mean   2.914623e+07  4.925411e+10      40.728094     -73.949644   \n",
       "std    1.625751e+07  2.853900e+10       0.055857       0.049521   \n",
       "min    1.001254e+06  1.236005e+08      40.499790     -74.249840   \n",
       "25%    1.508581e+07  2.458333e+10      40.688740     -73.982580   \n",
       "50%    2.913660e+07  4.911774e+10      40.722290     -73.954440   \n",
       "75%    4.320120e+07  7.399650e+10      40.762760     -73.932350   \n",
       "max    5.736742e+07  9.876313e+10      40.916970     -73.705220   \n",
       "\n",
       "       Construction year  minimum nights  number of reviews  \\\n",
       "count      102385.000000   102190.000000      102416.000000   \n",
       "mean         2012.487464        8.135845          27.483743   \n",
       "std             5.765556       30.553781          49.508954   \n",
       "min          2003.000000    -1223.000000           0.000000   \n",
       "25%          2007.000000        2.000000           1.000000   \n",
       "50%          2012.000000        3.000000           7.000000   \n",
       "75%          2017.000000        5.000000          30.000000   \n",
       "max          2022.000000     5645.000000        1024.000000   \n",
       "\n",
       "       reviews per month  review rate number  calculated host listings count  \\\n",
       "count       86720.000000       102273.000000                   102280.000000   \n",
       "mean            1.374022            3.279106                        7.936605   \n",
       "std             1.746621            1.284657                       32.218780   \n",
       "min             0.010000            1.000000                        1.000000   \n",
       "25%             0.220000            2.000000                        1.000000   \n",
       "50%             0.740000            3.000000                        1.000000   \n",
       "75%             2.000000            4.000000                        2.000000   \n",
       "max            90.000000            5.000000                      332.000000   \n",
       "\n",
       "       availability 365  \n",
       "count     102151.000000  \n",
       "mean         141.133254  \n",
       "std          135.435024  \n",
       "min          -10.000000  \n",
       "25%            3.000000  \n",
       "50%           96.000000  \n",
       "75%          269.000000  \n",
       "max         3677.000000  "
      ]
     },
     "execution_count": 4,
     "metadata": {},
     "output_type": "execute_result"
    }
   ],
   "source": [
    "df.describe()"
   ]
  },
  {
   "cell_type": "code",
   "execution_count": 5,
   "id": "b5819d16-4fa1-4730-82a7-a82b53cf41b4",
   "metadata": {},
   "outputs": [
    {
     "name": "stdout",
     "output_type": "stream",
     "text": [
      "<class 'pandas.core.frame.DataFrame'>\n",
      "RangeIndex: 102599 entries, 0 to 102598\n",
      "Data columns (total 26 columns):\n",
      " #   Column                          Non-Null Count   Dtype  \n",
      "---  ------                          --------------   -----  \n",
      " 0   id                              102599 non-null  int64  \n",
      " 1   NAME                            102349 non-null  object \n",
      " 2   host id                         102599 non-null  int64  \n",
      " 3   host_identity_verified          102310 non-null  object \n",
      " 4   host name                       102193 non-null  object \n",
      " 5   neighbourhood group             102570 non-null  object \n",
      " 6   neighbourhood                   102583 non-null  object \n",
      " 7   lat                             102591 non-null  float64\n",
      " 8   long                            102591 non-null  float64\n",
      " 9   country                         102067 non-null  object \n",
      " 10  country code                    102468 non-null  object \n",
      " 11  instant_bookable                102494 non-null  object \n",
      " 12  cancellation_policy             102523 non-null  object \n",
      " 13  room type                       102599 non-null  object \n",
      " 14  Construction year               102385 non-null  float64\n",
      " 15  price                           102352 non-null  object \n",
      " 16  service fee                     102326 non-null  object \n",
      " 17  minimum nights                  102190 non-null  float64\n",
      " 18  number of reviews               102416 non-null  float64\n",
      " 19  last review                     86706 non-null   object \n",
      " 20  reviews per month               86720 non-null   float64\n",
      " 21  review rate number              102273 non-null  float64\n",
      " 22  calculated host listings count  102280 non-null  float64\n",
      " 23  availability 365                102151 non-null  float64\n",
      " 24  house_rules                     50468 non-null   object \n",
      " 25  license                         2 non-null       object \n",
      "dtypes: float64(9), int64(2), object(15)\n",
      "memory usage: 20.4+ MB\n"
     ]
    }
   ],
   "source": [
    "df.info()"
   ]
  },
  {
   "cell_type": "code",
   "execution_count": 6,
   "id": "159f7b35-9b0d-4007-b52b-f7738b08df56",
   "metadata": {},
   "outputs": [
    {
     "data": {
      "text/plain": [
       "(102599, 26)"
      ]
     },
     "execution_count": 6,
     "metadata": {},
     "output_type": "execute_result"
    }
   ],
   "source": [
    "df.shape"
   ]
  },
  {
   "cell_type": "markdown",
   "id": "a3715f3b-4a2e-4d4c-90c8-f102eff1c8f2",
   "metadata": {},
   "source": [
    "## Basic data cleaning"
   ]
  },
  {
   "cell_type": "markdown",
   "id": "b22bea2a-c94a-4ab7-9955-c90178c9c558",
   "metadata": {},
   "source": [
    "### Clean neighborhood borough names"
   ]
  },
  {
   "cell_type": "code",
   "execution_count": 7,
   "id": "ea6a7bf5-c8fb-44e3-b374-a5698d6a9714",
   "metadata": {},
   "outputs": [
    {
     "data": {
      "text/plain": [
       "array(['Brooklyn', 'Manhattan', 'brookln', 'manhatan', 'Queens', nan,\n",
       "       'Staten Island', 'Bronx'], dtype=object)"
      ]
     },
     "execution_count": 7,
     "metadata": {},
     "output_type": "execute_result"
    }
   ],
   "source": [
    "df['neighbourhood group'].unique()"
   ]
  },
  {
   "cell_type": "code",
   "execution_count": 8,
   "id": "6067270a-a5f6-40fa-8c34-531b7f4ad8e9",
   "metadata": {},
   "outputs": [],
   "source": [
    "# dictionary of corrections\n",
    "name_map = {\n",
    "    \"brookln\": \"Brooklyn\",\n",
    "    \"manhatan\": \"Manhattan\"\n",
    "}\n",
    "\n",
    "# apply corrections\n",
    "df['neighbourhood group'] = df['neighbourhood group'].replace(name_map)"
   ]
  },
  {
   "cell_type": "code",
   "execution_count": 9,
   "id": "c079b928-0856-49ae-b8dd-5bf1b5c4d29f",
   "metadata": {},
   "outputs": [
    {
     "data": {
      "text/plain": [
       "array(['Brooklyn', 'Manhattan', 'Queens', nan, 'Staten Island', 'Bronx'],\n",
       "      dtype=object)"
      ]
     },
     "execution_count": 9,
     "metadata": {},
     "output_type": "execute_result"
    }
   ],
   "source": [
    "# verify\n",
    "df['neighbourhood group'].unique()"
   ]
  },
  {
   "cell_type": "code",
   "execution_count": 10,
   "id": "ea30d5f9-9548-442c-8496-5265963cdb76",
   "metadata": {},
   "outputs": [
    {
     "data": {
      "text/plain": [
       "array(['Kensington', 'Midtown', 'Harlem', 'Clinton Hill', 'East Harlem',\n",
       "       'Murray Hill', 'Bedford-Stuyvesant', \"Hell's Kitchen\",\n",
       "       'Upper West Side', 'Chinatown', 'South Slope', 'West Village',\n",
       "       'Williamsburg', 'Fort Greene', 'Chelsea', 'Crown Heights',\n",
       "       'Park Slope', 'Windsor Terrace', 'Inwood', 'East Village',\n",
       "       'Greenpoint', 'Bushwick', 'Flatbush', 'Lower East Side',\n",
       "       'Prospect-Lefferts Gardens', 'Long Island City', 'Kips Bay',\n",
       "       'SoHo', 'Upper East Side', 'Prospect Heights',\n",
       "       'Washington Heights', 'Woodside', 'Brooklyn Heights',\n",
       "       'Carroll Gardens', 'Gowanus', 'Flatlands', 'Cobble Hill',\n",
       "       'Flushing', 'Boerum Hill', 'Sunnyside', 'DUMBO', 'St. George',\n",
       "       'Highbridge', 'Financial District', 'Ridgewood',\n",
       "       'Morningside Heights', 'Jamaica', 'Middle Village', 'NoHo',\n",
       "       'Ditmars Steinway', 'Flatiron District', 'Roosevelt Island',\n",
       "       'Greenwich Village', 'Little Italy', 'East Flatbush',\n",
       "       'Tompkinsville', 'Astoria', 'Clason Point', 'Eastchester',\n",
       "       'Kingsbridge', 'Two Bridges', 'Queens Village', 'Rockaway Beach',\n",
       "       'Forest Hills', 'Nolita', 'Woodlawn', 'University Heights',\n",
       "       'Gravesend', 'Gramercy', 'Allerton', nan, 'East New York',\n",
       "       'Theater District', 'Concourse Village', 'Sheepshead Bay',\n",
       "       'Emerson Hill', 'Fort Hamilton', 'Bensonhurst', 'Tribeca',\n",
       "       'Shore Acres', 'Sunset Park', 'Concourse', 'Elmhurst',\n",
       "       'Brighton Beach', 'Jackson Heights', 'Cypress Hills', 'St. Albans',\n",
       "       'Arrochar', 'Rego Park', 'Wakefield', 'Clifton', 'Bay Ridge',\n",
       "       'Graniteville', 'Spuyten Duyvil', 'Stapleton', 'Briarwood',\n",
       "       'Ozone Park', 'Columbia St', 'Vinegar Hill', 'Mott Haven',\n",
       "       'Longwood', 'Canarsie', 'Battery Park City', 'Civic Center',\n",
       "       'East Elmhurst', 'New Springville', 'Morris Heights', 'Arverne',\n",
       "       'Cambria Heights', 'Tottenville', 'Mariners Harbor', 'Concord',\n",
       "       'Borough Park', 'Bayside', 'Downtown Brooklyn', 'Port Morris',\n",
       "       'Fieldston', 'Kew Gardens', 'Midwood', 'College Point',\n",
       "       'Mount Eden', 'City Island', 'Glendale', 'Port Richmond',\n",
       "       'Red Hook', 'Richmond Hill', 'Bellerose', 'Maspeth',\n",
       "       'Williamsbridge', 'Soundview', 'Woodhaven', 'Woodrow',\n",
       "       'Co-op City', 'Stuyvesant Town', 'Parkchester', 'North Riverdale',\n",
       "       'Dyker Heights', 'Bronxdale', 'Sea Gate', 'Riverdale',\n",
       "       'Kew Gardens Hills', 'Bay Terrace', 'Norwood', 'Claremont Village',\n",
       "       'Whitestone', 'Fordham', 'Bayswater', 'Navy Yard', 'Brownsville',\n",
       "       'Eltingville', 'Fresh Meadows', 'Mount Hope', 'Lighthouse Hill',\n",
       "       'Springfield Gardens', 'Howard Beach', 'Belle Harbor',\n",
       "       'Jamaica Estates', 'Van Nest', 'Morris Park', 'West Brighton',\n",
       "       'Far Rockaway', 'South Ozone Park', 'Tremont', 'Corona',\n",
       "       'Great Kills', 'Manhattan Beach', 'Marble Hill', 'Dongan Hills',\n",
       "       'Castleton Corners', 'East Morrisania', 'Hunts Point', 'Neponsit',\n",
       "       'Pelham Bay', 'Randall Manor', 'Throgs Neck', 'Todt Hill',\n",
       "       'West Farms', 'Silver Lake', 'Morrisania', 'Laurelton',\n",
       "       'Grymes Hill', 'Holliswood', 'Pelham Gardens', 'Belmont',\n",
       "       'Rosedale', 'Edgemere', 'New Brighton', 'Midland Beach',\n",
       "       'Baychester', 'Melrose', 'Bergen Beach', 'Richmondtown',\n",
       "       'Howland Hook', 'Schuylerville', 'Coney Island', 'New Dorp Beach',\n",
       "       \"Prince's Bay\", 'South Beach', 'Bath Beach', 'Jamaica Hills',\n",
       "       'Oakwood', 'Castle Hill', 'Hollis', 'Douglaston', 'Huguenot',\n",
       "       'Olinville', 'Edenwald', 'Grant City', 'Westerleigh',\n",
       "       'Bay Terrace, Staten Island', 'Westchester Square', 'Little Neck',\n",
       "       'Fort Wadsworth', 'Rosebank', 'Unionport', 'Mill Basin',\n",
       "       'Arden Heights', \"Bull's Head\", 'New Dorp', 'Rossville',\n",
       "       'Breezy Point', 'Willowbrook', 'Glen Oaks', 'Gerritsen Beach',\n",
       "       'Chelsea, Staten Island'], dtype=object)"
      ]
     },
     "execution_count": 10,
     "metadata": {},
     "output_type": "execute_result"
    }
   ],
   "source": [
    "df['neighbourhood'].unique()"
   ]
  },
  {
   "cell_type": "markdown",
   "id": "0d60b49e-bbee-4691-9925-2031ef0b60c9",
   "metadata": {},
   "source": [
    "## Create SQLite database and load data into it \n",
    "*Note that this is not necessary but just for the purposes of showcasing SQL skills/capabilities*"
   ]
  },
  {
   "cell_type": "code",
   "execution_count": 1,
   "id": "1d2684f6-b731-4669-99dd-7cafdfbdaca9",
   "metadata": {},
   "outputs": [
    {
     "ename": "NameError",
     "evalue": "name 'sqlite3' is not defined",
     "output_type": "error",
     "traceback": [
      "\u001b[0;31m---------------------------------------------------------------------------\u001b[0m",
      "\u001b[0;31mNameError\u001b[0m                                 Traceback (most recent call last)",
      "\u001b[0;32m<ipython-input-1-8e340c2eee53>\u001b[0m in \u001b[0;36m<module>\u001b[0;34m\u001b[0m\n\u001b[1;32m      1\u001b[0m \u001b[0;31m# connect to the database\u001b[0m\u001b[0;34m\u001b[0m\u001b[0;34m\u001b[0m\u001b[0;34m\u001b[0m\u001b[0m\n\u001b[0;32m----> 2\u001b[0;31m \u001b[0mconn\u001b[0m \u001b[0;34m=\u001b[0m \u001b[0msqlite3\u001b[0m\u001b[0;34m.\u001b[0m\u001b[0mconnect\u001b[0m\u001b[0;34m(\u001b[0m\u001b[0;34m'Airbnb_Open_Data.db'\u001b[0m\u001b[0;34m)\u001b[0m\u001b[0;34m\u001b[0m\u001b[0;34m\u001b[0m\u001b[0m\n\u001b[0m\u001b[1;32m      3\u001b[0m \u001b[0mdf\u001b[0m\u001b[0;34m.\u001b[0m\u001b[0mto_sql\u001b[0m\u001b[0;34m(\u001b[0m\u001b[0;34m'airbnb_data'\u001b[0m\u001b[0;34m,\u001b[0m \u001b[0mconn\u001b[0m\u001b[0;34m,\u001b[0m \u001b[0mif_exists\u001b[0m\u001b[0;34m=\u001b[0m\u001b[0;34m'replace'\u001b[0m\u001b[0;34m,\u001b[0m \u001b[0mindex\u001b[0m\u001b[0;34m=\u001b[0m\u001b[0;32mFalse\u001b[0m\u001b[0;34m)\u001b[0m\u001b[0;34m\u001b[0m\u001b[0;34m\u001b[0m\u001b[0m\n",
      "\u001b[0;31mNameError\u001b[0m: name 'sqlite3' is not defined"
     ]
    }
   ],
   "source": [
    "# connect to the database \n",
    "conn = sqlite3.connect('Airbnb_Open_Data.db')\n",
    "df.to_sql('airbnb_data', conn, if_exists='replace', index=False)"
   ]
  },
  {
   "cell_type": "markdown",
   "id": "053a92da-2efb-4b8d-a612-8fd3859226e8",
   "metadata": {},
   "source": [
    "# Project 1: Pricing Analysis"
   ]
  },
  {
   "cell_type": "markdown",
   "id": "98d13da5-9f6a-4d05-8ee7-67d623b69c36",
   "metadata": {},
   "source": [
    "## Find basic metrics using SQL"
   ]
  },
  {
   "cell_type": "code",
   "execution_count": 17,
   "id": "00c6c09d-cffa-44b1-9a4e-62a3e94d51e0",
   "metadata": {},
   "outputs": [
    {
     "data": {
      "text/html": [
       "<div>\n",
       "<style scoped>\n",
       "    .dataframe tbody tr th:only-of-type {\n",
       "        vertical-align: middle;\n",
       "    }\n",
       "\n",
       "    .dataframe tbody tr th {\n",
       "        vertical-align: top;\n",
       "    }\n",
       "\n",
       "    .dataframe thead th {\n",
       "        text-align: right;\n",
       "    }\n",
       "</style>\n",
       "<table border=\"1\" class=\"dataframe\">\n",
       "  <thead>\n",
       "    <tr style=\"text-align: right;\">\n",
       "      <th></th>\n",
       "      <th>total_listings</th>\n",
       "    </tr>\n",
       "  </thead>\n",
       "  <tbody>\n",
       "    <tr>\n",
       "      <th>0</th>\n",
       "      <td>102599</td>\n",
       "    </tr>\n",
       "  </tbody>\n",
       "</table>\n",
       "</div>"
      ],
      "text/plain": [
       "   total_listings\n",
       "0          102599"
      ]
     },
     "execution_count": 17,
     "metadata": {},
     "output_type": "execute_result"
    }
   ],
   "source": [
    "# total listings\n",
    "pd.read_sql('SELECT COUNT(*) AS total_listings FROM airbnb_data;', conn)"
   ]
  },
  {
   "cell_type": "code",
   "execution_count": 27,
   "id": "9b6ac8f2-5d13-41a7-91d6-48294c20bd18",
   "metadata": {},
   "outputs": [
    {
     "data": {
      "text/html": [
       "<div>\n",
       "<style scoped>\n",
       "    .dataframe tbody tr th:only-of-type {\n",
       "        vertical-align: middle;\n",
       "    }\n",
       "\n",
       "    .dataframe tbody tr th {\n",
       "        vertical-align: top;\n",
       "    }\n",
       "\n",
       "    .dataframe thead th {\n",
       "        text-align: right;\n",
       "    }\n",
       "</style>\n",
       "<table border=\"1\" class=\"dataframe\">\n",
       "  <thead>\n",
       "    <tr style=\"text-align: right;\">\n",
       "      <th></th>\n",
       "      <th>listings_with_price</th>\n",
       "      <th>avg_daily_rate</th>\n",
       "    </tr>\n",
       "  </thead>\n",
       "  <tbody>\n",
       "    <tr>\n",
       "      <th>0</th>\n",
       "      <td>102352</td>\n",
       "      <td>625.293536</td>\n",
       "    </tr>\n",
       "  </tbody>\n",
       "</table>\n",
       "</div>"
      ],
      "text/plain": [
       "   listings_with_price  avg_daily_rate\n",
       "0               102352      625.293536"
      ]
     },
     "execution_count": 27,
     "metadata": {},
     "output_type": "execute_result"
    }
   ],
   "source": [
    "# average daily price\n",
    "q1 = '''\n",
    "SELECT \n",
    "    COUNT(*) AS listings_with_price,\n",
    "    AVG(CAST(REPLACE(REPLACE(price, '$', ''), ',', '') AS DECIMAL(10,2))) AS avg_daily_rate\n",
    "FROM airbnb_data\n",
    "WHERE price IS NOT NULL;\n",
    "'''\n",
    "\n",
    "pd.read_sql(q1, conn)"
   ]
  },
  {
   "cell_type": "code",
   "execution_count": 34,
   "id": "99e595df-f601-4e0f-9f9b-9a440cf9abd9",
   "metadata": {},
   "outputs": [
    {
     "name": "stderr",
     "output_type": "stream",
     "text": [
      "<>:3: SyntaxWarning: invalid escape sequence '\\$'\n",
      "<>:3: SyntaxWarning: invalid escape sequence '\\$'\n",
      "/var/folders/cl/dyx4rnd54ng0d55bnxrkvyd00000gr/T/ipykernel_29517/3496628336.py:3: SyntaxWarning: invalid escape sequence '\\$'\n",
      "  .replace('[\\$,]', '', regex=True)\n"
     ]
    },
    {
     "data": {
      "text/plain": [
       "625.2935360325152"
      ]
     },
     "execution_count": 34,
     "metadata": {},
     "output_type": "execute_result"
    }
   ],
   "source": [
    "# sanity check w pandas\n",
    "df['price'] = (\n",
    "    df['price']\n",
    "    .replace('[\\$,]', '', regex=True)  \n",
    "    .replace('', np.nan)\n",
    "    .pipe(pd.to_numeric, errors='coerce') \n",
    ")\n",
    "\n",
    "df['price'].mean()"
   ]
  },
  {
   "cell_type": "code",
   "execution_count": 28,
   "id": "14673ab9-bbc4-4791-8318-01ed795755e3",
   "metadata": {},
   "outputs": [
    {
     "data": {
      "text/html": [
       "<div>\n",
       "<style scoped>\n",
       "    .dataframe tbody tr th:only-of-type {\n",
       "        vertical-align: middle;\n",
       "    }\n",
       "\n",
       "    .dataframe tbody tr th {\n",
       "        vertical-align: top;\n",
       "    }\n",
       "\n",
       "    .dataframe thead th {\n",
       "        text-align: right;\n",
       "    }\n",
       "</style>\n",
       "<table border=\"1\" class=\"dataframe\">\n",
       "  <thead>\n",
       "    <tr style=\"text-align: right;\">\n",
       "      <th></th>\n",
       "      <th>listings_no_price</th>\n",
       "    </tr>\n",
       "  </thead>\n",
       "  <tbody>\n",
       "    <tr>\n",
       "      <th>0</th>\n",
       "      <td>247</td>\n",
       "    </tr>\n",
       "  </tbody>\n",
       "</table>\n",
       "</div>"
      ],
      "text/plain": [
       "   listings_no_price\n",
       "0                247"
      ]
     },
     "execution_count": 28,
     "metadata": {},
     "output_type": "execute_result"
    }
   ],
   "source": [
    "# number of listings without price\n",
    "q2 = '''\n",
    "SELECT\n",
    "    total_listings - listings_with_price AS listings_no_price\n",
    "FROM (\n",
    "    SELECT\n",
    "        COUNT(*) AS total_listings, \n",
    "        COUNT(price) AS listings_with_price \n",
    "    FROM airbnb_data\n",
    ")\n",
    "'''\n",
    "\n",
    "pd.read_sql(q2, conn)"
   ]
  },
  {
   "cell_type": "code",
   "execution_count": 38,
   "id": "dea20164-f7b4-4a2c-9ac3-27315e248784",
   "metadata": {},
   "outputs": [
    {
     "data": {
      "text/html": [
       "<div>\n",
       "<style scoped>\n",
       "    .dataframe tbody tr th:only-of-type {\n",
       "        vertical-align: middle;\n",
       "    }\n",
       "\n",
       "    .dataframe tbody tr th {\n",
       "        vertical-align: top;\n",
       "    }\n",
       "\n",
       "    .dataframe thead th {\n",
       "        text-align: right;\n",
       "    }\n",
       "</style>\n",
       "<table border=\"1\" class=\"dataframe\">\n",
       "  <thead>\n",
       "    <tr style=\"text-align: right;\">\n",
       "      <th></th>\n",
       "      <th>listings_with_service_fee</th>\n",
       "      <th>avg_service_fee</th>\n",
       "    </tr>\n",
       "  </thead>\n",
       "  <tbody>\n",
       "    <tr>\n",
       "      <th>0</th>\n",
       "      <td>102326</td>\n",
       "      <td>125.026924</td>\n",
       "    </tr>\n",
       "  </tbody>\n",
       "</table>\n",
       "</div>"
      ],
      "text/plain": [
       "   listings_with_service_fee  avg_service_fee\n",
       "0                     102326       125.026924"
      ]
     },
     "execution_count": 38,
     "metadata": {},
     "output_type": "execute_result"
    }
   ],
   "source": [
    "# average service fee \n",
    "q3 = '''\n",
    "SELECT\n",
    "    COUNT(*) AS listings_with_service_fee,\n",
    "    AVG(CAST(REPLACE(REPLACE(`service fee`, '$', ''), ',', '') AS DECIMAL(10,2))) AS avg_service_fee\n",
    "FROM airbnb_data\n",
    "WHERE `service fee` IS NOT NULL;\n",
    "'''\n",
    "\n",
    "pd.read_sql(q3, conn)"
   ]
  },
  {
   "cell_type": "code",
   "execution_count": 33,
   "id": "dc6160b8-5cd0-4131-a8bd-66c0aec2bbae",
   "metadata": {},
   "outputs": [
    {
     "name": "stderr",
     "output_type": "stream",
     "text": [
      "<>:4: SyntaxWarning: invalid escape sequence '\\$'\n",
      "<>:4: SyntaxWarning: invalid escape sequence '\\$'\n",
      "/var/folders/cl/dyx4rnd54ng0d55bnxrkvyd00000gr/T/ipykernel_29517/3222857510.py:4: SyntaxWarning: invalid escape sequence '\\$'\n",
      "  .replace('[\\$,]', '', regex=True)\n"
     ]
    },
    {
     "data": {
      "text/plain": [
       "125.02692375349373"
      ]
     },
     "execution_count": 33,
     "metadata": {},
     "output_type": "execute_result"
    }
   ],
   "source": [
    "# sanity check w pandas\n",
    "df['service fee'] = (\n",
    "    df['service fee']\n",
    "    .replace('[\\$,]', '', regex=True)  \n",
    "    .replace('', np.nan)\n",
    "    .pipe(pd.to_numeric, errors='coerce') \n",
    ")\n",
    "\n",
    "df['service fee'].mean()"
   ]
  },
  {
   "cell_type": "code",
   "execution_count": 44,
   "id": "1a5060e4-5b61-4a0a-8ae8-30b942e1ff7e",
   "metadata": {},
   "outputs": [
    {
     "data": {
      "text/html": [
       "<div>\n",
       "<style scoped>\n",
       "    .dataframe tbody tr th:only-of-type {\n",
       "        vertical-align: middle;\n",
       "    }\n",
       "\n",
       "    .dataframe tbody tr th {\n",
       "        vertical-align: top;\n",
       "    }\n",
       "\n",
       "    .dataframe thead th {\n",
       "        text-align: right;\n",
       "    }\n",
       "</style>\n",
       "<table border=\"1\" class=\"dataframe\">\n",
       "  <thead>\n",
       "    <tr style=\"text-align: right;\">\n",
       "      <th></th>\n",
       "      <th>listings_with_both_fees</th>\n",
       "      <th>avg_total_cost</th>\n",
       "    </tr>\n",
       "  </thead>\n",
       "  <tbody>\n",
       "    <tr>\n",
       "      <th>0</th>\n",
       "      <td>102113</td>\n",
       "      <td>750.22669</td>\n",
       "    </tr>\n",
       "  </tbody>\n",
       "</table>\n",
       "</div>"
      ],
      "text/plain": [
       "   listings_with_both_fees  avg_total_cost\n",
       "0                   102113       750.22669"
      ]
     },
     "execution_count": 44,
     "metadata": {},
     "output_type": "execute_result"
    }
   ],
   "source": [
    "# average total cost\n",
    "q4 = '''\n",
    "SELECT \n",
    "    COUNT(*) AS listings_with_both_fees,\n",
    "    AVG(CAST(REPLACE(REPLACE(price, '$', ''), ',', '') AS DECIMAL(10,2)) +\n",
    "        CAST(REPLACE(REPLACE(`service fee`, '$', ''), ',', '') AS DECIMAL(10,2))) AS avg_total_cost\n",
    "FROM airbnb_data\n",
    "WHERE price IS NOT NULL AND `service fee` IS NOT NULL;\n",
    "'''\n",
    "\n",
    "pd.read_sql(q4, conn)"
   ]
  },
  {
   "cell_type": "code",
   "execution_count": 46,
   "id": "13bde17a-4a7f-480b-ae9c-fb6b70eb8b52",
   "metadata": {},
   "outputs": [
    {
     "name": "stdout",
     "output_type": "stream",
     "text": [
      "   price  service fee  total_cost\n",
      "0  966.0        193.0      1159.0\n",
      "1  142.0         28.0       170.0\n",
      "2  620.0        124.0       744.0\n"
     ]
    },
    {
     "data": {
      "text/plain": [
       "750.2266900394661"
      ]
     },
     "execution_count": 46,
     "metadata": {},
     "output_type": "execute_result"
    }
   ],
   "source": [
    "# sanity check w pandas\n",
    "df['total_cost'] = df['price']+df['service fee']\n",
    "print(df[['price', 'service fee', 'total_cost']].head(3))\n",
    "df.total_cost.mean()"
   ]
  },
  {
   "cell_type": "code",
   "execution_count": 51,
   "id": "35c3fb2f-2916-4f52-81b9-6d721f218c2f",
   "metadata": {},
   "outputs": [
    {
     "data": {
      "text/html": [
       "<div>\n",
       "<style scoped>\n",
       "    .dataframe tbody tr th:only-of-type {\n",
       "        vertical-align: middle;\n",
       "    }\n",
       "\n",
       "    .dataframe tbody tr th {\n",
       "        vertical-align: top;\n",
       "    }\n",
       "\n",
       "    .dataframe thead th {\n",
       "        text-align: right;\n",
       "    }\n",
       "</style>\n",
       "<table border=\"1\" class=\"dataframe\">\n",
       "  <thead>\n",
       "    <tr style=\"text-align: right;\">\n",
       "      <th></th>\n",
       "      <th>min_price</th>\n",
       "      <th>max_price</th>\n",
       "    </tr>\n",
       "  </thead>\n",
       "  <tbody>\n",
       "    <tr>\n",
       "      <th>0</th>\n",
       "      <td>50.0</td>\n",
       "      <td>1200.0</td>\n",
       "    </tr>\n",
       "  </tbody>\n",
       "</table>\n",
       "</div>"
      ],
      "text/plain": [
       "   min_price  max_price\n",
       "0       50.0     1200.0"
      ]
     },
     "execution_count": 51,
     "metadata": {},
     "output_type": "execute_result"
    }
   ],
   "source": [
    "# min and max price\n",
    "q5 = '''\n",
    "SELECT \n",
    "    MIN(CAST(REPLACE(REPLACE(price, '$', ''), ',', '') AS REAL)) AS min_price,\n",
    "    MAX(CAST(REPLACE(REPLACE(price, '$', ''), ',', '') AS REAL)) AS max_price\n",
    "FROM airbnb_data \n",
    "WHERE price IS NOT NULL AND CAST(REPLACE(REPLACE(price, '$', ''), ',', '') AS REAL) > 0;\n",
    "'''\n",
    "\n",
    "pd.read_sql(q5, conn)"
   ]
  },
  {
   "cell_type": "code",
   "execution_count": 56,
   "id": "4c4ccd3c-2e0a-4787-a12c-8379618fb44e",
   "metadata": {},
   "outputs": [
    {
     "data": {
      "text/html": [
       "<div>\n",
       "<style scoped>\n",
       "    .dataframe tbody tr th:only-of-type {\n",
       "        vertical-align: middle;\n",
       "    }\n",
       "\n",
       "    .dataframe tbody tr th {\n",
       "        vertical-align: top;\n",
       "    }\n",
       "\n",
       "    .dataframe thead th {\n",
       "        text-align: right;\n",
       "    }\n",
       "</style>\n",
       "<table border=\"1\" class=\"dataframe\">\n",
       "  <thead>\n",
       "    <tr style=\"text-align: right;\">\n",
       "      <th></th>\n",
       "      <th>min_service_fee</th>\n",
       "      <th>max_service_fee</th>\n",
       "    </tr>\n",
       "  </thead>\n",
       "  <tbody>\n",
       "    <tr>\n",
       "      <th>0</th>\n",
       "      <td>10.0</td>\n",
       "      <td>240.0</td>\n",
       "    </tr>\n",
       "  </tbody>\n",
       "</table>\n",
       "</div>"
      ],
      "text/plain": [
       "   min_service_fee  max_service_fee\n",
       "0             10.0            240.0"
      ]
     },
     "execution_count": 56,
     "metadata": {},
     "output_type": "execute_result"
    }
   ],
   "source": [
    "# min and max service fee\n",
    "q6 = '''\n",
    "SELECT \n",
    "    MIN(CAST(REPLACE(REPLACE(`service fee`, '$', ''), ',', '') AS REAL)) AS min_service_fee,\n",
    "    MAX(CAST(REPLACE(REPLACE(`service fee`, '$', ''), ',', '') AS REAL)) AS max_service_fee\n",
    "FROM airbnb_data \n",
    "WHERE `service fee` IS NOT NULL AND CAST(REPLACE(REPLACE(`service fee`, '$', ''), ',', '') AS REAL) > 0;\n",
    "'''\n",
    "\n",
    "pd.read_sql(q6, conn)"
   ]
  },
  {
   "cell_type": "code",
   "execution_count": 58,
   "id": "283ccf95-76d1-42e0-9cc7-23e8131171dd",
   "metadata": {},
   "outputs": [
    {
     "data": {
      "text/html": [
       "<div>\n",
       "<style scoped>\n",
       "    .dataframe tbody tr th:only-of-type {\n",
       "        vertical-align: middle;\n",
       "    }\n",
       "\n",
       "    .dataframe tbody tr th {\n",
       "        vertical-align: top;\n",
       "    }\n",
       "\n",
       "    .dataframe thead th {\n",
       "        text-align: right;\n",
       "    }\n",
       "</style>\n",
       "<table border=\"1\" class=\"dataframe\">\n",
       "  <thead>\n",
       "    <tr style=\"text-align: right;\">\n",
       "      <th></th>\n",
       "      <th>min_total_cost</th>\n",
       "      <th>max_total_cost</th>\n",
       "    </tr>\n",
       "  </thead>\n",
       "  <tbody>\n",
       "    <tr>\n",
       "      <th>0</th>\n",
       "      <td>60.0</td>\n",
       "      <td>1440.0</td>\n",
       "    </tr>\n",
       "  </tbody>\n",
       "</table>\n",
       "</div>"
      ],
      "text/plain": [
       "   min_total_cost  max_total_cost\n",
       "0            60.0          1440.0"
      ]
     },
     "execution_count": 58,
     "metadata": {},
     "output_type": "execute_result"
    }
   ],
   "source": [
    "# min and max total cost\n",
    "q7 = '''\n",
    "SELECT \n",
    "    MIN(CAST(REPLACE(REPLACE(price, '$', ''), ',', '') AS REAL) + CAST(REPLACE(REPLACE(`service fee`, '$', ''), ',', '') AS REAL)) AS min_total_cost,\n",
    "    MAX(CAST(REPLACE(REPLACE(price, '$', ''), ',', '') AS REAL) + CAST(REPLACE(REPLACE(`service fee`, '$', ''), ',', '') AS REAL)) AS max_total_cost\n",
    "FROM airbnb_data \n",
    "WHERE price IS NOT NULL AND `service fee` IS NOT NULL AND CAST(REPLACE(REPLACE(`service fee`, '$', ''), ',', '') AS REAL) > 0;\n",
    "'''\n",
    "\n",
    "pd.read_sql(q7, conn)"
   ]
  },
  {
   "cell_type": "code",
   "execution_count": 59,
   "id": "f6bb23b0-f5be-44ed-80a7-e035779dbc50",
   "metadata": {},
   "outputs": [
    {
     "data": {
      "text/plain": [
       "array(['2021-10-19T00:00:00.000000000', '2022-05-21T00:00:00.000000000',\n",
       "                                 'NaT', '2019-07-05T00:00:00.000000000',\n",
       "       '2018-11-19T00:00:00.000000000', '2019-06-22T00:00:00.000000000',\n",
       "       '2017-10-05T00:00:00.000000000', '2019-06-24T00:00:00.000000000',\n",
       "       '2017-07-21T00:00:00.000000000', '2019-06-09T00:00:00.000000000',\n",
       "       '2019-06-23T00:00:00.000000000', '2018-10-31T00:00:00.000000000',\n",
       "       '2019-06-29T00:00:00.000000000', '2019-06-28T00:00:00.000000000',\n",
       "       '2019-07-01T00:00:00.000000000', '2021-12-28T00:00:00.000000000',\n",
       "       '2019-01-01T00:00:00.000000000', '2019-07-02T00:00:00.000000000',\n",
       "       '2019-06-19T00:00:00.000000000', '2017-08-13T00:00:00.000000000',\n",
       "       '2019-06-15T00:00:00.000000000', '2019-04-19T00:00:00.000000000',\n",
       "       '2019-06-01T00:00:00.000000000', '2019-06-14T00:00:00.000000000',\n",
       "       '2019-05-12T00:00:00.000000000', '2019-06-21T00:00:00.000000000',\n",
       "       '2019-05-27T00:00:00.000000000', '2018-09-30T00:00:00.000000000',\n",
       "       '2019-06-16T00:00:00.000000000', '2019-06-13T00:00:00.000000000',\n",
       "       '2019-06-05T00:00:00.000000000', '2019-05-25T00:00:00.000000000',\n",
       "       '2017-01-01T00:00:00.000000000', '2019-06-17T00:00:00.000000000',\n",
       "       '2019-07-07T00:00:00.000000000', '2019-05-17T00:00:00.000000000',\n",
       "       '2019-03-25T00:00:00.000000000', '2019-05-18T00:00:00.000000000',\n",
       "       '2019-06-04T00:00:00.000000000', '2019-06-30T00:00:00.000000000',\n",
       "       '2018-11-03T00:00:00.000000000', '2019-03-30T00:00:00.000000000',\n",
       "       '2019-01-26T00:00:00.000000000', '2017-09-30T00:00:00.000000000',\n",
       "       '2017-09-24T00:00:00.000000000', '2018-05-14T00:00:00.000000000',\n",
       "       '2019-06-18T00:00:00.000000000', '2019-06-26T00:00:00.000000000',\n",
       "       '2019-01-02T00:00:00.000000000', '2019-07-06T00:00:00.000000000'],\n",
       "      dtype='datetime64[ns]')"
      ]
     },
     "execution_count": 59,
     "metadata": {},
     "output_type": "execute_result"
    }
   ],
   "source": [
    "df['last review'].unique()[:50]"
   ]
  },
  {
   "cell_type": "code",
   "execution_count": 68,
   "id": "5459559e-7942-4480-a339-8a6eeb8c5acb",
   "metadata": {},
   "outputs": [
    {
     "name": "stdout",
     "output_type": "stream",
     "text": [
      "          id                              NAME      host id  \\\n",
      "255  1142173       Beautiful Landmarked Duplex  87944779917   \n",
      "318  1176967                               NaN  70084472212   \n",
      "483  1268097  Modern Space in Charming Pre-war  13746585241   \n",
      "\n",
      "    host_identity_verified host name neighbourhood group neighbourhood  \\\n",
      "255                    NaN     Baker            Brooklyn    Greenpoint   \n",
      "318               verified    Barnes            Brooklyn    Greenpoint   \n",
      "483               verified  Adelaide           Manhattan        Harlem   \n",
      "\n",
      "          lat      long        country  ... service fee minimum nights  \\\n",
      "255  40.72945 -73.95511  United States  ...       $168             3.0   \n",
      "318  40.72488 -73.95018  United States  ...       $184             2.0   \n",
      "483  40.82411 -73.94934  United States  ...       $144             2.0   \n",
      "\n",
      "    number of reviews last review  reviews per month review rate number  \\\n",
      "255             124.0  2058-06-16               1.22                4.0   \n",
      "318               1.0  2026-03-28               0.01                3.0   \n",
      "483              41.0  2040-06-16               0.43                3.0   \n",
      "\n",
      "    calculated host listings count  availability 365  \\\n",
      "255                            3.0             230.0   \n",
      "318                            1.0              73.0   \n",
      "483                            2.0              47.0   \n",
      "\n",
      "                                           house_rules license  \n",
      "255  No rules per say. I just ask that you respect ...     NaN  \n",
      "318  Check-In is 3pm.  Check-Out is 12 Noon.  In or...     NaN  \n",
      "483                                                NaN     NaN  \n",
      "\n",
      "[3 rows x 26 columns]\n"
     ]
    },
    {
     "data": {
      "text/html": [
       "<div>\n",
       "<style scoped>\n",
       "    .dataframe tbody tr th:only-of-type {\n",
       "        vertical-align: middle;\n",
       "    }\n",
       "\n",
       "    .dataframe tbody tr th {\n",
       "        vertical-align: top;\n",
       "    }\n",
       "\n",
       "    .dataframe thead th {\n",
       "        text-align: right;\n",
       "    }\n",
       "</style>\n",
       "<table border=\"1\" class=\"dataframe\">\n",
       "  <thead>\n",
       "    <tr style=\"text-align: right;\">\n",
       "      <th></th>\n",
       "      <th>id</th>\n",
       "      <th>NAME</th>\n",
       "      <th>host id</th>\n",
       "      <th>host_identity_verified</th>\n",
       "      <th>host name</th>\n",
       "      <th>neighbourhood group</th>\n",
       "      <th>neighbourhood</th>\n",
       "      <th>lat</th>\n",
       "      <th>long</th>\n",
       "      <th>country</th>\n",
       "      <th>...</th>\n",
       "      <th>service fee</th>\n",
       "      <th>minimum nights</th>\n",
       "      <th>number of reviews</th>\n",
       "      <th>last review</th>\n",
       "      <th>reviews per month</th>\n",
       "      <th>review rate number</th>\n",
       "      <th>calculated host listings count</th>\n",
       "      <th>availability 365</th>\n",
       "      <th>house_rules</th>\n",
       "      <th>license</th>\n",
       "    </tr>\n",
       "  </thead>\n",
       "  <tbody>\n",
       "    <tr>\n",
       "      <th>255</th>\n",
       "      <td>1142173</td>\n",
       "      <td>Beautiful Landmarked Duplex</td>\n",
       "      <td>87944779917</td>\n",
       "      <td>NaN</td>\n",
       "      <td>Baker</td>\n",
       "      <td>Brooklyn</td>\n",
       "      <td>Greenpoint</td>\n",
       "      <td>40.72945</td>\n",
       "      <td>-73.95511</td>\n",
       "      <td>United States</td>\n",
       "      <td>...</td>\n",
       "      <td>$168</td>\n",
       "      <td>3.0</td>\n",
       "      <td>124.0</td>\n",
       "      <td>2058-06-16</td>\n",
       "      <td>1.22</td>\n",
       "      <td>4.0</td>\n",
       "      <td>3.0</td>\n",
       "      <td>230.0</td>\n",
       "      <td>No rules per say. I just ask that you respect ...</td>\n",
       "      <td>NaN</td>\n",
       "    </tr>\n",
       "    <tr>\n",
       "      <th>483</th>\n",
       "      <td>1268097</td>\n",
       "      <td>Modern Space in Charming Pre-war</td>\n",
       "      <td>13746585241</td>\n",
       "      <td>verified</td>\n",
       "      <td>Adelaide</td>\n",
       "      <td>Manhattan</td>\n",
       "      <td>Harlem</td>\n",
       "      <td>40.82411</td>\n",
       "      <td>-73.94934</td>\n",
       "      <td>United States</td>\n",
       "      <td>...</td>\n",
       "      <td>$144</td>\n",
       "      <td>2.0</td>\n",
       "      <td>41.0</td>\n",
       "      <td>2040-06-16</td>\n",
       "      <td>0.43</td>\n",
       "      <td>3.0</td>\n",
       "      <td>2.0</td>\n",
       "      <td>47.0</td>\n",
       "      <td>NaN</td>\n",
       "      <td>NaN</td>\n",
       "    </tr>\n",
       "  </tbody>\n",
       "</table>\n",
       "<p>2 rows × 26 columns</p>\n",
       "</div>"
      ],
      "text/plain": [
       "          id                              NAME      host id  \\\n",
       "255  1142173       Beautiful Landmarked Duplex  87944779917   \n",
       "483  1268097  Modern Space in Charming Pre-war  13746585241   \n",
       "\n",
       "    host_identity_verified host name neighbourhood group neighbourhood  \\\n",
       "255                    NaN     Baker            Brooklyn    Greenpoint   \n",
       "483               verified  Adelaide           Manhattan        Harlem   \n",
       "\n",
       "          lat      long        country  ... service fee minimum nights  \\\n",
       "255  40.72945 -73.95511  United States  ...       $168             3.0   \n",
       "483  40.82411 -73.94934  United States  ...       $144             2.0   \n",
       "\n",
       "    number of reviews last review  reviews per month review rate number  \\\n",
       "255             124.0  2058-06-16               1.22                4.0   \n",
       "483              41.0  2040-06-16               0.43                3.0   \n",
       "\n",
       "    calculated host listings count  availability 365  \\\n",
       "255                            3.0             230.0   \n",
       "483                            2.0              47.0   \n",
       "\n",
       "                                           house_rules license  \n",
       "255  No rules per say. I just ask that you respect ...     NaN  \n",
       "483                                                NaN     NaN  \n",
       "\n",
       "[2 rows x 26 columns]"
      ]
     },
     "execution_count": 68,
     "metadata": {},
     "output_type": "execute_result"
    }
   ],
   "source": [
    "# find bad date rows, those in the future\n",
    "bad = df[df['last review'] > pd.Timestamp.today()]\n",
    "print(bad)\n",
    "\n",
    "df[df['last review'].isin([pd.Timestamp('2058-06-16'), pd.Timestamp('2040-06-16'), pd.Timestamp('2026-03-28')])]"
   ]
  },
  {
   "cell_type": "code",
   "execution_count": 69,
   "id": "569bd943-f39e-472e-8f64-d0dcbd477892",
   "metadata": {},
   "outputs": [
    {
     "name": "stdout",
     "output_type": "stream",
     "text": [
      "Earliest date: 2012-07-11 00:00:00\n",
      "Latest date: 2025-06-26 00:00:00\n",
      "Date range: 4733 days 00:00:00\n"
     ]
    }
   ],
   "source": [
    "# convert to datetime \n",
    "df['last review'] = pd.to_datetime(df['last review'], errors='coerce')\n",
    "\n",
    "# then get earliest and latest\n",
    "earliest = df[~df['last review'].isin([pd.Timestamp('2058-06-16'), pd.Timestamp('2040-06-16'), pd.Timestamp('2026-03-28')])]['last review'].min()\n",
    "latest = df[~df['last review'].isin([pd.Timestamp('2058-06-16'), pd.Timestamp('2040-06-16'), pd.Timestamp('2026-03-28')])]['last review'].max()\n",
    "date_range = latest - earliest\n",
    "\n",
    "print(\"Earliest date:\", earliest)\n",
    "print(\"Latest date:\", latest)\n",
    "print(\"Date range:\", date_range)"
   ]
  },
  {
   "cell_type": "markdown",
   "id": "0f279b2a-f0f3-4c31-8f2b-f58fce4546e3",
   "metadata": {},
   "source": [
    "# Data Analysis"
   ]
  },
  {
   "cell_type": "markdown",
   "id": "d0d8b6eb-5e94-49d7-9682-470fe6a1fd36",
   "metadata": {},
   "source": [
    "## Geographic pricing"
   ]
  },
  {
   "cell_type": "markdown",
   "id": "5a0c188c-5941-4228-a85e-061c24a2de95",
   "metadata": {},
   "source": [
    "### Average price by borough"
   ]
  },
  {
   "cell_type": "code",
   "execution_count": 71,
   "id": "2ed7f122-371c-4a02-8df9-c861ecfb7490",
   "metadata": {},
   "outputs": [
    {
     "data": {
      "text/html": [
       "<div>\n",
       "<style scoped>\n",
       "    .dataframe tbody tr th:only-of-type {\n",
       "        vertical-align: middle;\n",
       "    }\n",
       "\n",
       "    .dataframe tbody tr th {\n",
       "        vertical-align: top;\n",
       "    }\n",
       "\n",
       "    .dataframe thead th {\n",
       "        text-align: right;\n",
       "    }\n",
       "</style>\n",
       "<table border=\"1\" class=\"dataframe\">\n",
       "  <thead>\n",
       "    <tr style=\"text-align: right;\">\n",
       "      <th></th>\n",
       "      <th>neighbourhood group</th>\n",
       "      <th>listings_count</th>\n",
       "      <th>avg_price</th>\n",
       "      <th>min_price</th>\n",
       "      <th>max_price</th>\n",
       "    </tr>\n",
       "  </thead>\n",
       "  <tbody>\n",
       "    <tr>\n",
       "      <th>0</th>\n",
       "      <td>Queens</td>\n",
       "      <td>13234</td>\n",
       "      <td>630.207647</td>\n",
       "      <td>50.0</td>\n",
       "      <td>1200.0</td>\n",
       "    </tr>\n",
       "    <tr>\n",
       "      <th>1</th>\n",
       "      <td>Bronx</td>\n",
       "      <td>2705</td>\n",
       "      <td>627.766359</td>\n",
       "      <td>50.0</td>\n",
       "      <td>1200.0</td>\n",
       "    </tr>\n",
       "    <tr>\n",
       "      <th>2</th>\n",
       "      <td>Brooklyn</td>\n",
       "      <td>41750</td>\n",
       "      <td>626.561078</td>\n",
       "      <td>50.0</td>\n",
       "      <td>1200.0</td>\n",
       "    </tr>\n",
       "    <tr>\n",
       "      <th>3</th>\n",
       "      <td>Staten Island</td>\n",
       "      <td>952</td>\n",
       "      <td>624.490546</td>\n",
       "      <td>50.0</td>\n",
       "      <td>1200.0</td>\n",
       "    </tr>\n",
       "    <tr>\n",
       "      <th>4</th>\n",
       "      <td>Manhattan</td>\n",
       "      <td>43683</td>\n",
       "      <td>622.436508</td>\n",
       "      <td>50.0</td>\n",
       "      <td>1200.0</td>\n",
       "    </tr>\n",
       "  </tbody>\n",
       "</table>\n",
       "</div>"
      ],
      "text/plain": [
       "  neighbourhood group  listings_count   avg_price  min_price  max_price\n",
       "0              Queens           13234  630.207647       50.0     1200.0\n",
       "1               Bronx            2705  627.766359       50.0     1200.0\n",
       "2            Brooklyn           41750  626.561078       50.0     1200.0\n",
       "3       Staten Island             952  624.490546       50.0     1200.0\n",
       "4           Manhattan           43683  622.436508       50.0     1200.0"
      ]
     },
     "execution_count": 71,
     "metadata": {},
     "output_type": "execute_result"
    }
   ],
   "source": [
    "q8 = '''\n",
    "SELECT \n",
    "    `neighbourhood group`,\n",
    "    COUNT(*) AS listings_count,\n",
    "    AVG(CAST(REPLACE(REPLACE(price, '$', ''), ',', '') AS REAL)) AS avg_price,\n",
    "    MIN(CAST(REPLACE(REPLACE(price, '$', ''), ',', '') AS REAL)) AS min_price,\n",
    "    MAX(CAST(REPLACE(REPLACE(price, '$', ''), ',', '') AS REAL)) AS max_price\n",
    "FROM airbnb_data \n",
    "WHERE price IS NOT NULL AND `neighbourhood group` IS NOT NULL AND CAST(REPLACE(REPLACE(price, '$', ''), ',', '') AS REAL) > 0\n",
    "GROUP BY `neighbourhood group`\n",
    "ORDER BY avg_price DESC;\n",
    "'''\n",
    "pd.read_sql(q8, conn)\n",
    "\n",
    "# manhattan has the most listings, but Queens is the most expensive, on average"
   ]
  },
  {
   "cell_type": "code",
   "execution_count": 79,
   "id": "ba3d275e-776c-4589-a6f2-4e24b436f617",
   "metadata": {},
   "outputs": [
    {
     "data": {
      "text/plain": [
       "1200.0"
      ]
     },
     "execution_count": 79,
     "metadata": {},
     "output_type": "execute_result"
    }
   ],
   "source": [
    "df[df['neighbourhood group']=='Manhattan']['price'].max()"
   ]
  },
  {
   "cell_type": "markdown",
   "id": "8a1956d9-fba6-4a58-8289-7e25ae682c07",
   "metadata": {},
   "source": [
    "### Average service fee by borough"
   ]
  },
  {
   "cell_type": "code",
   "execution_count": 82,
   "id": "b55fd53a-2f1f-4764-800b-30f8fc986d58",
   "metadata": {},
   "outputs": [
    {
     "data": {
      "text/html": [
       "<div>\n",
       "<style scoped>\n",
       "    .dataframe tbody tr th:only-of-type {\n",
       "        vertical-align: middle;\n",
       "    }\n",
       "\n",
       "    .dataframe tbody tr th {\n",
       "        vertical-align: top;\n",
       "    }\n",
       "\n",
       "    .dataframe thead th {\n",
       "        text-align: right;\n",
       "    }\n",
       "</style>\n",
       "<table border=\"1\" class=\"dataframe\">\n",
       "  <thead>\n",
       "    <tr style=\"text-align: right;\">\n",
       "      <th></th>\n",
       "      <th>neighbourhood group</th>\n",
       "      <th>listings_count</th>\n",
       "      <th>avg_service_fee</th>\n",
       "      <th>min_service_fee</th>\n",
       "      <th>max_service_fee</th>\n",
       "    </tr>\n",
       "  </thead>\n",
       "  <tbody>\n",
       "    <tr>\n",
       "      <th>0</th>\n",
       "      <td>Queens</td>\n",
       "      <td>13201</td>\n",
       "      <td>126.025150</td>\n",
       "      <td>10.0</td>\n",
       "      <td>240.0</td>\n",
       "    </tr>\n",
       "    <tr>\n",
       "      <th>1</th>\n",
       "      <td>Bronx</td>\n",
       "      <td>2700</td>\n",
       "      <td>125.541481</td>\n",
       "      <td>10.0</td>\n",
       "      <td>240.0</td>\n",
       "    </tr>\n",
       "    <tr>\n",
       "      <th>2</th>\n",
       "      <td>Brooklyn</td>\n",
       "      <td>41649</td>\n",
       "      <td>125.265961</td>\n",
       "      <td>10.0</td>\n",
       "      <td>240.0</td>\n",
       "    </tr>\n",
       "    <tr>\n",
       "      <th>3</th>\n",
       "      <td>Staten Island</td>\n",
       "      <td>950</td>\n",
       "      <td>124.858947</td>\n",
       "      <td>10.0</td>\n",
       "      <td>240.0</td>\n",
       "    </tr>\n",
       "    <tr>\n",
       "      <th>4</th>\n",
       "      <td>Manhattan</td>\n",
       "      <td>43585</td>\n",
       "      <td>124.490559</td>\n",
       "      <td>10.0</td>\n",
       "      <td>240.0</td>\n",
       "    </tr>\n",
       "  </tbody>\n",
       "</table>\n",
       "</div>"
      ],
      "text/plain": [
       "  neighbourhood group  listings_count  avg_service_fee  min_service_fee  \\\n",
       "0              Queens           13201       126.025150             10.0   \n",
       "1               Bronx            2700       125.541481             10.0   \n",
       "2            Brooklyn           41649       125.265961             10.0   \n",
       "3       Staten Island             950       124.858947             10.0   \n",
       "4           Manhattan           43585       124.490559             10.0   \n",
       "\n",
       "   max_service_fee  \n",
       "0            240.0  \n",
       "1            240.0  \n",
       "2            240.0  \n",
       "3            240.0  \n",
       "4            240.0  "
      ]
     },
     "execution_count": 82,
     "metadata": {},
     "output_type": "execute_result"
    }
   ],
   "source": [
    "q9 = '''\n",
    "SELECT \n",
    "    `neighbourhood group`,\n",
    "    COUNT(*) AS listings_count,\n",
    "    AVG(CAST(REPLACE(REPLACE(`service fee`, '$', ''), ',', '') AS REAL)) AS avg_service_fee,\n",
    "    MIN(CAST(REPLACE(REPLACE(`service fee`, '$', ''), ',', '') AS REAL)) AS min_service_fee,\n",
    "    MAX(CAST(REPLACE(REPLACE(`service fee`, '$', ''), ',', '') AS REAL)) AS max_service_fee\n",
    "FROM airbnb_data \n",
    "WHERE `service fee` IS NOT NULL AND `neighbourhood group` IS NOT NULL AND CAST(REPLACE(REPLACE(price, '$', ''), ',', '') AS REAL) > 0\n",
    "GROUP BY `neighbourhood group`\n",
    "ORDER BY avg_service_fee DESC;\n",
    "'''\n",
    "pd.read_sql(q9, conn)\n",
    "\n",
    "# manhattan has the most listings, but Queens is still the most expensive, on average"
   ]
  },
  {
   "cell_type": "markdown",
   "id": "f4539281-fe58-4380-9573-f492d022b1ee",
   "metadata": {},
   "source": [
    "### Average total cost by borough"
   ]
  },
  {
   "cell_type": "code",
   "execution_count": 84,
   "id": "1e828e29-c0c6-4a8a-a170-22ba13657d8d",
   "metadata": {},
   "outputs": [
    {
     "data": {
      "text/html": [
       "<div>\n",
       "<style scoped>\n",
       "    .dataframe tbody tr th:only-of-type {\n",
       "        vertical-align: middle;\n",
       "    }\n",
       "\n",
       "    .dataframe tbody tr th {\n",
       "        vertical-align: top;\n",
       "    }\n",
       "\n",
       "    .dataframe thead th {\n",
       "        text-align: right;\n",
       "    }\n",
       "</style>\n",
       "<table border=\"1\" class=\"dataframe\">\n",
       "  <thead>\n",
       "    <tr style=\"text-align: right;\">\n",
       "      <th></th>\n",
       "      <th>neighbourhood group</th>\n",
       "      <th>listings_count</th>\n",
       "      <th>avg_total_cost</th>\n",
       "      <th>min_total_cost</th>\n",
       "      <th>max_total_cost</th>\n",
       "    </tr>\n",
       "  </thead>\n",
       "  <tbody>\n",
       "    <tr>\n",
       "      <th>0</th>\n",
       "      <td>Queens</td>\n",
       "      <td>13201</td>\n",
       "      <td>756.154003</td>\n",
       "      <td>60.0</td>\n",
       "      <td>1440.0</td>\n",
       "    </tr>\n",
       "    <tr>\n",
       "      <th>1</th>\n",
       "      <td>Bronx</td>\n",
       "      <td>2700</td>\n",
       "      <td>753.220000</td>\n",
       "      <td>60.0</td>\n",
       "      <td>1440.0</td>\n",
       "    </tr>\n",
       "    <tr>\n",
       "      <th>2</th>\n",
       "      <td>Brooklyn</td>\n",
       "      <td>41649</td>\n",
       "      <td>751.591371</td>\n",
       "      <td>60.0</td>\n",
       "      <td>1440.0</td>\n",
       "    </tr>\n",
       "    <tr>\n",
       "      <th>3</th>\n",
       "      <td>Staten Island</td>\n",
       "      <td>950</td>\n",
       "      <td>749.147368</td>\n",
       "      <td>60.0</td>\n",
       "      <td>1440.0</td>\n",
       "    </tr>\n",
       "    <tr>\n",
       "      <th>4</th>\n",
       "      <td>Manhattan</td>\n",
       "      <td>43585</td>\n",
       "      <td>746.939888</td>\n",
       "      <td>60.0</td>\n",
       "      <td>1440.0</td>\n",
       "    </tr>\n",
       "  </tbody>\n",
       "</table>\n",
       "</div>"
      ],
      "text/plain": [
       "  neighbourhood group  listings_count  avg_total_cost  min_total_cost  \\\n",
       "0              Queens           13201      756.154003            60.0   \n",
       "1               Bronx            2700      753.220000            60.0   \n",
       "2            Brooklyn           41649      751.591371            60.0   \n",
       "3       Staten Island             950      749.147368            60.0   \n",
       "4           Manhattan           43585      746.939888            60.0   \n",
       "\n",
       "   max_total_cost  \n",
       "0          1440.0  \n",
       "1          1440.0  \n",
       "2          1440.0  \n",
       "3          1440.0  \n",
       "4          1440.0  "
      ]
     },
     "execution_count": 84,
     "metadata": {},
     "output_type": "execute_result"
    }
   ],
   "source": [
    "q10 = '''\n",
    "SELECT \n",
    "    `neighbourhood group`,\n",
    "    COUNT(*) AS listings_count,\n",
    "    AVG(CAST(REPLACE(REPLACE(price, '$', ''), ',', '') AS REAL) + CAST(REPLACE(REPLACE(`service fee`, '$', ''), ',', '') AS REAL)) AS avg_total_cost,\n",
    "    MIN(CAST(REPLACE(REPLACE(price, '$', ''), ',', '') AS REAL) + CAST(REPLACE(REPLACE(`service fee`, '$', ''), ',', '') AS REAL)) AS min_total_cost,\n",
    "    MAX(CAST(REPLACE(REPLACE(price, '$', ''), ',', '') AS REAL) + CAST(REPLACE(REPLACE(`service fee`, '$', ''), ',', '') AS REAL)) AS max_total_cost\n",
    "FROM airbnb_data \n",
    "WHERE `service fee` IS NOT NULL AND price IS NOT NULL AND `neighbourhood group` IS NOT NULL AND CAST(REPLACE(REPLACE(price, '$', ''), ',', '') AS REAL) > 0\n",
    "GROUP BY `neighbourhood group`\n",
    "ORDER BY avg_total_cost DESC;\n",
    "'''\n",
    "pd.read_sql(q10, conn)\n",
    "\n",
    "# manhattan has the most listings, but Queens is still the most expensive, on average"
   ]
  },
  {
   "cell_type": "markdown",
   "id": "4cb43a1c-8ce8-4e90-8d0a-b2d259a567f3",
   "metadata": {},
   "source": [
    "## Property features and pricing"
   ]
  },
  {
   "cell_type": "markdown",
   "id": "a2840a44-72d8-443c-810a-761f41715e10",
   "metadata": {},
   "source": [
    "### Average price per room type"
   ]
  },
  {
   "cell_type": "code",
   "execution_count": 91,
   "id": "e87359ca-569d-4dda-b15c-7f6d22e1b6bd",
   "metadata": {},
   "outputs": [
    {
     "data": {
      "text/html": [
       "<div>\n",
       "<style scoped>\n",
       "    .dataframe tbody tr th:only-of-type {\n",
       "        vertical-align: middle;\n",
       "    }\n",
       "\n",
       "    .dataframe tbody tr th {\n",
       "        vertical-align: top;\n",
       "    }\n",
       "\n",
       "    .dataframe thead th {\n",
       "        text-align: right;\n",
       "    }\n",
       "</style>\n",
       "<table border=\"1\" class=\"dataframe\">\n",
       "  <thead>\n",
       "    <tr style=\"text-align: right;\">\n",
       "      <th></th>\n",
       "      <th>room type</th>\n",
       "      <th>listings_count</th>\n",
       "      <th>avg_daily_price</th>\n",
       "      <th>avg_total_cost</th>\n",
       "    </tr>\n",
       "  </thead>\n",
       "  <tbody>\n",
       "    <tr>\n",
       "      <th>0</th>\n",
       "      <td>Hotel room</td>\n",
       "      <td>114</td>\n",
       "      <td>663.561404</td>\n",
       "      <td>796.280702</td>\n",
       "    </tr>\n",
       "    <tr>\n",
       "      <th>1</th>\n",
       "      <td>Shared room</td>\n",
       "      <td>2215</td>\n",
       "      <td>633.967494</td>\n",
       "      <td>760.759368</td>\n",
       "    </tr>\n",
       "    <tr>\n",
       "      <th>2</th>\n",
       "      <td>Private room</td>\n",
       "      <td>46330</td>\n",
       "      <td>624.958990</td>\n",
       "      <td>749.949881</td>\n",
       "    </tr>\n",
       "    <tr>\n",
       "      <th>3</th>\n",
       "      <td>Entire home/apt</td>\n",
       "      <td>53454</td>\n",
       "      <td>624.941408</td>\n",
       "      <td>749.931941</td>\n",
       "    </tr>\n",
       "  </tbody>\n",
       "</table>\n",
       "</div>"
      ],
      "text/plain": [
       "         room type  listings_count  avg_daily_price  avg_total_cost\n",
       "0       Hotel room             114       663.561404      796.280702\n",
       "1      Shared room            2215       633.967494      760.759368\n",
       "2     Private room           46330       624.958990      749.949881\n",
       "3  Entire home/apt           53454       624.941408      749.931941"
      ]
     },
     "execution_count": 91,
     "metadata": {},
     "output_type": "execute_result"
    }
   ],
   "source": [
    "q11 = '''\n",
    "SELECT \n",
    "    `room type`,\n",
    "    COUNT(*) AS listings_count,\n",
    "    AVG(CAST(REPLACE(REPLACE(price, '$', ''), ',', '') AS REAL)) AS avg_daily_price,\n",
    "    AVG(CAST(REPLACE(REPLACE(price, '$', ''), ',', '') AS REAL) + CAST(REPLACE(REPLACE(`service fee`, '$', ''), ',', '') AS REAL)) AS avg_total_cost\n",
    "FROM airbnb_data \n",
    "WHERE price IS NOT NULL AND `service fee` IS NOT NULL AND `room type` IS NOT NULL AND CAST(REPLACE(REPLACE(price, '$', ''), ',', '') AS REAL) > 0\n",
    "GROUP BY `room type`\n",
    "ORDER BY avg_daily_price DESC;\n",
    "'''\n",
    "\n",
    "pd.read_sql(q11, conn)"
   ]
  },
  {
   "cell_type": "markdown",
   "id": "be5fede8-cb1e-4766-b6af-59b497f1e6e3",
   "metadata": {},
   "source": [
    "### Room type/Location interaction"
   ]
  },
  {
   "cell_type": "code",
   "execution_count": 88,
   "id": "e0d2af29-eecd-42d7-803c-b55b00a41198",
   "metadata": {},
   "outputs": [
    {
     "data": {
      "text/html": [
       "<div>\n",
       "<style scoped>\n",
       "    .dataframe tbody tr th:only-of-type {\n",
       "        vertical-align: middle;\n",
       "    }\n",
       "\n",
       "    .dataframe tbody tr th {\n",
       "        vertical-align: top;\n",
       "    }\n",
       "\n",
       "    .dataframe thead th {\n",
       "        text-align: right;\n",
       "    }\n",
       "</style>\n",
       "<table border=\"1\" class=\"dataframe\">\n",
       "  <thead>\n",
       "    <tr style=\"text-align: right;\">\n",
       "      <th></th>\n",
       "      <th>neighbourhood group</th>\n",
       "      <th>room type</th>\n",
       "      <th>listings</th>\n",
       "      <th>avg_price</th>\n",
       "    </tr>\n",
       "  </thead>\n",
       "  <tbody>\n",
       "    <tr>\n",
       "      <th>0</th>\n",
       "      <td>Bronx</td>\n",
       "      <td>Private room</td>\n",
       "      <td>1569</td>\n",
       "      <td>634.710644</td>\n",
       "    </tr>\n",
       "    <tr>\n",
       "      <th>1</th>\n",
       "      <td>Bronx</td>\n",
       "      <td>Entire home/apt</td>\n",
       "      <td>1019</td>\n",
       "      <td>620.232581</td>\n",
       "    </tr>\n",
       "    <tr>\n",
       "      <th>2</th>\n",
       "      <td>Bronx</td>\n",
       "      <td>Shared room</td>\n",
       "      <td>117</td>\n",
       "      <td>600.256410</td>\n",
       "    </tr>\n",
       "    <tr>\n",
       "      <th>3</th>\n",
       "      <td>Brooklyn</td>\n",
       "      <td>Hotel room</td>\n",
       "      <td>8</td>\n",
       "      <td>736.125000</td>\n",
       "    </tr>\n",
       "    <tr>\n",
       "      <th>4</th>\n",
       "      <td>Brooklyn</td>\n",
       "      <td>Shared room</td>\n",
       "      <td>820</td>\n",
       "      <td>634.317073</td>\n",
       "    </tr>\n",
       "    <tr>\n",
       "      <th>5</th>\n",
       "      <td>Brooklyn</td>\n",
       "      <td>Entire home/apt</td>\n",
       "      <td>20532</td>\n",
       "      <td>626.896406</td>\n",
       "    </tr>\n",
       "    <tr>\n",
       "      <th>6</th>\n",
       "      <td>Brooklyn</td>\n",
       "      <td>Private room</td>\n",
       "      <td>20390</td>\n",
       "      <td>625.868514</td>\n",
       "    </tr>\n",
       "    <tr>\n",
       "      <th>7</th>\n",
       "      <td>Manhattan</td>\n",
       "      <td>Hotel room</td>\n",
       "      <td>100</td>\n",
       "      <td>681.870000</td>\n",
       "    </tr>\n",
       "    <tr>\n",
       "      <th>8</th>\n",
       "      <td>Manhattan</td>\n",
       "      <td>Shared room</td>\n",
       "      <td>904</td>\n",
       "      <td>632.522124</td>\n",
       "    </tr>\n",
       "    <tr>\n",
       "      <th>9</th>\n",
       "      <td>Manhattan</td>\n",
       "      <td>Entire home/apt</td>\n",
       "      <td>26401</td>\n",
       "      <td>623.147570</td>\n",
       "    </tr>\n",
       "    <tr>\n",
       "      <th>10</th>\n",
       "      <td>Manhattan</td>\n",
       "      <td>Private room</td>\n",
       "      <td>16278</td>\n",
       "      <td>620.358029</td>\n",
       "    </tr>\n",
       "    <tr>\n",
       "      <th>11</th>\n",
       "      <td>Queens</td>\n",
       "      <td>Shared room</td>\n",
       "      <td>362</td>\n",
       "      <td>645.306630</td>\n",
       "    </tr>\n",
       "    <tr>\n",
       "      <th>12</th>\n",
       "      <td>Queens</td>\n",
       "      <td>Private room</td>\n",
       "      <td>7731</td>\n",
       "      <td>631.813996</td>\n",
       "    </tr>\n",
       "    <tr>\n",
       "      <th>13</th>\n",
       "      <td>Queens</td>\n",
       "      <td>Entire home/apt</td>\n",
       "      <td>5133</td>\n",
       "      <td>627.030392</td>\n",
       "    </tr>\n",
       "    <tr>\n",
       "      <th>14</th>\n",
       "      <td>Queens</td>\n",
       "      <td>Hotel room</td>\n",
       "      <td>8</td>\n",
       "      <td>433.250000</td>\n",
       "    </tr>\n",
       "    <tr>\n",
       "      <th>15</th>\n",
       "      <td>Staten Island</td>\n",
       "      <td>Shared room</td>\n",
       "      <td>15</td>\n",
       "      <td>715.600000</td>\n",
       "    </tr>\n",
       "    <tr>\n",
       "      <th>16</th>\n",
       "      <td>Staten Island</td>\n",
       "      <td>Entire home/apt</td>\n",
       "      <td>473</td>\n",
       "      <td>642.192389</td>\n",
       "    </tr>\n",
       "    <tr>\n",
       "      <th>17</th>\n",
       "      <td>Staten Island</td>\n",
       "      <td>Private room</td>\n",
       "      <td>464</td>\n",
       "      <td>603.500000</td>\n",
       "    </tr>\n",
       "  </tbody>\n",
       "</table>\n",
       "</div>"
      ],
      "text/plain": [
       "   neighbourhood group        room type  listings   avg_price\n",
       "0                Bronx     Private room      1569  634.710644\n",
       "1                Bronx  Entire home/apt      1019  620.232581\n",
       "2                Bronx      Shared room       117  600.256410\n",
       "3             Brooklyn       Hotel room         8  736.125000\n",
       "4             Brooklyn      Shared room       820  634.317073\n",
       "5             Brooklyn  Entire home/apt     20532  626.896406\n",
       "6             Brooklyn     Private room     20390  625.868514\n",
       "7            Manhattan       Hotel room       100  681.870000\n",
       "8            Manhattan      Shared room       904  632.522124\n",
       "9            Manhattan  Entire home/apt     26401  623.147570\n",
       "10           Manhattan     Private room     16278  620.358029\n",
       "11              Queens      Shared room       362  645.306630\n",
       "12              Queens     Private room      7731  631.813996\n",
       "13              Queens  Entire home/apt      5133  627.030392\n",
       "14              Queens       Hotel room         8  433.250000\n",
       "15       Staten Island      Shared room        15  715.600000\n",
       "16       Staten Island  Entire home/apt       473  642.192389\n",
       "17       Staten Island     Private room       464  603.500000"
      ]
     },
     "execution_count": 88,
     "metadata": {},
     "output_type": "execute_result"
    }
   ],
   "source": [
    "# room type breakdown by borough\n",
    "q_room_type = '''\n",
    "SELECT \n",
    "    `neighbourhood group`,\n",
    "    `room type`,\n",
    "    COUNT(*) AS listings,\n",
    "    AVG(CAST(REPLACE(REPLACE(price, '$', ''), ',', '') AS REAL)) AS avg_price\n",
    "FROM airbnb_data \n",
    "WHERE price IS NOT NULL \n",
    "    AND `neighbourhood group` IS NOT NULL\n",
    "    AND `room type` IS NOT NULL\n",
    "    AND CAST(REPLACE(REPLACE(price, '$', ''), ',', '') AS REAL) > 0\n",
    "GROUP BY `neighbourhood group`, `room type`\n",
    "ORDER BY `neighbourhood group`, avg_price DESC;\n",
    "'''\n",
    "\n",
    "pd.read_sql(q_room_type, conn)\n",
    "\n",
    "# room type is a bigger influence on price than location"
   ]
  },
  {
   "cell_type": "markdown",
   "id": "6723aa69-40ca-4f51-a8b5-ffd34135f38c",
   "metadata": {},
   "source": [
    "### A/B Test: Pricing difference between newer and older homes"
   ]
  },
  {
   "cell_type": "code",
   "execution_count": 96,
   "id": "df8c1929-fcfe-4187-890c-2e5983c001b8",
   "metadata": {},
   "outputs": [
    {
     "name": "stdout",
     "output_type": "stream",
     "text": [
      "oldest year:  2003.0\n",
      "newest year:  2022.0\n"
     ]
    }
   ],
   "source": [
    "print('oldest year: ', df['Construction year'].min())\n",
    "print('newest year: ', df['Construction year'].max())"
   ]
  },
  {
   "cell_type": "code",
   "execution_count": 97,
   "id": "6bd657cd-cb9e-4c0e-b6ba-07f7887b4439",
   "metadata": {},
   "outputs": [
    {
     "data": {
      "text/html": [
       "<div>\n",
       "<style scoped>\n",
       "    .dataframe tbody tr th:only-of-type {\n",
       "        vertical-align: middle;\n",
       "    }\n",
       "\n",
       "    .dataframe tbody tr th {\n",
       "        vertical-align: top;\n",
       "    }\n",
       "\n",
       "    .dataframe thead th {\n",
       "        text-align: right;\n",
       "    }\n",
       "</style>\n",
       "<table border=\"1\" class=\"dataframe\">\n",
       "  <thead>\n",
       "    <tr style=\"text-align: right;\">\n",
       "      <th></th>\n",
       "      <th>test_group</th>\n",
       "      <th>sample_size</th>\n",
       "      <th>avg_daily_price</th>\n",
       "      <th>avg_total_cost</th>\n",
       "      <th>min_year</th>\n",
       "      <th>max_year</th>\n",
       "    </tr>\n",
       "  </thead>\n",
       "  <tbody>\n",
       "    <tr>\n",
       "      <th>0</th>\n",
       "      <td>Control (Built 2010 or earlier)</td>\n",
       "      <td>40984</td>\n",
       "      <td>627.238117</td>\n",
       "      <td>752.684340</td>\n",
       "      <td>2003.0</td>\n",
       "      <td>2010.0</td>\n",
       "    </tr>\n",
       "    <tr>\n",
       "      <th>1</th>\n",
       "      <td>Treatment (Built 2011 or later)</td>\n",
       "      <td>60925</td>\n",
       "      <td>623.903964</td>\n",
       "      <td>748.686943</td>\n",
       "      <td>2011.0</td>\n",
       "      <td>2022.0</td>\n",
       "    </tr>\n",
       "  </tbody>\n",
       "</table>\n",
       "</div>"
      ],
      "text/plain": [
       "                        test_group  sample_size  avg_daily_price  \\\n",
       "0  Control (Built 2010 or earlier)        40984       627.238117   \n",
       "1  Treatment (Built 2011 or later)        60925       623.903964   \n",
       "\n",
       "   avg_total_cost  min_year  max_year  \n",
       "0      752.684340    2003.0    2010.0  \n",
       "1      748.686943    2011.0    2022.0  "
      ]
     },
     "execution_count": 97,
     "metadata": {},
     "output_type": "execute_result"
    }
   ],
   "source": [
    "# A/B Test: Property age impact on pricing\n",
    "property_ab_test = '''\n",
    "SELECT \n",
    "    CASE \n",
    "        WHEN `Construction year` <= 2010 THEN 'Control (Built 2010 or earlier)'\n",
    "        WHEN `Construction year` >= 2011 THEN 'Treatment (Built 2011 or later)'\n",
    "        ELSE 'Unknown'\n",
    "    END AS test_group,\n",
    "    COUNT(*) AS sample_size,\n",
    "    AVG(CAST(REPLACE(REPLACE(price, '$', ''), ',', '') AS REAL)) AS avg_daily_price,\n",
    "    AVG(CAST(REPLACE(REPLACE(price, '$', ''), ',', '') AS REAL) + CAST(REPLACE(REPLACE(`service fee`, '$', ''), ',', '') AS REAL)) AS avg_total_cost,\n",
    "    MIN(`Construction year`) AS min_year,\n",
    "    MAX(`Construction year`) AS max_year\n",
    "FROM airbnb_data \n",
    "WHERE price IS NOT NULL \n",
    "    AND `service fee` IS NOT NULL\n",
    "    AND `Construction year` IS NOT NULL\n",
    "    AND CAST(REPLACE(REPLACE(price, '$', ''), ',', '') AS REAL) > 0\n",
    "GROUP BY test_group\n",
    "ORDER BY avg_daily_price DESC;\n",
    "'''\n",
    "pd.read_sql(property_ab_test, conn)"
   ]
  },
  {
   "cell_type": "code",
   "execution_count": 54,
   "id": "21b66d63-8872-4584-b3d4-22b7b5fce9c1",
   "metadata": {},
   "outputs": [
    {
     "name": "stdout",
     "output_type": "stream",
     "text": [
      "Price difference: $-3.34\n",
      "Percentage change: -0.53%\n",
      "-0.5301057554339023\n"
     ]
    }
   ],
   "source": [
    "control_price = 627.24\n",
    "treatment_price = 623.90\n",
    "\n",
    "price_difference = treatment_price-control_price\n",
    "percentage_change = (price_difference/control_price)*100\n",
    "\n",
    "print(f\"Price difference: ${price_difference:.2f}\")\n",
    "print(f\"Percentage change: {percentage_change:.2f}%\")\n",
    "# newer homes cost 0.53% LESS than older homes... not siginifcant difference though\n",
    "\n",
    "\n",
    "control_tc = 752.68\n",
    "treatment_tc = 748.69\n",
    "\n",
    "print(((treatment_tc-control_tc)/control_tc)*100)\n",
    "# negligible differences"
   ]
  },
  {
   "cell_type": "markdown",
   "id": "e36b676b-b5a2-4518-ad73-24850f493d9b",
   "metadata": {},
   "source": [
    "### Is this due to location? Maybe older homes are in more centrally-located, desirable areas"
   ]
  },
  {
   "cell_type": "code",
   "execution_count": 76,
   "id": "f59484a0-ae94-420d-92ee-ea2fcabf7bad",
   "metadata": {},
   "outputs": [
    {
     "data": {
      "text/html": [
       "<div>\n",
       "<style scoped>\n",
       "    .dataframe tbody tr th:only-of-type {\n",
       "        vertical-align: middle;\n",
       "    }\n",
       "\n",
       "    .dataframe tbody tr th {\n",
       "        vertical-align: top;\n",
       "    }\n",
       "\n",
       "    .dataframe thead th {\n",
       "        text-align: right;\n",
       "    }\n",
       "</style>\n",
       "<table border=\"1\" class=\"dataframe\">\n",
       "  <thead>\n",
       "    <tr style=\"text-align: right;\">\n",
       "      <th></th>\n",
       "      <th>neighbourhood group</th>\n",
       "      <th>property_age</th>\n",
       "      <th>sample_size</th>\n",
       "      <th>avg_price</th>\n",
       "      <th>avg_construction_year</th>\n",
       "    </tr>\n",
       "  </thead>\n",
       "  <tbody>\n",
       "    <tr>\n",
       "      <th>0</th>\n",
       "      <td>Bronx</td>\n",
       "      <td>Newer (≥2011)</td>\n",
       "      <td>1607</td>\n",
       "      <td>632.375856</td>\n",
       "      <td>2016.626633</td>\n",
       "    </tr>\n",
       "    <tr>\n",
       "      <th>1</th>\n",
       "      <td>Bronx</td>\n",
       "      <td>Older (≤2010)</td>\n",
       "      <td>1095</td>\n",
       "      <td>621.552511</td>\n",
       "      <td>2006.368950</td>\n",
       "    </tr>\n",
       "    <tr>\n",
       "      <th>2</th>\n",
       "      <td>Brooklyn</td>\n",
       "      <td>Newer (≥2011)</td>\n",
       "      <td>25016</td>\n",
       "      <td>624.150264</td>\n",
       "      <td>2016.507715</td>\n",
       "    </tr>\n",
       "    <tr>\n",
       "      <th>3</th>\n",
       "      <td>Brooklyn</td>\n",
       "      <td>Older (≤2010)</td>\n",
       "      <td>16639</td>\n",
       "      <td>630.229461</td>\n",
       "      <td>2006.511569</td>\n",
       "    </tr>\n",
       "    <tr>\n",
       "      <th>4</th>\n",
       "      <td>Manhattan</td>\n",
       "      <td>Newer (≥2011)</td>\n",
       "      <td>26048</td>\n",
       "      <td>621.430590</td>\n",
       "      <td>2016.478924</td>\n",
       "    </tr>\n",
       "    <tr>\n",
       "      <th>5</th>\n",
       "      <td>Manhattan</td>\n",
       "      <td>Older (≤2010)</td>\n",
       "      <td>17546</td>\n",
       "      <td>623.986835</td>\n",
       "      <td>2006.537216</td>\n",
       "    </tr>\n",
       "    <tr>\n",
       "      <th>6</th>\n",
       "      <td>Queens</td>\n",
       "      <td>Newer (≥2011)</td>\n",
       "      <td>7862</td>\n",
       "      <td>629.810735</td>\n",
       "      <td>2016.574663</td>\n",
       "    </tr>\n",
       "    <tr>\n",
       "      <th>7</th>\n",
       "      <td>Queens</td>\n",
       "      <td>Older (≤2010)</td>\n",
       "      <td>5355</td>\n",
       "      <td>631.134267</td>\n",
       "      <td>2006.483287</td>\n",
       "    </tr>\n",
       "    <tr>\n",
       "      <th>8</th>\n",
       "      <td>Staten Island</td>\n",
       "      <td>Newer (≥2011)</td>\n",
       "      <td>511</td>\n",
       "      <td>627.831703</td>\n",
       "      <td>2016.338552</td>\n",
       "    </tr>\n",
       "    <tr>\n",
       "      <th>9</th>\n",
       "      <td>Staten Island</td>\n",
       "      <td>Older (≤2010)</td>\n",
       "      <td>440</td>\n",
       "      <td>621.470455</td>\n",
       "      <td>2006.363636</td>\n",
       "    </tr>\n",
       "  </tbody>\n",
       "</table>\n",
       "</div>"
      ],
      "text/plain": [
       "  neighbourhood group   property_age  sample_size   avg_price  \\\n",
       "0               Bronx  Newer (≥2011)         1607  632.375856   \n",
       "1               Bronx  Older (≤2010)         1095  621.552511   \n",
       "2            Brooklyn  Newer (≥2011)        25016  624.150264   \n",
       "3            Brooklyn  Older (≤2010)        16639  630.229461   \n",
       "4           Manhattan  Newer (≥2011)        26048  621.430590   \n",
       "5           Manhattan  Older (≤2010)        17546  623.986835   \n",
       "6              Queens  Newer (≥2011)         7862  629.810735   \n",
       "7              Queens  Older (≤2010)         5355  631.134267   \n",
       "8       Staten Island  Newer (≥2011)          511  627.831703   \n",
       "9       Staten Island  Older (≤2010)          440  621.470455   \n",
       "\n",
       "   avg_construction_year  \n",
       "0            2016.626633  \n",
       "1            2006.368950  \n",
       "2            2016.507715  \n",
       "3            2006.511569  \n",
       "4            2016.478924  \n",
       "5            2006.537216  \n",
       "6            2016.574663  \n",
       "7            2006.483287  \n",
       "8            2016.338552  \n",
       "9            2006.363636  "
      ]
     },
     "execution_count": 76,
     "metadata": {},
     "output_type": "execute_result"
    }
   ],
   "source": [
    "# see if the age effect varies by borough\n",
    "q_age_location = '''\n",
    "SELECT \n",
    "    `neighbourhood group`,\n",
    "    CASE \n",
    "        WHEN `Construction year` <= 2010 THEN 'Older (≤2010)'\n",
    "        WHEN `Construction year` >= 2011 THEN 'Newer (≥2011)'\n",
    "    END AS property_age,\n",
    "    COUNT(*) AS sample_size,\n",
    "    AVG(CAST(REPLACE(REPLACE(price, '$', ''), ',', '') AS REAL)) AS avg_price,\n",
    "    AVG(`Construction year`) AS avg_construction_year\n",
    "FROM airbnb_data \n",
    "WHERE price IS NOT NULL \n",
    "    AND `Construction year` IS NOT NULL\n",
    "    AND `neighbourhood group` IS NOT NULL\n",
    "    AND CAST(REPLACE(REPLACE(price, '$', ''), ',', '') AS REAL) > 0\n",
    "GROUP BY `neighbourhood group`, property_age\n",
    "ORDER BY `neighbourhood group`, property_age;\n",
    "'''\n",
    "pd.read_sql(q_age_location, conn)"
   ]
  },
  {
   "cell_type": "code",
   "execution_count": 77,
   "id": "b8934419-1023-4528-91c0-d43933a4f461",
   "metadata": {},
   "outputs": [],
   "source": [
    "# for Bronx and Staten Island, newer rentals ARE noticably more expensive\n",
    "# however, the sample size for these two locations was MUCH smaller than the other boroughs\n",
    "# in Manhattan, Queens, and Brooklyn, older rentals are slightly more expensive, but not by much\n",
    "# before, the massive number of newer properties in Brooklyn/Manhattan (where older properties have slight premiums) drove down the overall average for newer properties\n",
    "# Borough-Specific Patterns:\n",
    "    # Outer Boroughs (Bronx, Staten Island): Newer construction commands premium (likely due to better amenities, modern design)\n",
    "    # Core Boroughs (Manhattan, Brooklyn): Older properties have slight premium (established neighborhoods, character, location)\n",
    "    # Queens: Age doesn't matter much for pricing"
   ]
  },
  {
   "cell_type": "code",
   "execution_count": 78,
   "id": "c393ac02-c1f2-44cf-b642-1018522a3d43",
   "metadata": {},
   "outputs": [
    {
     "name": "stdout",
     "output_type": "stream",
     "text": [
      "Loaded 155 neighborhoods\n"
     ]
    },
    {
     "data": {
      "text/html": [
       "<div>\n",
       "<style scoped>\n",
       "    .dataframe tbody tr th:only-of-type {\n",
       "        vertical-align: middle;\n",
       "    }\n",
       "\n",
       "    .dataframe tbody tr th {\n",
       "        vertical-align: top;\n",
       "    }\n",
       "\n",
       "    .dataframe thead th {\n",
       "        text-align: right;\n",
       "    }\n",
       "</style>\n",
       "<table border=\"1\" class=\"dataframe\">\n",
       "  <thead>\n",
       "    <tr style=\"text-align: right;\">\n",
       "      <th></th>\n",
       "      <th>neighbourhood group</th>\n",
       "      <th>neighbourhood</th>\n",
       "      <th>avg_latitude</th>\n",
       "      <th>avg_longitude</th>\n",
       "      <th>total_properties</th>\n",
       "      <th>avg_price</th>\n",
       "      <th>older_count</th>\n",
       "      <th>newer_count</th>\n",
       "      <th>avg_price_older</th>\n",
       "      <th>avg_price_newer</th>\n",
       "    </tr>\n",
       "  </thead>\n",
       "  <tbody>\n",
       "    <tr>\n",
       "      <th>0</th>\n",
       "      <td>Bronx</td>\n",
       "      <td>Allerton</td>\n",
       "      <td>40.864776</td>\n",
       "      <td>-73.859510</td>\n",
       "      <td>95</td>\n",
       "      <td>638.494737</td>\n",
       "      <td>38</td>\n",
       "      <td>57</td>\n",
       "      <td>468.842105</td>\n",
       "      <td>751.596491</td>\n",
       "    </tr>\n",
       "    <tr>\n",
       "      <th>1</th>\n",
       "      <td>Bronx</td>\n",
       "      <td>Belmont</td>\n",
       "      <td>40.854865</td>\n",
       "      <td>-73.887518</td>\n",
       "      <td>45</td>\n",
       "      <td>672.488889</td>\n",
       "      <td>16</td>\n",
       "      <td>29</td>\n",
       "      <td>668.437500</td>\n",
       "      <td>674.724138</td>\n",
       "    </tr>\n",
       "    <tr>\n",
       "      <th>2</th>\n",
       "      <td>Bronx</td>\n",
       "      <td>Bronxdale</td>\n",
       "      <td>40.854989</td>\n",
       "      <td>-73.866015</td>\n",
       "      <td>47</td>\n",
       "      <td>574.170213</td>\n",
       "      <td>19</td>\n",
       "      <td>28</td>\n",
       "      <td>537.736842</td>\n",
       "      <td>598.892857</td>\n",
       "    </tr>\n",
       "    <tr>\n",
       "      <th>3</th>\n",
       "      <td>Bronx</td>\n",
       "      <td>City Island</td>\n",
       "      <td>40.848072</td>\n",
       "      <td>-73.787053</td>\n",
       "      <td>41</td>\n",
       "      <td>647.292683</td>\n",
       "      <td>16</td>\n",
       "      <td>25</td>\n",
       "      <td>636.562500</td>\n",
       "      <td>654.160000</td>\n",
       "    </tr>\n",
       "    <tr>\n",
       "      <th>4</th>\n",
       "      <td>Bronx</td>\n",
       "      <td>Claremont Village</td>\n",
       "      <td>40.839182</td>\n",
       "      <td>-73.909056</td>\n",
       "      <td>59</td>\n",
       "      <td>636.372881</td>\n",
       "      <td>26</td>\n",
       "      <td>33</td>\n",
       "      <td>652.269231</td>\n",
       "      <td>623.848485</td>\n",
       "    </tr>\n",
       "  </tbody>\n",
       "</table>\n",
       "</div>"
      ],
      "text/plain": [
       "  neighbourhood group      neighbourhood  avg_latitude  avg_longitude  \\\n",
       "0               Bronx           Allerton     40.864776     -73.859510   \n",
       "1               Bronx            Belmont     40.854865     -73.887518   \n",
       "2               Bronx          Bronxdale     40.854989     -73.866015   \n",
       "3               Bronx        City Island     40.848072     -73.787053   \n",
       "4               Bronx  Claremont Village     40.839182     -73.909056   \n",
       "\n",
       "   total_properties   avg_price  older_count  newer_count  avg_price_older  \\\n",
       "0                95  638.494737           38           57       468.842105   \n",
       "1                45  672.488889           16           29       668.437500   \n",
       "2                47  574.170213           19           28       537.736842   \n",
       "3                41  647.292683           16           25       636.562500   \n",
       "4                59  636.372881           26           33       652.269231   \n",
       "\n",
       "   avg_price_newer  \n",
       "0       751.596491  \n",
       "1       674.724138  \n",
       "2       598.892857  \n",
       "3       654.160000  \n",
       "4       623.848485  "
      ]
     },
     "execution_count": 78,
     "metadata": {},
     "output_type": "execute_result"
    }
   ],
   "source": [
    "# plot \n",
    "# query for clean geographic data for mapping\n",
    "q_map_data = '''\n",
    "SELECT \n",
    "    `neighbourhood group`,\n",
    "    neighbourhood,\n",
    "    AVG(lat) AS avg_latitude,\n",
    "    AVG(long) AS avg_longitude,\n",
    "    COUNT(*) AS total_properties,\n",
    "    AVG(CAST(REPLACE(REPLACE(price, '$', ''), ',', '') AS REAL)) AS avg_price,\n",
    "    SUM(CASE WHEN `Construction year` <= 2010 THEN 1 ELSE 0 END) AS older_count,\n",
    "    SUM(CASE WHEN `Construction year` >= 2011 THEN 1 ELSE 0 END) AS newer_count,\n",
    "    AVG(CASE WHEN `Construction year` <= 2010 \n",
    "        THEN CAST(REPLACE(REPLACE(price, '$', ''), ',', '') AS REAL) END) AS avg_price_older,\n",
    "    AVG(CASE WHEN `Construction year` >= 2011 \n",
    "        THEN CAST(REPLACE(REPLACE(price, '$', ''), ',', '') AS REAL) END) AS avg_price_newer\n",
    "FROM airbnb_data \n",
    "WHERE lat IS NOT NULL \n",
    "    AND long IS NOT NULL\n",
    "    AND neighbourhood IS NOT NULL\n",
    "    AND price IS NOT NULL\n",
    "    AND `Construction year` IS NOT NULL\n",
    "    AND CAST(REPLACE(REPLACE(price, '$', ''), ',', '') AS REAL) > 0\n",
    "GROUP BY `neighbourhood group`, neighbourhood\n",
    "HAVING COUNT(*) >= 30\n",
    "ORDER BY `neighbourhood group`, neighbourhood;\n",
    "'''\n",
    "\n",
    "map_data = pd.read_sql(q_map_data, conn)\n",
    "print(f\"Loaded {len(map_data)} neighborhoods\")\n",
    "map_data.head()"
   ]
  },
  {
   "cell_type": "code",
   "execution_count": 79,
   "id": "9fd135a3-d84b-4428-b7b0-dba9e6b7da30",
   "metadata": {},
   "outputs": [],
   "source": [
    "map_data['price_premium_older'] = map_data['avg_price_older']-map_data['avg_price_newer']\n",
    "map_data['percent_older'] = (map_data['older_count']/map_data['total_properties'])*100\n",
    "manhattan_center_lat = 40.7589\n",
    "manhattan_center_lon = -73.9851\n",
    "\n",
    "map_data['distance_from_center'] = ((map_data['avg_latitude'] - manhattan_center_lat)**2 + (map_data['avg_longitude'] - manhattan_center_lon)**2)**0.5\n",
    "\n",
    "# clean up any null values\n",
    "map_data = map_data.dropna(subset=['avg_price_older', 'avg_price_newer'])"
   ]
  },
  {
   "cell_type": "code",
   "execution_count": 80,
   "id": "d5f56aa1-a6a4-4199-b186-05644fa46a70",
   "metadata": {},
   "outputs": [
    {
     "data": {
      "application/vnd.plotly.v1+json": {
       "config": {
        "plotlyServerURL": "https://plot.ly"
       },
       "data": [
        {
         "customdata": [
          [
           "Bronx",
           468.8421052631579,
           751.5964912280701,
           -282.7543859649122,
           95,
           0.16426366261149702,
           40.864775740631586,
           -73.85950987936842
          ],
          [
           "Bronx",
           668.4375,
           674.7241379310345,
           -6.286637931034534,
           45,
           0.13686295515666758,
           40.85486503866667,
           -73.88751834266667
          ],
          [
           "Bronx",
           537.7368421052631,
           598.8928571428571,
           -61.15601503759399,
           47,
           0.1530174063488191,
           40.85498936170212,
           -73.86601531914894
          ],
          [
           "Bronx",
           636.5625,
           654.16,
           -17.597499999999968,
           41,
           0.2171966313831084,
           40.848071951219495,
           -73.78705268292684
          ],
          [
           "Bronx",
           652.2692307692307,
           623.8484848484849,
           28.420745920745844,
           59,
           0.11057948908997162,
           40.83918155169492,
           -73.90905596101696
          ],
          [
           "Bronx",
           480.7894736842105,
           660.1333333333333,
           -179.3438596491228,
           49,
           0.1384351685891239,
           40.81230106122449,
           -73.857379122449
          ],
          [
           "Bronx",
           717.3191489361702,
           646.5866666666667,
           70.73248226950352,
           122,
           0.09109497908409844,
           40.826930655737726,
           -73.92451844262297
          ],
          [
           "Bronx",
           577.84375,
           524.5909090909091,
           53.25284090909088,
           76,
           0.09773397573217867,
           40.83000144736843,
           -73.9180439473684
          ],
          [
           "Bronx",
           528.7857142857143,
           660,
           -131.21428571428567,
           35,
           0.1964502930149557,
           40.8881430977143,
           -73.83715088942859
          ],
          [
           "Bronx",
           595.542372881356,
           676.2150537634409,
           -80.67268088208493,
           152,
           0.13745014820539048,
           40.86292078947367,
           -73.89525447368423
          ],
          [
           "Bronx",
           682.8,
           673.1489361702128,
           9.651063829787176,
           67,
           0.09657418085524164,
           40.83636791044776,
           -73.9274346268657
          ],
          [
           "Bronx",
           614.3478260869565,
           607.5333333333333,
           6.814492753623199,
           53,
           0.11185580760256547,
           40.81540105660377,
           -73.88856320754718
          ],
          [
           "Bronx",
           579.9230769230769,
           569.1111111111111,
           10.81196581196582,
           164,
           0.14408266733239017,
           40.876314695121955,
           -73.90159189024392
          ],
          [
           "Bronx",
           717.0847457627119,
           635.2368421052631,
           81.8479036574488,
           135,
           0.10308776616459114,
           40.82064237037038,
           -73.90254718518517
          ],
          [
           "Bronx",
           745.2352941176471,
           741.5172413793103,
           3.7180527383367235,
           46,
           0.113347797648871,
           40.84961326086955,
           -73.91713804347827
          ],
          [
           "Bronx",
           611.6666666666666,
           769.925925925926,
           -158.25925925925935,
           45,
           0.15956869292761372,
           40.85124844444445,
           -73.85496955555553
          ],
          [
           "Bronx",
           449.3,
           674.0833333333334,
           -224.78333333333336,
           44,
           0.1065353600324434,
           40.82887636363636,
           -73.90476886363636
          ],
          [
           "Bronx",
           638.968253968254,
           576,
           62.968253968253975,
           149,
           0.08320425847005083,
           40.81080563939597,
           -73.92007113543629
          ],
          [
           "Bronx",
           590.1764705882352,
           642.7567567567568,
           -52.580286168521525,
           54,
           0.11997167880145886,
           40.848435740740754,
           -73.90524666666667
          ],
          [
           "Bronx",
           787.8648648648649,
           485.3076923076923,
           302.5571725571726,
           76,
           0.15722164791691712,
           40.87488539473685,
           -73.8789584210526
          ],
          [
           "Bronx",
           601.9302325581396,
           657.3214285714286,
           -55.391196013289004,
           99,
           0.14312990648484145,
           40.835819150707046,
           -73.86439534232323
          ],
          [
           "Bronx",
           722.9047619047619,
           755.695652173913,
           -32.79089026915108,
           44,
           0.1781318646100888,
           40.84898227272728,
           -73.83142454545454
          ],
          [
           "Bronx",
           506.7916666666667,
           661.74,
           -154.94833333333332,
           74,
           0.1761432058059624,
           40.86379691945945,
           -73.84359711932431
          ],
          [
           "Bronx",
           596.258064516129,
           565.6911764705883,
           30.566888045540736,
           99,
           0.07539025006826845,
           40.80712081818181,
           -73.92714792929297
          ],
          [
           "Bronx",
           704.8421052631579,
           628.5,
           76.34210526315792,
           47,
           0.17083887236184922,
           40.83630385106381,
           -73.83280238297873
          ],
          [
           "Bronx",
           630,
           610.1923076923077,
           19.807692307692264,
           33,
           0.13542058296352238,
           40.827455757575756,
           -73.86831454545452
          ],
          [
           "Bronx",
           570.3103448275862,
           791.5172413793103,
           -221.20689655172418,
           58,
           0.17624023166084735,
           40.823307639137916,
           -73.82105038775862
          ],
          [
           "Bronx",
           571.1,
           529.75,
           41.35000000000002,
           30,
           0.12685811679369527,
           40.84452066666666,
           -73.89149400000001
          ],
          [
           "Bronx",
           638.2272727272727,
           620.9375,
           17.289772727272748,
           54,
           0.12496830162035673,
           40.85831777777777,
           -73.90938222222222
          ],
          [
           "Bronx",
           637.8412698412699,
           628.0833333333334,
           9.757936507936506,
           159,
           0.18894318617477246,
           40.894372674150965,
           -73.85339319622639
          ],
          [
           "Bronx",
           578.6216216216217,
           660.1186440677966,
           -81.49702244617492,
           96,
           0.17415203822266867,
           40.878713125,
           -73.8587127083333
          ],
          [
           "Brooklyn",
           607.15,
           809.6428571428571,
           -202.49285714285713,
           48,
           0.1558919727579037,
           40.60483625000001,
           -74.00890479166667
          ],
          [
           "Brooklyn",
           638.6869565217391,
           602.4867724867725,
           36.200184034966696,
           304,
           0.13405817095468994,
           40.63129953032893,
           -74.02620612289478
          ],
          [
           "Brooklyn",
           634.791959157626,
           615.5537848605578,
           19.238174297068213,
           7903,
           0.08498837064222801,
           40.687166082367426,
           -73.93952294211444
          ],
          [
           "Brooklyn",
           609.8904109589041,
           576.2857142857143,
           33.60469667318978,
           157,
           0.1470737743115977,
           40.61203983439488,
           -73.99302381528658
          ],
          [
           "Brooklyn",
           561.6111111111111,
           615.8333333333334,
           -54.222222222222285,
           30,
           0.15399463978585318,
           40.624705333333345,
           -73.909561
          ],
          [
           "Brooklyn",
           623.4577464788732,
           629.9162790697675,
           -6.458532590894265,
           357,
           0.07248510433786687,
           40.68641558823531,
           -73.98541686274505
          ],
          [
           "Brooklyn",
           602.4636363636364,
           616.8471337579617,
           -14.383497394325332,
           267,
           0.12212265166683993,
           40.637377014981325,
           -73.9971874382022
          ],
          [
           "Brooklyn",
           682.5402298850574,
           635.7875,
           46.75272988505742,
           167,
           0.1819226694628701,
           40.5785789221557,
           -73.96101335329342
          ],
          [
           "Brooklyn",
           687.780701754386,
           550.5618556701031,
           137.21884608428286,
           308,
           0.06482624637248564,
           40.69473142857138,
           -73.99431068181823
          ],
          [
           "Brooklyn",
           674,
           672.5681818181819,
           1.4318181818181301,
           153,
           0.11854050999320721,
           40.66417339869282,
           -73.91383483660132
          ],
          [
           "Brooklyn",
           633.4263485477178,
           633.0112248266755,
           0.4151237210422778,
           4957,
           0.09009804046777958,
           40.69641888327601,
           -73.92018646559417
          ],
          [
           "Brooklyn",
           608.4795321637426,
           642.6782608695652,
           -34.19872870582253,
           401,
           0.1462398582056772,
           40.63885512718204,
           -73.90158159102248
          ],
          [
           "Brooklyn",
           693.3586956521739,
           612.5340136054422,
           80.82468204673171,
           478,
           0.07889663261145842,
           40.6807684937239,
           -73.99606112970712
          ],
          [
           "Brooklyn",
           638.4820295983087,
           628.7250755287009,
           9.756954069607787,
           1135,
           0.07358764830359735,
           40.68831268294269,
           -73.96430161896915
          ],
          [
           "Brooklyn",
           687.5820895522388,
           609.4924242424242,
           78.08966530981456,
           199,
           0.07234552513470303,
           40.687291311557786,
           -73.99539906532664
          ],
          [
           "Brooklyn",
           683.5,
           731.8852459016393,
           -48.38524590163934,
           89,
           0.07592410364307849,
           40.6850237875281,
           -74.0026149862921
          ],
          [
           "Brooklyn",
           857.6,
           587.0333333333333,
           270.5666666666667,
           50,
           0.1827496493687266,
           40.576195559999995,
           -73.98916471999998
          ],
          [
           "Brooklyn",
           632.827868852459,
           607.2917324907846,
           25.53613636167438,
           3241,
           0.09483078473131822,
           40.67274239122183,
           -73.94548000274627
          ],
          [
           "Brooklyn",
           637.2898550724638,
           611.0923076923077,
           26.19754738015604,
           333,
           0.12714130454029496,
           40.68226071549552,
           -73.88365380051057
          ],
          [
           "Brooklyn",
           635.5909090909091,
           537.375,
           98.21590909090912,
           70,
           0.055647816907127244,
           40.703302857142866,
           -73.98747428571426
          ],
          [
           "Brooklyn",
           633.275,
           565.4526315789474,
           67.8223684210526,
           175,
           0.06435564771548821,
           40.694544514285724,
           -73.98495559999999
          ],
          [
           "Brooklyn",
           654.9671052631579,
           638.1928191489362,
           16.774286114221695,
           1208,
           0.11940204873835694,
           40.64872969694543,
           -73.93906356260763
          ],
          [
           "Brooklyn",
           582.9644268774704,
           623.7207977207977,
           -40.75637084332732,
           604,
           0.13588434111446063,
           40.66824092635763,
           -73.883880009255
          ],
          [
           "Brooklyn",
           642.3126213592233,
           655.9472329472329,
           -13.634611588009648,
           1292,
           0.11654580750121554,
           40.644996083436574,
           -73.96042566034069
          ],
          [
           "Brooklyn",
           600.0759493670886,
           668.1021897810219,
           -68.02624041393335,
           216,
           0.14437783089594602,
           40.62493500000001,
           -73.93126379629635
          ],
          [
           "Brooklyn",
           635.8333333333334,
           598.0056497175141,
           37.827683615819296,
           945,
           0.06966120310150842,
           40.69012241994703,
           -73.97403981466668
          ],
          [
           "Brooklyn",
           603.5576923076923,
           542.6617647058823,
           60.895927601809944,
           120,
           0.1477059243640959,
           40.61891325000001,
           -74.03222483333333
          ],
          [
           "Brooklyn",
           651.3068181818181,
           641.7611464968153,
           9.545671685002844,
           490,
           0.08301683599431012,
           40.67597393877547,
           -73.98898116326535
          ],
          [
           "Brooklyn",
           741.4,
           670.6781609195402,
           70.72183908045974,
           142,
           0.16329183222337224,
           40.59579626760563,
           -73.97726450704218
          ],
          [
           "Brooklyn",
           620.5170387779084,
           605.7378716744914,
           14.779167103416967,
           2129,
           0.04638111376600769,
           40.727937689450414,
           -73.95056678353228
          ],
          [
           "Brooklyn",
           610.8645161290323,
           610.6915887850467,
           0.17292734398552057,
           369,
           0.11776195747987107,
           40.641527739837386,
           -73.97552758265581
          ],
          [
           "Brooklyn",
           587.256,
           607.7247706422019,
           -20.46877064220189,
           234,
           0.14114930519227675,
           40.62014243589742,
           -73.95922598290598
          ],
          [
           "Brooklyn",
           387.1,
           654.3636363636364,
           -267.26363636363635,
           31,
           0.06011965318308121,
           40.6997806451613,
           -73.97417870967743
          ],
          [
           "Brooklyn",
           600.7517730496454,
           610.1302083333334,
           -9.378435283687963,
           999,
           0.08491633902599875,
           40.674200191191254,
           -73.97903971771774
          ],
          [
           "Brooklyn",
           654.155737704918,
           649.0953436807096,
           5.060394024208449,
           695,
           0.08311747034263897,
           40.67754657410075,
           -73.96806668057555
          ],
          [
           "Brooklyn",
           650.1914460285133,
           641.0149031296572,
           9.176542898856042,
           1162,
           0.10400485970520018,
           40.65934505144579,
           -73.95500310546473
          ],
          [
           "Brooklyn",
           639.1333333333333,
           623.3977272727273,
           15.735606060606074,
           178,
           0.08515268250462811,
           40.67741264044945,
           -74.00981415730332
          ],
          [
           "Brooklyn",
           672.2827586206896,
           594.3080357142857,
           77.97472290640394,
           369,
           0.16573092071185075,
           40.59641238482386,
           -73.95247312466128
          ],
          [
           "Brooklyn",
           659.8732394366198,
           643.5669515669516,
           16.306287869668154,
           564,
           0.094045269147749,
           40.66485524822698,
           -73.98541195035463
          ],
          [
           "Brooklyn",
           618.9289617486339,
           636.7399193548387,
           -17.810957606204738,
           862,
           0.10788981062964309,
           40.65253336477959,
           -74.00316516397905
          ],
          [
           "Brooklyn",
           702.4333333333333,
           587.1428571428571,
           115.29047619047617,
           72,
           0.05745519801996527,
           40.70147791666667,
           -73.98314958333332
          ],
          [
           "Brooklyn",
           611.2446524064171,
           634.1822784810126,
           -22.937626074595528,
           7732,
           0.05705905767096125,
           40.71253042669163,
           -73.95184945513984
          ],
          [
           "Brooklyn",
           596.0615384615385,
           568.253807106599,
           27.807731354939506,
           327,
           0.10419832155602374,
           40.6549269740061,
           -73.978251636636
          ],
          [
           "Manhattan",
           626.3421052631579,
           574.3,
           52.042105263157964,
           118,
           0.05783728938609966,
           40.71033889830507,
           -74.01651610169493
          ],
          [
           "Manhattan",
           638.921052631579,
           630.3506787330317,
           8.570373898547246,
           2276,
           0.018920550621416454,
           40.744909714398055,
           -73.9978380981545
          ],
          [
           "Manhattan",
           618.5475409836066,
           637.0829875518672,
           -18.535446568260568,
           787,
           0.04414851582904189,
           40.71566925031763,
           -73.99405509529865
          ],
          [
           "Manhattan",
           569.8518518518518,
           679.7307692307693,
           -109.87891737891744,
           106,
           0.04883140116570249,
           40.71372669811323,
           -74.0036439622641
          ],
          [
           "Manhattan",
           628.7321613236815,
           625.5411764705882,
           3.190984853093255,
           2327,
           0.05690263871992982,
           40.79634130552649,
           -73.94225074173615
          ],
          [
           "Manhattan",
           607.4258016405668,
           624.13383600377,
           -16.708034363203296,
           3463,
           0.0321807716368917,
           40.726743879670785,
           -73.98384063963894
          ],
          [
           "Manhattan",
           639.0392491467577,
           613.1966666666667,
           25.842582480090982,
           1486,
           0.057283515912682666,
           40.70679978061911,
           -74.00891109690421
          ],
          [
           "Manhattan",
           550.5373134328358,
           659.5666666666667,
           -109.02935323383088,
           157,
           0.01810853105907452,
           40.74108226751593,
           -73.98833222929936
          ],
          [
           "Manhattan",
           576.3408239700375,
           639.2783018867924,
           -62.937477916754915,
           691,
           0.02339372210832169,
           40.73551724853839,
           -73.9843836424313
          ],
          [
           "Manhattan",
           616.8521126760563,
           654.4361233480176,
           -37.58401067196132,
           738,
           0.031161525348275734,
           40.73075744715454,
           -73.99848048509479
          ],
          [
           "Manhattan",
           634.0091324200913,
           621.6026469682979,
           12.406485451793401,
           5439,
           0.06802235806622867,
           40.81586567034548,
           -73.94792536349902
          ],
          [
           "Manhattan",
           630.0434210526316,
           615.4333881578947,
           14.610032894736946,
           3952,
           0.007230708087223848,
           40.76188546496973,
           -73.99168560083494
          ],
          [
           "Manhattan",
           651.318407960199,
           667.3976608187135,
           -16.07925285851445,
           543,
           0.12249920456028233,
           40.86540514615099,
           -73.92457968141808
          ],
          [
           "Manhattan",
           610.2421875,
           610.4877126654064,
           -0.2455251654064341,
           913,
           0.018067064089624402,
           40.741747524687845,
           -73.97942449161003
          ],
          [
           "Manhattan",
           636.2372881355932,
           589.4430379746835,
           46.794250160909655,
           276,
           0.04175530798796083,
           40.71890566666664,
           -73.99709829347825
          ],
          [
           "Manhattan",
           632.4613496932516,
           622.871543264942,
           9.589806428309544,
           1936,
           0.04024517377310048,
           40.71878720592459,
           -73.98836155844516
          ],
          [
           "Manhattan",
           615.1606397774688,
           605.0458999484271,
           10.114739829041696,
           3377,
           0.009643230843359305,
           40.754381755801056,
           -73.97658076467886
          ],
          [
           "Manhattan",
           635.589430894309,
           619.5621761658031,
           16.02725472850591,
           632,
           0.05462854694473551,
           40.80831327215192,
           -73.96180608069618
          ],
          [
           "Manhattan",
           578.9416243654822,
           644.1174377224199,
           -65.17581335693774,
           956,
           0.01432533576306451,
           40.74768331171555,
           -73.97618926778239
          ],
          [
           "Manhattan",
           732.9215686274509,
           624.5454545454545,
           108.37611408199643,
           139,
           0.0331156156869017,
           40.72679446043166,
           -73.99321654676255
          ],
          [
           "Manhattan",
           611.2164948453608,
           644.4114114114114,
           -33.194916566050665,
           527,
           0.0381017772997766,
           40.72209730045541,
           -73.99496441785574
          ],
          [
           "Manhattan",
           579.9589041095891,
           671.9767441860465,
           -92.01784007645745,
           159,
           0.03652439317593776,
           40.76308459748428,
           -73.94881611320758
          ],
          [
           "Manhattan",
           655.0709219858156,
           623.0100250626566,
           32.06089692315902,
           681,
           0.03847494918954485,
           40.72436663876648,
           -74.00206374596172
          ],
          [
           "Manhattan",
           660.6136363636364,
           703.8205128205128,
           -43.206876456876444,
           83,
           0.027794727765869026,
           40.73185100000001,
           -73.9787048072289
          ],
          [
           "Manhattan",
           675.4109589041096,
           609.4335260115607,
           65.9774328925489,
           565,
           0.0010362560360547399,
           40.7598584123894,
           -73.98549404601775
          ],
          [
           "Manhattan",
           654.0697674418604,
           626.5879629629629,
           27.481804478897516,
           345,
           0.04669600613141328,
           40.71787131304348,
           -74.00739717101449
          ],
          [
           "Manhattan",
           630.0175438596491,
           616.7123287671233,
           13.305215092525827,
           130,
           0.048395348629699214,
           40.71168405546153,
           -73.99571905599998
          ],
          [
           "Manhattan",
           620.7827278958191,
           616.2286363636364,
           4.554091532182724,
           3659,
           0.03330899022167699,
           40.772793230806265,
           -73.95482679456431
          ],
          [
           "Manhattan",
           609.6057692307693,
           621.4956178790535,
           -11.889848648284215,
           3842,
           0.03226233359178797,
           40.788911363724644,
           -73.97326039628304
          ],
          [
           "Manhattan",
           620.7593123209169,
           590.582560296846,
           30.17675202407088,
           1776,
           0.09755867052884319,
           40.84450984251126,
           -73.93831700030404
          ],
          [
           "Manhattan",
           641.2006633499171,
           637.1754587155963,
           4.025204634320858,
           1475,
           0.030975163054357706,
           40.73440125546434,
           -74.00405447816271
          ],
          [
           "Queens",
           629.2978723404256,
           668.7596899224807,
           -39.46181758205512,
           223,
           0.25315720613501125,
           40.592081055515685,
           -73.79467938457398
          ],
          [
           "Queens",
           629.816644993498,
           645.4744990892532,
           -15.65785409575517,
           1867,
           0.06504899455919483,
           40.764382560299914,
           -73.92028246205139
          ],
          [
           "Queens",
           577.1320754716982,
           551.6338028169014,
           25.49827265479678,
           124,
           0.21614059801771454,
           40.76065562903224,
           -73.76896653225806
          ],
          [
           "Queens",
           564.2105263157895,
           599.2857142857143,
           -35.075187969924855,
           40,
           0.26930306861624115,
           40.606320749999995,
           -73.76319075
          ],
          [
           "Queens",
           724.5,
           468.73333333333335,
           255.76666666666665,
           31,
           0.22840287744369464,
           40.57754774193549,
           -73.84625032258063
          ],
          [
           "Queens",
           674.6451612903226,
           713.7727272727273,
           -39.12756598240469,
           119,
           0.17825345511618718,
           40.71003880470586,
           -73.81367398722689
          ],
          [
           "Queens",
           586.9642857142857,
           753.4,
           -166.4357142857143,
           78,
           0.25715118113121765,
           40.69435544820513,
           -73.73618087499997
          ],
          [
           "Queens",
           654.0869565217391,
           683,
           -28.913043478260875,
           48,
           0.14418653173904555,
           40.78433020833334,
           -73.84317375000002
          ],
          [
           "Queens",
           660.9272727272727,
           583.3619047619047,
           77.56536796536795,
           160,
           0.12585787518709077,
           40.74272932499997,
           -73.86028528124996
          ],
          [
           "Queens",
           623.1174089068826,
           626.2758620689655,
           -3.1584531620828784,
           682,
           0.07597851223882507,
           40.77489650916414,
           -73.91082452614364
          ],
          [
           "Queens",
           679.8578431372549,
           662.3178571428572,
           17.53998599439774,
           484,
           0.1072166446824684,
           40.76293120307853,
           -73.87795916605371
          ],
          [
           "Queens",
           572,
           650,
           -78,
           32,
           0.2682308799002125,
           40.594653125,
           -73.77303687499997
          ],
          [
           "Queens",
           679.6545454545454,
           598.9449838187702,
           80.70956163577523,
           529,
           0.10772062434680162,
           40.74020535425335,
           -73.87901398240074
          ],
          [
           "Queens",
           654.8857142857142,
           612.4418604651163,
           42.44385382059795,
           78,
           0.2820208354983458,
           40.59779807692309,
           -73.75362230769228
          ],
          [
           "Queens",
           628.5410256410256,
           636.3627118644068,
           -7.821686223381221,
           980,
           0.16566065621470552,
           40.75461207228576,
           -73.81949484702038
          ],
          [
           "Queens",
           621.4174757281553,
           583.929648241206,
           37.4878274869493,
           302,
           0.14230372423040036,
           40.722089205298,
           -73.84763976821186
          ],
          [
           "Queens",
           575.7073170731708,
           556.4745762711865,
           19.232740801984278,
           100,
           0.19731894762659466,
           40.740216020000005,
           -73.78866762999998
          ],
          [
           "Queens",
           654.6825396825396,
           651.3947368421053,
           3.287802840434324,
           139,
           0.11313431996293444,
           40.70107982769784,
           -73.88785699496404
          ],
          [
           "Queens",
           442.10526315789474,
           640.64,
           -198.53473684210525,
           44,
           0.2234665685683393,
           40.71375781818182,
           -73.76624047727275
          ],
          [
           "Queens",
           482.6774193548387,
           650.2631578947369,
           -167.58573853989816,
           50,
           0.1742846201679499,
           40.65959015999999,
           -73.84187749999997
          ],
          [
           "Queens",
           584.0337078651686,
           657.4307116104869,
           -73.39700374531833,
           445,
           0.1051813204971444,
           40.75180633035957,
           -73.88015815880901
          ],
          [
           "Queens",
           631.4705882352941,
           619.0414364640884,
           12.429151771205738,
           617,
           0.21034429293963477,
           40.685130314910914,
           -73.78811585055104
          ],
          [
           "Queens",
           651.7894736842105,
           620.5862068965517,
           31.203266787658777,
           48,
           0.1979136559899438,
           40.71859145833332,
           -73.79133458333332
          ],
          [
           "Queens",
           672.8611111111111,
           611.3617021276596,
           61.49940898345153,
           83,
           0.1622377033415527,
           40.70836729698796,
           -73.83093282349398
          ],
          [
           "Queens",
           727.7741935483871,
           657.2857142857143,
           70.48847926267274,
           66,
           0.1696165867370337,
           40.724141515151516,
           -73.81908303030305
          ],
          [
           "Queens",
           450.46875,
           700.4857142857143,
           -250.01696428571427,
           67,
           0.2551224584556038,
           40.67533226089552,
           -73.74405249059699
          ],
          [
           "Queens",
           676.2729357798165,
           629.7016806722689,
           46.571255107547586,
           1150,
           0.047725590490401926,
           40.752599211382595,
           -73.93779215656515
          ],
          [
           "Queens",
           546.6636363636363,
           634.4864864864865,
           -87.82285012285013,
           258,
           0.08969225096100963,
           40.72951810763568,
           -73.90035683341092
          ],
          [
           "Queens",
           474.34615384615387,
           635.8717948717949,
           -161.52564102564105,
           65,
           0.1136670217697565,
           40.71614769230768,
           -73.87977938461542
          ],
          [
           "Queens",
           740.8030303030303,
           586.1309523809524,
           154.67207792207785,
           150,
           0.15875716901465647,
           40.680578155333336,
           -73.84700754053331
          ],
          [
           "Queens",
           670.0188679245283,
           657.1935483870968,
           12.825319537431483,
           146,
           0.2471395004883587,
           40.714545376917776,
           -73.74197328383563
          ],
          [
           "Queens",
           705.031914893617,
           590.4042553191489,
           114.62765957446811,
           235,
           0.1278804658318517,
           40.72694107978724,
           -73.86127738106386
          ],
          [
           "Queens",
           522.76,
           585.7851239669421,
           -63.02512396694215,
           221,
           0.16914203195415559,
           40.69348804045249,
           -73.82911826221722
          ],
          [
           "Queens",
           639.3775216138329,
           639.8279569892474,
           -0.45043537541448586,
           905,
           0.09640355470045536,
           40.70387130655247,
           -73.90594516277358
          ],
          [
           "Queens",
           600.3297872340426,
           681.6451612903226,
           -81.31537405628,
           187,
           0.2419606560123173,
           40.58707667786099,
           -73.81474242010692
          ],
          [
           "Queens",
           609.171875,
           604.3271028037383,
           4.844772196261715,
           171,
           0.2695690146118088,
           40.65899842105263,
           -73.7347260233918
          ],
          [
           "Queens",
           605.7826086956521,
           600.8765432098766,
           4.906065485775571,
           127,
           0.19856243842138965,
           40.67196760165355,
           -73.8065788525984
          ],
          [
           "Queens",
           598.4536082474227,
           629.2913907284768,
           -30.83778248105409,
           248,
           0.24104481598064828,
           40.668388022580615,
           -73.76169412439513
          ],
          [
           "Queens",
           613.04,
           611.3620689655172,
           1.6779310344827536,
           216,
           0.23189970205511745,
           40.695723806342585,
           -73.76197169527778
          ],
          [
           "Queens",
           623.9814814814815,
           607.1913978494624,
           16.790083632019105,
           789,
           0.0666437660521673,
           40.74235369871988,
           -73.92054295958175
          ],
          [
           "Queens",
           616.1442307692307,
           647.7011494252873,
           -31.55691865605661,
           191,
           0.14371340351491782,
           40.69224706806285,
           -73.85777785340318
          ],
          [
           "Queens",
           651.281512605042,
           624.7267441860465,
           26.554768418995536,
           582,
           0.08414134493039947,
           40.74566783522334,
           -73.90200562147763
          ],
          [
           "Staten Island",
           669.96,
           583.2692307692307,
           86.69076923076932,
           51,
           0.18756460565603972,
           40.59380088235296,
           -74.07410990196082
          ],
          [
           "Staten Island",
           728,
           687.44,
           40.559999999999945,
           39,
           0.1700794294706343,
           40.61884923076924,
           -74.08160282051283
          ],
          [
           "Staten Island",
           653,
           597.4666666666667,
           55.5333333333333,
           60,
           0.18610908771328913,
           40.60196766666666,
           -74.08514416666667
          ],
          [
           "Staten Island",
           503.037037037037,
           426.44444444444446,
           76.59259259259255,
           45,
           0.18426813405135503,
           40.633673111111115,
           -74.12027755555557
          ],
          [
           "Staten Island",
           611.8928571428571,
           684.4202898550725,
           -72.52743271221539,
           125,
           0.150653804018172,
           40.643250239999986,
           -74.08164896000002
          ],
          [
           "Staten Island",
           768.1388888888889,
           610.6428571428571,
           157.4960317460318,
           64,
           0.15831793900576552,
           40.631377812500006,
           -74.0789225
          ],
          [
           "Staten Island",
           605.8636363636364,
           622.9230769230769,
           -17.05944055944053,
           109,
           0.16147065798820012,
           40.63300688073392,
           -74.08621229357799
          ],
          [
           "Staten Island",
           606.1935483870968,
           673.25,
           -67.05645161290317,
           59,
           0.18220437292039313,
           40.63200762711866,
           -74.11585457627119
          ]
         ],
         "hovertemplate": "<b>%{hovertext}</b><br><br>Properties Count=%{customdata[4]}<br>neighbourhood group=%{customdata[0]}<br>avg_price_older=%{customdata[1]:.0f}<br>avg_price_newer=%{customdata[2]:.0f}<br>Older Property Premium ($)=%{marker.color:.0f}<br>distance_from_center=%{customdata[5]:.3f}<extra></extra>",
         "hovertext": [
          "Allerton",
          "Belmont",
          "Bronxdale",
          "City Island",
          "Claremont Village",
          "Clason Point",
          "Concourse",
          "Concourse Village",
          "Edenwald",
          "Fordham",
          "Highbridge",
          "Hunts Point",
          "Kingsbridge",
          "Longwood",
          "Morris Heights",
          "Morris Park",
          "Morrisania",
          "Mott Haven",
          "Mount Hope",
          "Norwood",
          "Parkchester",
          "Pelham Bay",
          "Pelham Gardens",
          "Port Morris",
          "Schuylerville",
          "Soundview",
          "Throgs Neck",
          "Tremont",
          "University Heights",
          "Wakefield",
          "Williamsbridge",
          "Bath Beach",
          "Bay Ridge",
          "Bedford-Stuyvesant",
          "Bensonhurst",
          "Bergen Beach",
          "Boerum Hill",
          "Borough Park",
          "Brighton Beach",
          "Brooklyn Heights",
          "Brownsville",
          "Bushwick",
          "Canarsie",
          "Carroll Gardens",
          "Clinton Hill",
          "Cobble Hill",
          "Columbia St",
          "Coney Island",
          "Crown Heights",
          "Cypress Hills",
          "DUMBO",
          "Downtown Brooklyn",
          "East Flatbush",
          "East New York",
          "Flatbush",
          "Flatlands",
          "Fort Greene",
          "Fort Hamilton",
          "Gowanus",
          "Gravesend",
          "Greenpoint",
          "Kensington",
          "Midwood",
          "Navy Yard",
          "Park Slope",
          "Prospect Heights",
          "Prospect-Lefferts Gardens",
          "Red Hook",
          "Sheepshead Bay",
          "South Slope",
          "Sunset Park",
          "Vinegar Hill",
          "Williamsburg",
          "Windsor Terrace",
          "Battery Park City",
          "Chelsea",
          "Chinatown",
          "Civic Center",
          "East Harlem",
          "East Village",
          "Financial District",
          "Flatiron District",
          "Gramercy",
          "Greenwich Village",
          "Harlem",
          "Hell's Kitchen",
          "Inwood",
          "Kips Bay",
          "Little Italy",
          "Lower East Side",
          "Midtown",
          "Morningside Heights",
          "Murray Hill",
          "NoHo",
          "Nolita",
          "Roosevelt Island",
          "SoHo",
          "Stuyvesant Town",
          "Theater District",
          "Tribeca",
          "Two Bridges",
          "Upper East Side",
          "Upper West Side",
          "Washington Heights",
          "West Village",
          "Arverne",
          "Astoria",
          "Bayside",
          "Bayswater",
          "Belle Harbor",
          "Briarwood",
          "Cambria Heights",
          "College Point",
          "Corona",
          "Ditmars Steinway",
          "East Elmhurst",
          "Edgemere",
          "Elmhurst",
          "Far Rockaway",
          "Flushing",
          "Forest Hills",
          "Fresh Meadows",
          "Glendale",
          "Hollis",
          "Howard Beach",
          "Jackson Heights",
          "Jamaica",
          "Jamaica Estates",
          "Kew Gardens",
          "Kew Gardens Hills",
          "Laurelton",
          "Long Island City",
          "Maspeth",
          "Middle Village",
          "Ozone Park",
          "Queens Village",
          "Rego Park",
          "Richmond Hill",
          "Ridgewood",
          "Rockaway Beach",
          "Rosedale",
          "South Ozone Park",
          "Springfield Gardens",
          "St. Albans",
          "Sunnyside",
          "Woodhaven",
          "Woodside",
          "Arrochar",
          "Clifton",
          "Concord",
          "Randall Manor",
          "St. George",
          "Stapleton",
          "Tompkinsville",
          "West Brighton"
         ],
         "lat": {
          "_inputArray": {
           "0": 40.864775740631586,
           "1": 40.85486503866667,
           "10": 40.83636791044776,
           "100": 40.71168405546153,
           "101": 40.772793230806265,
           "102": 40.788911363724644,
           "103": 40.84450984251126,
           "104": 40.73440125546434,
           "105": 40.592081055515685,
           "106": 40.764382560299914,
           "107": 40.76065562903224,
           "108": 40.606320749999995,
           "109": 40.57754774193549,
           "11": 40.81540105660377,
           "110": 40.71003880470586,
           "111": 40.69435544820513,
           "112": 40.78433020833334,
           "113": 40.74272932499997,
           "114": 40.77489650916414,
           "115": 40.76293120307853,
           "116": 40.594653125,
           "117": 40.74020535425335,
           "118": 40.59779807692309,
           "119": 40.75461207228576,
           "12": 40.876314695121955,
           "120": 40.722089205298,
           "121": 40.740216020000005,
           "122": 40.70107982769784,
           "123": 40.71375781818182,
           "124": 40.65959015999999,
           "125": 40.75180633035957,
           "126": 40.685130314910914,
           "127": 40.71859145833332,
           "128": 40.70836729698796,
           "129": 40.724141515151516,
           "13": 40.82064237037038,
           "130": 40.67533226089552,
           "131": 40.752599211382595,
           "132": 40.72951810763568,
           "133": 40.71614769230768,
           "134": 40.680578155333336,
           "135": 40.714545376917776,
           "136": 40.72694107978724,
           "137": 40.69348804045249,
           "138": 40.70387130655247,
           "139": 40.58707667786099,
           "14": 40.84961326086955,
           "140": 40.65899842105263,
           "141": 40.67196760165355,
           "142": 40.668388022580615,
           "143": 40.695723806342585,
           "144": 40.74235369871988,
           "145": 40.69224706806285,
           "146": 40.74566783522334,
           "147": 40.59380088235296,
           "148": 40.61884923076924,
           "149": 40.60196766666666,
           "15": 40.85124844444445,
           "150": 40.633673111111115,
           "151": 40.643250239999986,
           "152": 40.631377812500006,
           "153": 40.63300688073392,
           "154": 40.63200762711866,
           "16": 40.82887636363636,
           "17": 40.81080563939597,
           "18": 40.848435740740754,
           "19": 40.87488539473685,
           "2": 40.85498936170212,
           "20": 40.835819150707046,
           "21": 40.84898227272728,
           "22": 40.86379691945945,
           "23": 40.80712081818181,
           "24": 40.83630385106381,
           "25": 40.827455757575756,
           "26": 40.823307639137916,
           "27": 40.84452066666666,
           "28": 40.85831777777777,
           "29": 40.894372674150965,
           "3": 40.848071951219495,
           "30": 40.878713125,
           "31": 40.60483625000001,
           "32": 40.63129953032893,
           "33": 40.687166082367426,
           "34": 40.61203983439488,
           "35": 40.624705333333345,
           "36": 40.68641558823531,
           "37": 40.637377014981325,
           "38": 40.5785789221557,
           "39": 40.69473142857138,
           "4": 40.83918155169492,
           "40": 40.66417339869282,
           "41": 40.69641888327601,
           "42": 40.63885512718204,
           "43": 40.6807684937239,
           "44": 40.68831268294269,
           "45": 40.687291311557786,
           "46": 40.6850237875281,
           "47": 40.576195559999995,
           "48": 40.67274239122183,
           "49": 40.68226071549552,
           "5": 40.81230106122449,
           "50": 40.703302857142866,
           "51": 40.694544514285724,
           "52": 40.64872969694543,
           "53": 40.66824092635763,
           "54": 40.644996083436574,
           "55": 40.62493500000001,
           "56": 40.69012241994703,
           "57": 40.61891325000001,
           "58": 40.67597393877547,
           "59": 40.59579626760563,
           "6": 40.826930655737726,
           "60": 40.727937689450414,
           "61": 40.641527739837386,
           "62": 40.62014243589742,
           "63": 40.6997806451613,
           "64": 40.674200191191254,
           "65": 40.67754657410075,
           "66": 40.65934505144579,
           "67": 40.67741264044945,
           "68": 40.59641238482386,
           "69": 40.66485524822698,
           "7": 40.83000144736843,
           "70": 40.65253336477959,
           "71": 40.70147791666667,
           "72": 40.71253042669163,
           "73": 40.6549269740061,
           "74": 40.71033889830507,
           "75": 40.744909714398055,
           "76": 40.71566925031763,
           "77": 40.71372669811323,
           "78": 40.79634130552649,
           "79": 40.726743879670785,
           "8": 40.8881430977143,
           "80": 40.70679978061911,
           "81": 40.74108226751593,
           "82": 40.73551724853839,
           "83": 40.73075744715454,
           "84": 40.81586567034548,
           "85": 40.76188546496973,
           "86": 40.86540514615099,
           "87": 40.741747524687845,
           "88": 40.71890566666664,
           "89": 40.71878720592459,
           "9": 40.86292078947367,
           "90": 40.754381755801056,
           "91": 40.80831327215192,
           "92": 40.74768331171555,
           "93": 40.72679446043166,
           "94": 40.72209730045541,
           "95": 40.76308459748428,
           "96": 40.72436663876648,
           "97": 40.73185100000001,
           "98": 40.7598584123894,
           "99": 40.71787131304348,
           "bdata": "hDGy+LBuRECXyLM3bG1EQCF4mUpwbURAQpInn41sREDW9xNNamtEQI47Lnv5Z0RACDod3dhpREBACsh8PWpEQO9sS6yucURA+ek8MHRuREAEZosaDmtEQFee0w9faERAyUZ2FCtwREDyOSfPCmlEQGHXmCDAbERAdNSCtfVsREBvH+WeGGpEQB1PrHrIZ0RAmp7XiplsREBIEp8+/G9EQCHUNh/8akRAqx98c6tsREBhu7/lkG5EQH0BJ7xPZ0RAQessAQxrREBf1vwR6mlEQHlSDCViaURAkRDSQBlsREDCkGBb3W1EQA31xM16ckRAcTjzq3lwREC5lzRGa01EQBhfSmzOUERAIljlDvVXRECiSUBSV05EQNkmKFj2T0RAt3dLd9xXRECQSO2RlVFEQCZoxt8OSkRA1Zue9exYREAhIUmiA1VEQGD+A0EkWURAfBA7AcZRREB+WAhsI1dEQJdUR6EaWERAmvtkKflXREAnNQbcrldEQHMmr8bASURAHnc0bBxWREAMM7JRVFdEQFVO+dMFWkRAmDyr1eZYRECNKSCTCVNEQANHLuuIVURAPzROO49SREAakL3e/U9EQFb0c+5VWERA0+ejjDhPRECW/mNQhlZEQPc4Vg1DTERAkNvsDy1dREAICruUHVJEQEaFzNNgT0RAuKuEaZJZREDLDx4xTFZEQMmjnNi5VkRAm14sa2VUREBOUBh1tVZEQLnfsz1XTERAu9oN+hlVREB7o5o2hlNEQIt5QwfKWURA0gVwMjRbREDuT6el1FNEQAKmkGLsWkRA++eWM1lfRED8bswMm1tEQNVWfWVbW0RAWdgLg+5lRECJ4IXxBV1EQB5KS2p4WkRAL1CjyNteREDjDuBtJV5EQClrxHWJXURADwhKSW5oREDfq4F2hWFEQBpBiJjFbkRALTY4lfFeREAEn9MZBVxEQFsdGzgBXERAq+7UlI9gREBaaC7PdmdEQKjKNRa0X0RA5jvTmQddREAx/jCvbVxEQF4jj8GsYURAYujHC7hcREDBRSdLrV1EQMdmWwpDYURAESEKNeNbREBepY92GFtEQAlxeuPqYkRA71EtDPtkREA0XgXmGGxEQCsuP9wAXkRAsQLhT8lLREB5D6lJ12FEQBwb5SldYURAbhEY65tNREDsvpsV7UlEQCKNMo3iWkRAlOuqo+BYREA9B6nuZGREQNhTKMERX0RAgFIOzy9jRED9KMu6p2FEQGsr9pcdTERAzmuODL9eRECJ/7qlhExEQCvR3SCXYERAV8ZIa21cREAK8AZmv15EQHzs2fu8WURAeC2LalxbREBQ+0pzbVREQPromDA7YERAMQWkWbJXREAAXQ7O+ltEQEIPk8erWkRANqBOq7BcREBxPZtJcVZEQBvxwytVYERASRFv2WBdRECfyEK6qltEQKzDWy8dV0RAV68QOXZbREAO58FnDF1EQI70UjfEWERAKh55dBhaREAi1B1UJUtEQLJEbQ9aVERAaonMCANWREDMAh29jVVEQCClSXoNWURAhAgtcgVfREB5CkuNm1hEQE/7KgtyX0RAXQXVqgFMRECCp5tzNk9EQJfKyEYNTURA1UlUMxxRREDY+BsGVlJEQMQN+PzQUERAlXKVXgZRREALpjyg5VBEQA==",
           "dtype": "f8",
           "shape": "155"
          },
          "bdata": "hDGy+LBuRECXyLM3bG1EQCF4mUpwbURAQpInn41sREDW9xNNamtEQI47Lnv5Z0RACDod3dhpREBACsh8PWpEQO9sS6yucURA+ek8MHRuREAEZosaDmtEQFee0w9faERAyUZ2FCtwREDyOSfPCmlEQGHXmCDAbERAdNSCtfVsREBvH+WeGGpEQB1PrHrIZ0RAmp7XiplsREBIEp8+/G9EQCHUNh/8akRAqx98c6tsREBhu7/lkG5EQH0BJ7xPZ0RAQessAQxrREBf1vwR6mlEQHlSDCViaURAkRDSQBlsREDCkGBb3W1EQA31xM16ckRAcTjzq3lwREC5lzRGa01EQBhfSmzOUERAIljlDvVXRECiSUBSV05EQNkmKFj2T0RAt3dLd9xXRECQSO2RlVFEQCZoxt8OSkRA1Zue9exYREAhIUmiA1VEQGD+A0EkWURAfBA7AcZRREB+WAhsI1dEQJdUR6EaWERAmvtkKflXREAnNQbcrldEQHMmr8bASURAHnc0bBxWREAMM7JRVFdEQFVO+dMFWkRAmDyr1eZYRECNKSCTCVNEQANHLuuIVURAPzROO49SREAakL3e/U9EQFb0c+5VWERA0+ejjDhPRECW/mNQhlZEQPc4Vg1DTERAkNvsDy1dREAICruUHVJEQEaFzNNgT0RAuKuEaZJZREDLDx4xTFZEQMmjnNi5VkRAm14sa2VUREBOUBh1tVZEQLnfsz1XTERAu9oN+hlVREB7o5o2hlNEQIt5QwfKWURA0gVwMjRbREDuT6el1FNEQAKmkGLsWkRA++eWM1lfRED8bswMm1tEQNVWfWVbW0RAWdgLg+5lRECJ4IXxBV1EQB5KS2p4WkRAL1CjyNteREDjDuBtJV5EQClrxHWJXURADwhKSW5oREDfq4F2hWFEQBpBiJjFbkRALTY4lfFeREAEn9MZBVxEQFsdGzgBXERAq+7UlI9gREBaaC7PdmdEQKjKNRa0X0RA5jvTmQddREAx/jCvbVxEQF4jj8GsYURAYujHC7hcREDBRSdLrV1EQMdmWwpDYURAESEKNeNbREBepY92GFtEQAlxeuPqYkRA71EtDPtkREA0XgXmGGxEQCsuP9wAXkRAsQLhT8lLREB5D6lJ12FEQBwb5SldYURAbhEY65tNREDsvpsV7UlEQCKNMo3iWkRAlOuqo+BYREA9B6nuZGREQNhTKMERX0RAgFIOzy9jRED9KMu6p2FEQGsr9pcdTERAzmuODL9eRECJ/7qlhExEQCvR3SCXYERAV8ZIa21cREAK8AZmv15EQHzs2fu8WURAeC2LalxbREBQ+0pzbVREQPromDA7YERAMQWkWbJXREAAXQ7O+ltEQEIPk8erWkRANqBOq7BcREBxPZtJcVZEQBvxwytVYERASRFv2WBdRECfyEK6qltEQKzDWy8dV0RAV68QOXZbREAO58FnDF1EQI70UjfEWERAKh55dBhaREAi1B1UJUtEQLJEbQ9aVERAaonMCANWREDMAh29jVVEQCClSXoNWURAhAgtcgVfREB5CkuNm1hEQE/7KgtyX0RAXQXVqgFMRECCp5tzNk9EQJfKyEYNTURA1UlUMxxRREDY+BsGVlJEQMQN+PzQUERAlXKVXgZRREALpjyg5VBEQA==",
          "dtype": "f8"
         },
         "legendgroup": "",
         "lon": {
          "_inputArray": {
           "0": -73.85950987936842,
           "1": -73.88751834266667,
           "10": -73.9274346268657,
           "100": -73.99571905599998,
           "101": -73.95482679456431,
           "102": -73.97326039628304,
           "103": -73.93831700030404,
           "104": -74.00405447816271,
           "105": -73.79467938457398,
           "106": -73.92028246205139,
           "107": -73.76896653225806,
           "108": -73.76319075,
           "109": -73.84625032258063,
           "11": -73.88856320754718,
           "110": -73.81367398722689,
           "111": -73.73618087499997,
           "112": -73.84317375000002,
           "113": -73.86028528124996,
           "114": -73.91082452614364,
           "115": -73.87795916605371,
           "116": -73.77303687499997,
           "117": -73.87901398240074,
           "118": -73.75362230769228,
           "119": -73.81949484702038,
           "12": -73.90159189024392,
           "120": -73.84763976821186,
           "121": -73.78866762999998,
           "122": -73.88785699496404,
           "123": -73.76624047727275,
           "124": -73.84187749999997,
           "125": -73.88015815880901,
           "126": -73.78811585055104,
           "127": -73.79133458333332,
           "128": -73.83093282349398,
           "129": -73.81908303030305,
           "13": -73.90254718518517,
           "130": -73.74405249059699,
           "131": -73.93779215656515,
           "132": -73.90035683341092,
           "133": -73.87977938461542,
           "134": -73.84700754053331,
           "135": -73.74197328383563,
           "136": -73.86127738106386,
           "137": -73.82911826221722,
           "138": -73.90594516277358,
           "139": -73.81474242010692,
           "14": -73.91713804347827,
           "140": -73.7347260233918,
           "141": -73.8065788525984,
           "142": -73.76169412439513,
           "143": -73.76197169527778,
           "144": -73.92054295958175,
           "145": -73.85777785340318,
           "146": -73.90200562147763,
           "147": -74.07410990196082,
           "148": -74.08160282051283,
           "149": -74.08514416666667,
           "15": -73.85496955555553,
           "150": -74.12027755555557,
           "151": -74.08164896000002,
           "152": -74.0789225,
           "153": -74.08621229357799,
           "154": -74.11585457627119,
           "16": -73.90476886363636,
           "17": -73.92007113543629,
           "18": -73.90524666666667,
           "19": -73.8789584210526,
           "2": -73.86601531914894,
           "20": -73.86439534232323,
           "21": -73.83142454545454,
           "22": -73.84359711932431,
           "23": -73.92714792929297,
           "24": -73.83280238297873,
           "25": -73.86831454545452,
           "26": -73.82105038775862,
           "27": -73.89149400000001,
           "28": -73.90938222222222,
           "29": -73.85339319622639,
           "3": -73.78705268292684,
           "30": -73.8587127083333,
           "31": -74.00890479166667,
           "32": -74.02620612289478,
           "33": -73.93952294211444,
           "34": -73.99302381528658,
           "35": -73.909561,
           "36": -73.98541686274505,
           "37": -73.9971874382022,
           "38": -73.96101335329342,
           "39": -73.99431068181823,
           "4": -73.90905596101696,
           "40": -73.91383483660132,
           "41": -73.92018646559417,
           "42": -73.90158159102248,
           "43": -73.99606112970712,
           "44": -73.96430161896915,
           "45": -73.99539906532664,
           "46": -74.0026149862921,
           "47": -73.98916471999998,
           "48": -73.94548000274627,
           "49": -73.88365380051057,
           "5": -73.857379122449,
           "50": -73.98747428571426,
           "51": -73.98495559999999,
           "52": -73.93906356260763,
           "53": -73.883880009255,
           "54": -73.96042566034069,
           "55": -73.93126379629635,
           "56": -73.97403981466668,
           "57": -74.03222483333333,
           "58": -73.98898116326535,
           "59": -73.97726450704218,
           "6": -73.92451844262297,
           "60": -73.95056678353228,
           "61": -73.97552758265581,
           "62": -73.95922598290598,
           "63": -73.97417870967743,
           "64": -73.97903971771774,
           "65": -73.96806668057555,
           "66": -73.95500310546473,
           "67": -74.00981415730332,
           "68": -73.95247312466128,
           "69": -73.98541195035463,
           "7": -73.9180439473684,
           "70": -74.00316516397905,
           "71": -73.98314958333332,
           "72": -73.95184945513984,
           "73": -73.978251636636,
           "74": -74.01651610169493,
           "75": -73.9978380981545,
           "76": -73.99405509529865,
           "77": -74.0036439622641,
           "78": -73.94225074173615,
           "79": -73.98384063963894,
           "8": -73.83715088942859,
           "80": -74.00891109690421,
           "81": -73.98833222929936,
           "82": -73.9843836424313,
           "83": -73.99848048509479,
           "84": -73.94792536349902,
           "85": -73.99168560083494,
           "86": -73.92457968141808,
           "87": -73.97942449161003,
           "88": -73.99709829347825,
           "89": -73.98836155844516,
           "9": -73.89525447368423,
           "90": -73.97658076467886,
           "91": -73.96180608069618,
           "92": -73.97618926778239,
           "93": -73.99321654676255,
           "94": -73.99496441785574,
           "95": -73.94881611320758,
           "96": -74.00206374596172,
           "97": -73.9787048072289,
           "98": -73.98549404601775,
           "99": -74.00739717101449,
           "bdata": "e565NQJ3UsCfFrwZzXhSwBplhMtsd1LAl1k3El9yUsBPsw35LXpSwETMrkzfdlLAVOdmTyt7UsA8j2Y7wXpSwHD6UuGTdVLAk4Rr2Ut5UsA85MMWW3tSwAQ2NzjeeFLA77t4rrN5UsDm3URVw3lSwAaqw2OyelLA8gs60rd2UsB38Km753lSwFEsC3LielLAXgm3j+95UsC+PdLaQHhSwPSF10BSd1LAafRLDzZ1UsDbn8V+/XVSwIS3RGRWe1LAK7tdokx1UsCS1yt3kndSwKby7BaMdFLAI6XZPA55UsCHAH5RM3pSwPYaf/6ddlLA37wlJvV2UsAbP2flkYBSwG8yclytgVLASY7VJCF8UsCFs8KzjX9SwOQtVz82elLAr5rjERF/UsDfw0Lr0X9SwIjaJj6BfVLAQh5FyaJ/UsB8SRxFfHpSwLn8xVXkelLAgAdGg7N5UsArOi53v39SwPM8Ix63fVLAAANInrR/UsCpJgzYKoBSwHGwinlOf1LATbSOvoJ8UsB1i6vIjXhSwCiyWMcyf1LAxYA2gwl/UsD2kA6eGXxSwKhVdX2ReFLAwlkwnXd9UsCqQnfTmXtSwLM/F6tWflLASVK/+A+CUsBsJaZ3S39SwGpSboCLflLA2PsPFtZ8UsCS9j0Lb35SwH+DYPVjfVLAiqGo8Vh+UsBMRTSWqH5SwNVa8830fVLAKmNYxR59UsD1KY/LoIBSwE4v1lH1fFLAFvdI/RB/UsCy8ajbM4BSwIffOuzrflLAoCL6Get8UsAMp8Csm35SwMcojZkOgVLAsZFTlNx/UsC2LkOZnn9SwCSw4rM7gFLA3RgO1k18UsBm7ro+935SwJtx2f+RgFLAG5vS1UB/UsBtvT8kAH9SwElLsRrnf1LAvtEkz6p8UsAD4OHGd39SwCePQVAse1LAdRcQ5K5+UsC8WFx10H9SwFGJ1lBBf1LAsoybTIB+UsDHaxc7jn1SwDj1jOJ5flLAPYwi3JB/UsDx1zx/rX9SwD4JOGe5fFLAbFr6zyGAUsAc33wZo35SwCKDnlUSf1LAxeX7MXmAUsCIYWvcuX9SwOP/1+EbfVLAxSH55Ul+UsCMZb9iDXxSwB7Htm1CgFLAPuPrBtxyUsD1ZWno5XpSwBXxZr82cVLABvcDHthwUsCm7Rz3KHZSwLUvDzwTdFLAMoRjlh1vUsAhRgiP9nVSwLgM/+kOd1LAoAv08kp6UsAlW6R7MHhSwIYuqG95cVLA08jcw0F4UsDDRA9ZO3BSwFvMg5pydFLAk9Deuj92UsDhkMuHeXJSwE45JabSeFLAgbB/FQpxUsA9bypS4XVSwBvZ4oJUeFLA3OR2fXByUsAR5845pXJSwBiF3QAudVLADfc622t0UsDFZ1aOnm9SwCG5ZMkEfFLAuY5Ecp95UsCRJzFOTnhSwJWDHV81dlLAGyWDfXxvUsALHSorH3dSwFEvC0YQdVLAPoVrAft5UsB7QWS9JHRSwDp/TMAFb1LAi2Po/J5zUsBHdbaYv3BSwIfs7STEcFLA3n0ELep6UsBi5hTV5XZSwH5DyXW6eVLA0U51N76EUsBLVwn7OIVSwNPRhABzhVLAdeOhoLKHUsD2PI+8OYVSwMoa9RANhVLAj1uRgISFUsBPC1ApaodSwA==",
           "dtype": "f8",
           "shape": "155"
          },
          "bdata": "e565NQJ3UsCfFrwZzXhSwBplhMtsd1LAl1k3El9yUsBPsw35LXpSwETMrkzfdlLAVOdmTyt7UsA8j2Y7wXpSwHD6UuGTdVLAk4Rr2Ut5UsA85MMWW3tSwAQ2NzjeeFLA77t4rrN5UsDm3URVw3lSwAaqw2OyelLA8gs60rd2UsB38Km753lSwFEsC3LielLAXgm3j+95UsC+PdLaQHhSwPSF10BSd1LAafRLDzZ1UsDbn8V+/XVSwIS3RGRWe1LAK7tdokx1UsCS1yt3kndSwKby7BaMdFLAI6XZPA55UsCHAH5RM3pSwPYaf/6ddlLA37wlJvV2UsAbP2flkYBSwG8yclytgVLASY7VJCF8UsCFs8KzjX9SwOQtVz82elLAr5rjERF/UsDfw0Lr0X9SwIjaJj6BfVLAQh5FyaJ/UsB8SRxFfHpSwLn8xVXkelLAgAdGg7N5UsArOi53v39SwPM8Ix63fVLAAANInrR/UsCpJgzYKoBSwHGwinlOf1LATbSOvoJ8UsB1i6vIjXhSwCiyWMcyf1LAxYA2gwl/UsD2kA6eGXxSwKhVdX2ReFLAwlkwnXd9UsCqQnfTmXtSwLM/F6tWflLASVK/+A+CUsBsJaZ3S39SwGpSboCLflLA2PsPFtZ8UsCS9j0Lb35SwH+DYPVjfVLAiqGo8Vh+UsBMRTSWqH5SwNVa8830fVLAKmNYxR59UsD1KY/LoIBSwE4v1lH1fFLAFvdI/RB/UsCy8ajbM4BSwIffOuzrflLAoCL6Get8UsAMp8Csm35SwMcojZkOgVLAsZFTlNx/UsC2LkOZnn9SwCSw4rM7gFLA3RgO1k18UsBm7ro+935SwJtx2f+RgFLAG5vS1UB/UsBtvT8kAH9SwElLsRrnf1LAvtEkz6p8UsAD4OHGd39SwCePQVAse1LAdRcQ5K5+UsC8WFx10H9SwFGJ1lBBf1LAsoybTIB+UsDHaxc7jn1SwDj1jOJ5flLAPYwi3JB/UsDx1zx/rX9SwD4JOGe5fFLAbFr6zyGAUsAc33wZo35SwCKDnlUSf1LAxeX7MXmAUsCIYWvcuX9SwOP/1+EbfVLAxSH55Ul+UsCMZb9iDXxSwB7Htm1CgFLAPuPrBtxyUsD1ZWno5XpSwBXxZr82cVLABvcDHthwUsCm7Rz3KHZSwLUvDzwTdFLAMoRjlh1vUsAhRgiP9nVSwLgM/+kOd1LAoAv08kp6UsAlW6R7MHhSwIYuqG95cVLA08jcw0F4UsDDRA9ZO3BSwFvMg5pydFLAk9Deuj92UsDhkMuHeXJSwE45JabSeFLAgbB/FQpxUsA9bypS4XVSwBvZ4oJUeFLA3OR2fXByUsAR5845pXJSwBiF3QAudVLADfc622t0UsDFZ1aOnm9SwCG5ZMkEfFLAuY5Ecp95UsCRJzFOTnhSwJWDHV81dlLAGyWDfXxvUsALHSorH3dSwFEvC0YQdVLAPoVrAft5UsB7QWS9JHRSwDp/TMAFb1LAi2Po/J5zUsBHdbaYv3BSwIfs7STEcFLA3n0ELep6UsBi5hTV5XZSwH5DyXW6eVLA0U51N76EUsBLVwn7OIVSwNPRhABzhVLAdeOhoLKHUsD2PI+8OYVSwMoa9RANhVLAj1uRgISFUsBPC1ApaodSwA==",
          "dtype": "f8"
         },
         "marker": {
          "color": {
           "_inputArray": {
            "0": -282.7543859649122,
            "1": -6.286637931034534,
            "10": 9.651063829787176,
            "100": 13.305215092525827,
            "101": 4.554091532182724,
            "102": -11.889848648284215,
            "103": 30.17675202407088,
            "104": 4.025204634320858,
            "105": -39.46181758205512,
            "106": -15.65785409575517,
            "107": 25.49827265479678,
            "108": -35.075187969924855,
            "109": 255.76666666666665,
            "11": 6.814492753623199,
            "110": -39.12756598240469,
            "111": -166.4357142857143,
            "112": -28.913043478260875,
            "113": 77.56536796536795,
            "114": -3.1584531620828784,
            "115": 17.53998599439774,
            "116": -78,
            "117": 80.70956163577523,
            "118": 42.44385382059795,
            "119": -7.821686223381221,
            "12": 10.81196581196582,
            "120": 37.4878274869493,
            "121": 19.232740801984278,
            "122": 3.287802840434324,
            "123": -198.53473684210525,
            "124": -167.58573853989816,
            "125": -73.39700374531833,
            "126": 12.429151771205738,
            "127": 31.203266787658777,
            "128": 61.49940898345153,
            "129": 70.48847926267274,
            "13": 81.8479036574488,
            "130": -250.01696428571427,
            "131": 46.571255107547586,
            "132": -87.82285012285013,
            "133": -161.52564102564105,
            "134": 154.67207792207785,
            "135": 12.825319537431483,
            "136": 114.62765957446811,
            "137": -63.02512396694215,
            "138": -0.45043537541448586,
            "139": -81.31537405628,
            "14": 3.7180527383367235,
            "140": 4.844772196261715,
            "141": 4.906065485775571,
            "142": -30.83778248105409,
            "143": 1.6779310344827536,
            "144": 16.790083632019105,
            "145": -31.55691865605661,
            "146": 26.554768418995536,
            "147": 86.69076923076932,
            "148": 40.559999999999945,
            "149": 55.5333333333333,
            "15": -158.25925925925935,
            "150": 76.59259259259255,
            "151": -72.52743271221539,
            "152": 157.4960317460318,
            "153": -17.05944055944053,
            "154": -67.05645161290317,
            "16": -224.78333333333336,
            "17": 62.968253968253975,
            "18": -52.580286168521525,
            "19": 302.5571725571726,
            "2": -61.15601503759399,
            "20": -55.391196013289004,
            "21": -32.79089026915108,
            "22": -154.94833333333332,
            "23": 30.566888045540736,
            "24": 76.34210526315792,
            "25": 19.807692307692264,
            "26": -221.20689655172418,
            "27": 41.35000000000002,
            "28": 17.289772727272748,
            "29": 9.757936507936506,
            "3": -17.597499999999968,
            "30": -81.49702244617492,
            "31": -202.49285714285713,
            "32": 36.200184034966696,
            "33": 19.238174297068213,
            "34": 33.60469667318978,
            "35": -54.222222222222285,
            "36": -6.458532590894265,
            "37": -14.383497394325332,
            "38": 46.75272988505742,
            "39": 137.21884608428286,
            "4": 28.420745920745844,
            "40": 1.4318181818181301,
            "41": 0.4151237210422778,
            "42": -34.19872870582253,
            "43": 80.82468204673171,
            "44": 9.756954069607787,
            "45": 78.08966530981456,
            "46": -48.38524590163934,
            "47": 270.5666666666667,
            "48": 25.53613636167438,
            "49": 26.19754738015604,
            "5": -179.3438596491228,
            "50": 98.21590909090912,
            "51": 67.8223684210526,
            "52": 16.774286114221695,
            "53": -40.75637084332732,
            "54": -13.634611588009648,
            "55": -68.02624041393335,
            "56": 37.827683615819296,
            "57": 60.895927601809944,
            "58": 9.545671685002844,
            "59": 70.72183908045974,
            "6": 70.73248226950352,
            "60": 14.779167103416967,
            "61": 0.17292734398552057,
            "62": -20.46877064220189,
            "63": -267.26363636363635,
            "64": -9.378435283687963,
            "65": 5.060394024208449,
            "66": 9.176542898856042,
            "67": 15.735606060606074,
            "68": 77.97472290640394,
            "69": 16.306287869668154,
            "7": 53.25284090909088,
            "70": -17.810957606204738,
            "71": 115.29047619047617,
            "72": -22.937626074595528,
            "73": 27.807731354939506,
            "74": 52.042105263157964,
            "75": 8.570373898547246,
            "76": -18.535446568260568,
            "77": -109.87891737891744,
            "78": 3.190984853093255,
            "79": -16.708034363203296,
            "8": -131.21428571428567,
            "80": 25.842582480090982,
            "81": -109.02935323383088,
            "82": -62.937477916754915,
            "83": -37.58401067196132,
            "84": 12.406485451793401,
            "85": 14.610032894736946,
            "86": -16.07925285851445,
            "87": -0.2455251654064341,
            "88": 46.794250160909655,
            "89": 9.589806428309544,
            "9": -80.67268088208493,
            "90": 10.114739829041696,
            "91": 16.02725472850591,
            "92": -65.17581335693774,
            "93": 108.37611408199643,
            "94": -33.194916566050665,
            "95": -92.01784007645745,
            "96": 32.06089692315902,
            "97": -43.206876456876444,
            "98": 65.9774328925489,
            "99": 27.481804478897516,
            "bdata": "wH0E9xGsccCAWO5phCUZwEAT/kz4k07AIFyPwvWYMcBghzEBtms8QLBs8+UAa2bAuBpQ/eCuUUBw0UUXXaBKQGzbtm3bZmDAwEwdNA0rVMDAFgE9WE0jQACQbmMKQhtAALqf+7mfJUCwubMNRHZUQACtH2+Svg1AiPYS2kvIY8ASERERERlswMDv+77ve09AgA8y0UZKSsCPdMUt6uhyQHCzAbYSskvAQF1w5DtlQMDyiyW/WF5jwEAXMJMfkT5AYEN5DeUVU0DgxE7sxM4zQPBphOWepmvA0MzMzMysREDA6KKLLkoxQEAQBEEQhCNAwOw7N89fVMB8xVd8xU9pwICuZaGfGUJA4Keg/fg8M0DQrFmzZs1AQNBxHMdxHEvAACpIkYnVGcAAdT3FWcQswJCF73NZYEdASNuAyQAnYUAAoosuuuj2PwDoahVjkdo/YCQ28W8ZQcDoEzWXxzRUQEAU23uPgyNAUE+RE72FU0DAOtq8TzFIwBIRERER6XBAgJaLO0CJOUBALhF3kjI6QEgXXXTRjVhAyGsor6H0UEBAVGKdN8YwQJDegcLQYETAAFRgz+tEK8BY60XsrQFRwICwZonx6UJAwK1ywa1yTkCA4XJHYhcjQCjjipwyrlFAAJeW/e6OLUAAQICzeyLGPwCVUVoBeDTArH3D2je0cMBAL/5EwsEiwIBlW+7XPRRAANux1GNaIkDAFYpboXgvQLBqL9xhflNA4GK/4WhOMECAF+3qms8xwCiXcimX0lxAwEMuQwjwNsBAa2l7x847QGAgjLRjBUpAQIExDAgkIUBAb7sGE4kywIiVrS5AeFvAAIkQESOHCUAAZ3K9QbUwwGAsRHyz1zlAeNVi7OBBW8Cgl8BG/3dPwGBLmNzAykLAQIFz3B7QKEBAwkg7VjgtQCBvU+pJFDDAAADiXV5tz7+Q+UD9qWVHQMAesRv7LSNAwJDKLb86JEAgmHcq+gYwQNiPqoZAS1DAWG/MQBIYW0BwUaoG85hAwFg8tEokAVfAkLJqeMsHQEBgTIDteppFwBDisEKOflBAYO7PiVd7O0DASREnRZwqQIDcRsVjNxJAgIr1PZrHJ8Dg4uKePy0+QIB2YD7PGRBAgNKp1hy7Q8DAnYVA0lAvwODX9MuOfzlAoPBnwp+JQcCIiIiIiPhvQFBBBRVUkEPAYPEVX/HNZMDg9KY3vek8wIhdHv0uZFNAAMBoF4NECcCAPKqFPIoxQAAAAAAAgFPAqAk1dWktVEAg1rUz0DhFQAD8Ax1oSR/AwESPIXG+QkCg97TmlDszQADkWpNrTQpA3hlwkBzRaMDSG8BevvJkwAiiZYJoWVLAwLLsx7nbKECAW81KCTQ/QGCgMaLsv05ACH2GPkOfUUD4iq/4ikBvwIBLKuMeSUdAqMmPk6n0VcAO0iAN0jBkwAT2jqmBVWNAQAlMSJCmKUAoVxCTK6hcQGAuHEM3g0/AAHiX5e7T3L+wbqoWL1RUwIAObvYLYRNAAMN1oc+fE0AASqXpeNY+wADAYDbO2Po/gKDA60LKMECgS5Y4ko4/wIBwmE0FjjpAMM8lkDWsVUBA4XoUrkdEQEBERERExEtAXEJ7Ce0lU0CQcyJ1wSFSwIDf933fr2NAYNoafzcPMcBwzjnnnMNQwA==",
            "dtype": "f8",
            "shape": "155"
           },
           "bdata": "wH0E9xGsccCAWO5phCUZwEAT/kz4k07AIFyPwvWYMcBghzEBtms8QLBs8+UAa2bAuBpQ/eCuUUBw0UUXXaBKQGzbtm3bZmDAwEwdNA0rVMDAFgE9WE0jQACQbmMKQhtAALqf+7mfJUCwubMNRHZUQACtH2+Svg1AiPYS2kvIY8ASERERERlswMDv+77ve09AgA8y0UZKSsCPdMUt6uhyQHCzAbYSskvAQF1w5DtlQMDyiyW/WF5jwEAXMJMfkT5AYEN5DeUVU0DgxE7sxM4zQPBphOWepmvA0MzMzMysREDA6KKLLkoxQEAQBEEQhCNAwOw7N89fVMB8xVd8xU9pwICuZaGfGUJA4Keg/fg8M0DQrFmzZs1AQNBxHMdxHEvAACpIkYnVGcAAdT3FWcQswJCF73NZYEdASNuAyQAnYUAAoosuuuj2PwDoahVjkdo/YCQ28W8ZQcDoEzWXxzRUQEAU23uPgyNAUE+RE72FU0DAOtq8TzFIwBIRERER6XBAgJaLO0CJOUBALhF3kjI6QEgXXXTRjVhAyGsor6H0UEBAVGKdN8YwQJDegcLQYETAAFRgz+tEK8BY60XsrQFRwICwZonx6UJAwK1ywa1yTkCA4XJHYhcjQCjjipwyrlFAAJeW/e6OLUAAQICzeyLGPwCVUVoBeDTArH3D2je0cMBAL/5EwsEiwIBlW+7XPRRAANux1GNaIkDAFYpboXgvQLBqL9xhflNA4GK/4WhOMECAF+3qms8xwCiXcimX0lxAwEMuQwjwNsBAa2l7x847QGAgjLRjBUpAQIExDAgkIUBAb7sGE4kywIiVrS5AeFvAAIkQESOHCUAAZ3K9QbUwwGAsRHyz1zlAeNVi7OBBW8Cgl8BG/3dPwGBLmNzAykLAQIFz3B7QKEBAwkg7VjgtQCBvU+pJFDDAAADiXV5tz7+Q+UD9qWVHQMAesRv7LSNAwJDKLb86JEAgmHcq+gYwQNiPqoZAS1DAWG/MQBIYW0BwUaoG85hAwFg8tEokAVfAkLJqeMsHQEBgTIDteppFwBDisEKOflBAYO7PiVd7O0DASREnRZwqQIDcRsVjNxJAgIr1PZrHJ8Dg4uKePy0+QIB2YD7PGRBAgNKp1hy7Q8DAnYVA0lAvwODX9MuOfzlAoPBnwp+JQcCIiIiIiPhvQFBBBRVUkEPAYPEVX/HNZMDg9KY3vek8wIhdHv0uZFNAAMBoF4NECcCAPKqFPIoxQAAAAAAAgFPAqAk1dWktVEAg1rUz0DhFQAD8Ax1oSR/AwESPIXG+QkCg97TmlDszQADkWpNrTQpA3hlwkBzRaMDSG8BevvJkwAiiZYJoWVLAwLLsx7nbKECAW81KCTQ/QGCgMaLsv05ACH2GPkOfUUD4iq/4ikBvwIBLKuMeSUdAqMmPk6n0VcAO0iAN0jBkwAT2jqmBVWNAQAlMSJCmKUAoVxCTK6hcQGAuHEM3g0/AAHiX5e7T3L+wbqoWL1RUwIAObvYLYRNAAMN1oc+fE0AASqXpeNY+wADAYDbO2Po/gKDA60LKMECgS5Y4ko4/wIBwmE0FjjpAMM8lkDWsVUBA4XoUrkdEQEBERERExEtAXEJ7Ce0lU0CQcyJ1wSFSwIDf933fr2NAYNoafzcPMcBwzjnnnMNQwA==",
           "dtype": "f8"
          },
          "coloraxis": "coloraxis",
          "opacity": 1,
          "size": {
           "_inputArray": {
            "0": 95,
            "1": 45,
            "10": 67,
            "100": 130,
            "101": 3659,
            "102": 3842,
            "103": 1776,
            "104": 1475,
            "105": 223,
            "106": 1867,
            "107": 124,
            "108": 40,
            "109": 31,
            "11": 53,
            "110": 119,
            "111": 78,
            "112": 48,
            "113": 160,
            "114": 682,
            "115": 484,
            "116": 32,
            "117": 529,
            "118": 78,
            "119": 980,
            "12": 164,
            "120": 302,
            "121": 100,
            "122": 139,
            "123": 44,
            "124": 50,
            "125": 445,
            "126": 617,
            "127": 48,
            "128": 83,
            "129": 66,
            "13": 135,
            "130": 67,
            "131": 1150,
            "132": 258,
            "133": 65,
            "134": 150,
            "135": 146,
            "136": 235,
            "137": 221,
            "138": 905,
            "139": 187,
            "14": 46,
            "140": 171,
            "141": 127,
            "142": 248,
            "143": 216,
            "144": 789,
            "145": 191,
            "146": 582,
            "147": 51,
            "148": 39,
            "149": 60,
            "15": 45,
            "150": 45,
            "151": 125,
            "152": 64,
            "153": 109,
            "154": 59,
            "16": 44,
            "17": 149,
            "18": 54,
            "19": 76,
            "2": 47,
            "20": 99,
            "21": 44,
            "22": 74,
            "23": 99,
            "24": 47,
            "25": 33,
            "26": 58,
            "27": 30,
            "28": 54,
            "29": 159,
            "3": 41,
            "30": 96,
            "31": 48,
            "32": 304,
            "33": 7903,
            "34": 157,
            "35": 30,
            "36": 357,
            "37": 267,
            "38": 167,
            "39": 308,
            "4": 59,
            "40": 153,
            "41": 4957,
            "42": 401,
            "43": 478,
            "44": 1135,
            "45": 199,
            "46": 89,
            "47": 50,
            "48": 3241,
            "49": 333,
            "5": 49,
            "50": 70,
            "51": 175,
            "52": 1208,
            "53": 604,
            "54": 1292,
            "55": 216,
            "56": 945,
            "57": 120,
            "58": 490,
            "59": 142,
            "6": 122,
            "60": 2129,
            "61": 369,
            "62": 234,
            "63": 31,
            "64": 999,
            "65": 695,
            "66": 1162,
            "67": 178,
            "68": 369,
            "69": 564,
            "7": 76,
            "70": 862,
            "71": 72,
            "72": 7732,
            "73": 327,
            "74": 118,
            "75": 2276,
            "76": 787,
            "77": 106,
            "78": 2327,
            "79": 3463,
            "8": 35,
            "80": 1486,
            "81": 157,
            "82": 691,
            "83": 738,
            "84": 5439,
            "85": 3952,
            "86": 543,
            "87": 913,
            "88": 276,
            "89": 1936,
            "9": 152,
            "90": 3377,
            "91": 632,
            "92": 956,
            "93": 139,
            "94": 527,
            "95": 159,
            "96": 681,
            "97": 83,
            "98": 565,
            "99": 345,
            "bdata": "XwAtAC8AKQA7ADEAegBMACMAmABDADUApACHAC4ALQAsAJUANgBMAGMALABKAGMALwAhADoAHgA2AJ8AYAAwADAB3x6dAB4AZQELAacANAGZAF0TkQHeAW8ExwBZADIAqQxNAUYArwC4BFwCDAXYALEDeADqAY4AUQhxAeoAHwDnA7cCigSyAHEBNAJeA0gANB5HAXYA5AgTA2oAFwmHDc4FnQCzAuICPxVwDx8CkQMUAZAHMQ14ArwDiwAPAp8AqQJTADUCWQGCAEsOAg/wBsMF3wBLB3wAKAAfAHcATgAwAKAAqgLkASAAEQJOANQDLgFkAIsALAAyAL0BaQIwAFMAQgBDAH4EAgFBAJYAkgDrAN0AiQO7AKsAfwD4ANgAFQO/AEYCMwAnADwALQB9AEAAbQA7AA==",
            "dtype": "i2",
            "shape": "155"
           },
           "bdata": "XwAtAC8AKQA7ADEAegBMACMAmABDADUApACHAC4ALQAsAJUANgBMAGMALABKAGMALwAhADoAHgA2AJ8AYAAwADAB3x6dAB4AZQELAacANAGZAF0TkQHeAW8ExwBZADIAqQxNAUYArwC4BFwCDAXYALEDeADqAY4AUQhxAeoAHwDnA7cCigSyAHEBNAJeA0gANB5HAXYA5AgTA2oAFwmHDc4FnQCzAuICPxVwDx8CkQMUAZAHMQ14ArwDiwAPAp8AqQJTADUCWQGCAEsOAg/wBsMF3wBLB3wAKAAfAHcATgAwAKAAqgLkASAAEQJOANQDLgFkAIsALAAyAL0BaQIwAFMAQgBDAH4EAgFBAJYAkgDrAN0AiQO7AKsAfwD4ANgAFQO/AEYCMwAnADwALQB9AEAAbQA7AA==",
           "dtype": "i2"
          },
          "sizemode": "area",
          "sizeref": 12.6448
         },
         "mode": "markers",
         "name": "",
         "showlegend": false,
         "subplot": "map",
         "type": "scattermap"
        }
       ],
       "layout": {
        "coloraxis": {
         "cmid": 0,
         "colorbar": {
          "title": {
           "text": "Price Premium ($)"
          }
         },
         "colorscale": [
          [
           0,
           "rgb(0,0,255)"
          ],
          [
           1,
           "rgb(255,0,0)"
          ]
         ]
        },
        "font": {
         "size": 12
        },
        "height": 800,
        "legend": {
         "itemsizing": "constant",
         "tracegroupgap": 0
        },
        "map": {
         "bearing": 0,
         "center": {
          "lat": 40.735780810853214,
          "lon": -73.90302813063016
         },
         "domain": {
          "x": [
           0,
           1
          ],
          "y": [
           0,
           1
          ]
         },
         "pitch": 0,
         "zoom": 11.027167745717762
        },
        "mapbox": {
         "center": {
          "lat": 40.7589,
          "lon": -73.9851
         },
         "zoom": 10.5
        },
        "template": {
         "data": {
          "bar": [
           {
            "error_x": {
             "color": "#2a3f5f"
            },
            "error_y": {
             "color": "#2a3f5f"
            },
            "marker": {
             "line": {
              "color": "#E5ECF6",
              "width": 0.5
             },
             "pattern": {
              "fillmode": "overlay",
              "size": 10,
              "solidity": 0.2
             }
            },
            "type": "bar"
           }
          ],
          "barpolar": [
           {
            "marker": {
             "line": {
              "color": "#E5ECF6",
              "width": 0.5
             },
             "pattern": {
              "fillmode": "overlay",
              "size": 10,
              "solidity": 0.2
             }
            },
            "type": "barpolar"
           }
          ],
          "carpet": [
           {
            "aaxis": {
             "endlinecolor": "#2a3f5f",
             "gridcolor": "white",
             "linecolor": "white",
             "minorgridcolor": "white",
             "startlinecolor": "#2a3f5f"
            },
            "baxis": {
             "endlinecolor": "#2a3f5f",
             "gridcolor": "white",
             "linecolor": "white",
             "minorgridcolor": "white",
             "startlinecolor": "#2a3f5f"
            },
            "type": "carpet"
           }
          ],
          "choropleth": [
           {
            "colorbar": {
             "outlinewidth": 0,
             "ticks": ""
            },
            "type": "choropleth"
           }
          ],
          "contour": [
           {
            "colorbar": {
             "outlinewidth": 0,
             "ticks": ""
            },
            "colorscale": [
             [
              0,
              "#0d0887"
             ],
             [
              0.1111111111111111,
              "#46039f"
             ],
             [
              0.2222222222222222,
              "#7201a8"
             ],
             [
              0.3333333333333333,
              "#9c179e"
             ],
             [
              0.4444444444444444,
              "#bd3786"
             ],
             [
              0.5555555555555556,
              "#d8576b"
             ],
             [
              0.6666666666666666,
              "#ed7953"
             ],
             [
              0.7777777777777778,
              "#fb9f3a"
             ],
             [
              0.8888888888888888,
              "#fdca26"
             ],
             [
              1,
              "#f0f921"
             ]
            ],
            "type": "contour"
           }
          ],
          "contourcarpet": [
           {
            "colorbar": {
             "outlinewidth": 0,
             "ticks": ""
            },
            "type": "contourcarpet"
           }
          ],
          "heatmap": [
           {
            "colorbar": {
             "outlinewidth": 0,
             "ticks": ""
            },
            "colorscale": [
             [
              0,
              "#0d0887"
             ],
             [
              0.1111111111111111,
              "#46039f"
             ],
             [
              0.2222222222222222,
              "#7201a8"
             ],
             [
              0.3333333333333333,
              "#9c179e"
             ],
             [
              0.4444444444444444,
              "#bd3786"
             ],
             [
              0.5555555555555556,
              "#d8576b"
             ],
             [
              0.6666666666666666,
              "#ed7953"
             ],
             [
              0.7777777777777778,
              "#fb9f3a"
             ],
             [
              0.8888888888888888,
              "#fdca26"
             ],
             [
              1,
              "#f0f921"
             ]
            ],
            "type": "heatmap"
           }
          ],
          "histogram": [
           {
            "marker": {
             "pattern": {
              "fillmode": "overlay",
              "size": 10,
              "solidity": 0.2
             }
            },
            "type": "histogram"
           }
          ],
          "histogram2d": [
           {
            "colorbar": {
             "outlinewidth": 0,
             "ticks": ""
            },
            "colorscale": [
             [
              0,
              "#0d0887"
             ],
             [
              0.1111111111111111,
              "#46039f"
             ],
             [
              0.2222222222222222,
              "#7201a8"
             ],
             [
              0.3333333333333333,
              "#9c179e"
             ],
             [
              0.4444444444444444,
              "#bd3786"
             ],
             [
              0.5555555555555556,
              "#d8576b"
             ],
             [
              0.6666666666666666,
              "#ed7953"
             ],
             [
              0.7777777777777778,
              "#fb9f3a"
             ],
             [
              0.8888888888888888,
              "#fdca26"
             ],
             [
              1,
              "#f0f921"
             ]
            ],
            "type": "histogram2d"
           }
          ],
          "histogram2dcontour": [
           {
            "colorbar": {
             "outlinewidth": 0,
             "ticks": ""
            },
            "colorscale": [
             [
              0,
              "#0d0887"
             ],
             [
              0.1111111111111111,
              "#46039f"
             ],
             [
              0.2222222222222222,
              "#7201a8"
             ],
             [
              0.3333333333333333,
              "#9c179e"
             ],
             [
              0.4444444444444444,
              "#bd3786"
             ],
             [
              0.5555555555555556,
              "#d8576b"
             ],
             [
              0.6666666666666666,
              "#ed7953"
             ],
             [
              0.7777777777777778,
              "#fb9f3a"
             ],
             [
              0.8888888888888888,
              "#fdca26"
             ],
             [
              1,
              "#f0f921"
             ]
            ],
            "type": "histogram2dcontour"
           }
          ],
          "mesh3d": [
           {
            "colorbar": {
             "outlinewidth": 0,
             "ticks": ""
            },
            "type": "mesh3d"
           }
          ],
          "parcoords": [
           {
            "line": {
             "colorbar": {
              "outlinewidth": 0,
              "ticks": ""
             }
            },
            "type": "parcoords"
           }
          ],
          "pie": [
           {
            "automargin": true,
            "type": "pie"
           }
          ],
          "scatter": [
           {
            "fillpattern": {
             "fillmode": "overlay",
             "size": 10,
             "solidity": 0.2
            },
            "type": "scatter"
           }
          ],
          "scatter3d": [
           {
            "line": {
             "colorbar": {
              "outlinewidth": 0,
              "ticks": ""
             }
            },
            "marker": {
             "colorbar": {
              "outlinewidth": 0,
              "ticks": ""
             }
            },
            "type": "scatter3d"
           }
          ],
          "scattercarpet": [
           {
            "marker": {
             "colorbar": {
              "outlinewidth": 0,
              "ticks": ""
             }
            },
            "type": "scattercarpet"
           }
          ],
          "scattergeo": [
           {
            "marker": {
             "colorbar": {
              "outlinewidth": 0,
              "ticks": ""
             }
            },
            "type": "scattergeo"
           }
          ],
          "scattergl": [
           {
            "marker": {
             "colorbar": {
              "outlinewidth": 0,
              "ticks": ""
             }
            },
            "type": "scattergl"
           }
          ],
          "scattermap": [
           {
            "marker": {
             "colorbar": {
              "outlinewidth": 0,
              "ticks": ""
             }
            },
            "type": "scattermap"
           }
          ],
          "scattermapbox": [
           {
            "marker": {
             "colorbar": {
              "outlinewidth": 0,
              "ticks": ""
             }
            },
            "type": "scattermapbox"
           }
          ],
          "scatterpolar": [
           {
            "marker": {
             "colorbar": {
              "outlinewidth": 0,
              "ticks": ""
             }
            },
            "type": "scatterpolar"
           }
          ],
          "scatterpolargl": [
           {
            "marker": {
             "colorbar": {
              "outlinewidth": 0,
              "ticks": ""
             }
            },
            "type": "scatterpolargl"
           }
          ],
          "scatterternary": [
           {
            "marker": {
             "colorbar": {
              "outlinewidth": 0,
              "ticks": ""
             }
            },
            "type": "scatterternary"
           }
          ],
          "surface": [
           {
            "colorbar": {
             "outlinewidth": 0,
             "ticks": ""
            },
            "colorscale": [
             [
              0,
              "#0d0887"
             ],
             [
              0.1111111111111111,
              "#46039f"
             ],
             [
              0.2222222222222222,
              "#7201a8"
             ],
             [
              0.3333333333333333,
              "#9c179e"
             ],
             [
              0.4444444444444444,
              "#bd3786"
             ],
             [
              0.5555555555555556,
              "#d8576b"
             ],
             [
              0.6666666666666666,
              "#ed7953"
             ],
             [
              0.7777777777777778,
              "#fb9f3a"
             ],
             [
              0.8888888888888888,
              "#fdca26"
             ],
             [
              1,
              "#f0f921"
             ]
            ],
            "type": "surface"
           }
          ],
          "table": [
           {
            "cells": {
             "fill": {
              "color": "#EBF0F8"
             },
             "line": {
              "color": "white"
             }
            },
            "header": {
             "fill": {
              "color": "#C8D4E3"
             },
             "line": {
              "color": "white"
             }
            },
            "type": "table"
           }
          ]
         },
         "layout": {
          "annotationdefaults": {
           "arrowcolor": "#2a3f5f",
           "arrowhead": 0,
           "arrowwidth": 1
          },
          "autotypenumbers": "strict",
          "coloraxis": {
           "colorbar": {
            "outlinewidth": 0,
            "ticks": ""
           }
          },
          "colorscale": {
           "diverging": [
            [
             0,
             "#8e0152"
            ],
            [
             0.1,
             "#c51b7d"
            ],
            [
             0.2,
             "#de77ae"
            ],
            [
             0.3,
             "#f1b6da"
            ],
            [
             0.4,
             "#fde0ef"
            ],
            [
             0.5,
             "#f7f7f7"
            ],
            [
             0.6,
             "#e6f5d0"
            ],
            [
             0.7,
             "#b8e186"
            ],
            [
             0.8,
             "#7fbc41"
            ],
            [
             0.9,
             "#4d9221"
            ],
            [
             1,
             "#276419"
            ]
           ],
           "sequential": [
            [
             0,
             "#0d0887"
            ],
            [
             0.1111111111111111,
             "#46039f"
            ],
            [
             0.2222222222222222,
             "#7201a8"
            ],
            [
             0.3333333333333333,
             "#9c179e"
            ],
            [
             0.4444444444444444,
             "#bd3786"
            ],
            [
             0.5555555555555556,
             "#d8576b"
            ],
            [
             0.6666666666666666,
             "#ed7953"
            ],
            [
             0.7777777777777778,
             "#fb9f3a"
            ],
            [
             0.8888888888888888,
             "#fdca26"
            ],
            [
             1,
             "#f0f921"
            ]
           ],
           "sequentialminus": [
            [
             0,
             "#0d0887"
            ],
            [
             0.1111111111111111,
             "#46039f"
            ],
            [
             0.2222222222222222,
             "#7201a8"
            ],
            [
             0.3333333333333333,
             "#9c179e"
            ],
            [
             0.4444444444444444,
             "#bd3786"
            ],
            [
             0.5555555555555556,
             "#d8576b"
            ],
            [
             0.6666666666666666,
             "#ed7953"
            ],
            [
             0.7777777777777778,
             "#fb9f3a"
            ],
            [
             0.8888888888888888,
             "#fdca26"
            ],
            [
             1,
             "#f0f921"
            ]
           ]
          },
          "colorway": [
           "#636efa",
           "#EF553B",
           "#00cc96",
           "#ab63fa",
           "#FFA15A",
           "#19d3f3",
           "#FF6692",
           "#B6E880",
           "#FF97FF",
           "#FECB52"
          ],
          "font": {
           "color": "#2a3f5f"
          },
          "geo": {
           "bgcolor": "white",
           "lakecolor": "white",
           "landcolor": "#E5ECF6",
           "showlakes": true,
           "showland": true,
           "subunitcolor": "white"
          },
          "hoverlabel": {
           "align": "left"
          },
          "hovermode": "closest",
          "mapbox": {
           "style": "light"
          },
          "paper_bgcolor": "white",
          "plot_bgcolor": "#E5ECF6",
          "polar": {
           "angularaxis": {
            "gridcolor": "white",
            "linecolor": "white",
            "ticks": ""
           },
           "bgcolor": "#E5ECF6",
           "radialaxis": {
            "gridcolor": "white",
            "linecolor": "white",
            "ticks": ""
           }
          },
          "scene": {
           "xaxis": {
            "backgroundcolor": "#E5ECF6",
            "gridcolor": "white",
            "gridwidth": 2,
            "linecolor": "white",
            "showbackground": true,
            "ticks": "",
            "zerolinecolor": "white"
           },
           "yaxis": {
            "backgroundcolor": "#E5ECF6",
            "gridcolor": "white",
            "gridwidth": 2,
            "linecolor": "white",
            "showbackground": true,
            "ticks": "",
            "zerolinecolor": "white"
           },
           "zaxis": {
            "backgroundcolor": "#E5ECF6",
            "gridcolor": "white",
            "gridwidth": 2,
            "linecolor": "white",
            "showbackground": true,
            "ticks": "",
            "zerolinecolor": "white"
           }
          },
          "shapedefaults": {
           "line": {
            "color": "#2a3f5f"
           }
          },
          "ternary": {
           "aaxis": {
            "gridcolor": "white",
            "linecolor": "white",
            "ticks": ""
           },
           "baxis": {
            "gridcolor": "white",
            "linecolor": "white",
            "ticks": ""
           },
           "bgcolor": "#E5ECF6",
           "caxis": {
            "gridcolor": "white",
            "linecolor": "white",
            "ticks": ""
           }
          },
          "title": {
           "x": 0.05
          },
          "xaxis": {
           "automargin": true,
           "gridcolor": "white",
           "linecolor": "white",
           "ticks": "",
           "title": {
            "standoff": 15
           },
           "zerolinecolor": "white",
           "zerolinewidth": 2
          },
          "yaxis": {
           "automargin": true,
           "gridcolor": "white",
           "linecolor": "white",
           "ticks": "",
           "title": {
            "standoff": 15
           },
           "zerolinecolor": "white",
           "zerolinewidth": 2
          }
         }
        },
        "title": {
         "font": {
          "size": 16
         },
         "text": "NYC Airbnb: Older vs Newer Property Pricing by Neighborhood<br><sub>Red = Older Properties Cost More | Blue = Newer Properties Cost More</sub>"
        },
        "width": 1200
       }
      },
      "image/png": "[encoded data removed]"
     },
     "metadata": {},
     "output_type": "display_data"
    }
   ],
   "source": [
    "fig = px.scatter_map(\n",
    "    map_data,\n",
    "    lat=\"avg_latitude\",\n",
    "    lon=\"avg_longitude\", \n",
    "    color=\"price_premium_older\",\n",
    "    size=\"total_properties\",\n",
    "    hover_name=\"neighbourhood\",\n",
    "    hover_data={\n",
    "        \"neighbourhood group\": True,\n",
    "        \"avg_price_older\": \":.0f\",\n",
    "        \"avg_price_newer\": \":.0f\", \n",
    "        \"price_premium_older\": \":.0f\",\n",
    "        \"total_properties\": True,\n",
    "        \"distance_from_center\": \":.3f\",\n",
    "        \"avg_latitude\": False,\n",
    "        \"avg_longitude\": False\n",
    "    },\n",
    "    color_continuous_scale=\"Bluered\",\n",
    "    color_continuous_midpoint=0,\n",
    "    size_max=25,\n",
    "    zoom=10.5,\n",
    "    center={\"lat\": 40.7589, \"lon\": -73.9851},\n",
    "    title=\"NYC Airbnb: Older vs Newer Property Pricing by Neighborhood<br><sub>Red = Older Properties Cost More | Blue = Newer Properties Cost More</sub>\",\n",
    "    labels={\n",
    "        \"price_premium_older\": \"Older Property Premium ($)\",\n",
    "        \"total_properties\": \"Properties Count\"\n",
    "    },\n",
    "    width=1200,\n",
    "    height=800\n",
    ")\n",
    "\n",
    "fig.update_traces(\n",
    "    marker=dict(\n",
    "        opacity=1.0\n",
    "    )\n",
    ")\n",
    "\n",
    "fig.update_layout(\n",
    "    font_size=12,\n",
    "    title_font_size=16,\n",
    "    coloraxis_colorbar=dict(\n",
    "        title=\"Price Premium ($)\"\n",
    "    )\n",
    ")"
   ]
  },
  {
   "cell_type": "markdown",
   "id": "3e5ece00-cadf-47fb-aae5-dcd7efeb99ba",
   "metadata": {},
   "source": [
    "## Host impact on pricing"
   ]
  },
  {
   "cell_type": "markdown",
   "id": "8ae85179-74d1-4d8e-b227-3790a028c802",
   "metadata": {},
   "source": [
    "### A/B Test: Pricing difference between casual (= 1) and professional (5+) hosts\n",
    "Alternate Hypothesis: Professional hosts (5+ properties) price higher than casual hosts (1 property)\n",
    "- **Host portfolio size effect:** *Do multi-property hosts charge more per listing?*\n",
    "- Groups:\n",
    "    - Control: calculated_host_listings_count = 1 (Casual hosts)\n",
    "    - Treatment: calculated_host_listings_count >= 5 (Professional hosts)\n",
    "- Primary metric: Average daily price difference\n",
    "- Secondary metric: Total guest cost (price + service fee)"
   ]
  },
  {
   "cell_type": "code",
   "execution_count": 38,
   "id": "60be3e11-d4e4-459b-a0eb-41ca2f29d720",
   "metadata": {},
   "outputs": [
    {
     "name": "stdout",
     "output_type": "stream",
     "text": [
      "1.0\n",
      "1.0\n",
      "2.0\n",
      "1.0\n",
      "-0.5\n",
      "3.5\n",
      "17829\n"
     ]
    },
    {
     "data": {
      "image/png": "[encoded data removed]",
      "text/plain": [
       "<Figure size 432x288 with 1 Axes>"
      ]
     },
     "metadata": {
      "needs_background": "light"
     },
     "output_type": "display_data"
    }
   ],
   "source": [
    "# some quick exploratory to see distribution of properties owned\n",
    "df['calculated host listings count'].hist(bins=50)\n",
    "\n",
    "q1 = df['calculated host listings count'].quantile(0.25)\n",
    "median = df['calculated host listings count'].quantile(0.50)  \n",
    "q3 = df['calculated host listings count'].quantile(0.75)\n",
    "iqr = q3 - q1\n",
    "\n",
    "lower_bound = q1-1.5*iqr\n",
    "upper_bound = q3+1.5*iqr\n",
    "\n",
    "outliers = df[(df['calculated host listings count'] < lower_bound) | (df['calculated host listings count'] > upper_bound)]['calculated host listings count']\n",
    "\n",
    "print(q1)\n",
    "print(median)\n",
    "print(q3)\n",
    "print(iqr)\n",
    "print(lower_bound)\n",
    "print(upper_bound)\n",
    "print(outliers.count())\n",
    "\n",
    "# most hosts are casual with just 1"
   ]
  },
  {
   "cell_type": "code",
   "execution_count": 39,
   "id": "d972e814-e18e-4b38-b828-1225f065601d",
   "metadata": {},
   "outputs": [
    {
     "name": "stdout",
     "output_type": "stream",
     "text": [
      "Portfolio Size Distribution:\n"
     ]
    },
    {
     "data": {
      "text/html": [
       "<div>\n",
       "<style scoped>\n",
       "    .dataframe tbody tr th:only-of-type {\n",
       "        vertical-align: middle;\n",
       "    }\n",
       "\n",
       "    .dataframe tbody tr th {\n",
       "        vertical-align: top;\n",
       "    }\n",
       "\n",
       "    .dataframe thead th {\n",
       "        text-align: right;\n",
       "    }\n",
       "</style>\n",
       "<table border=\"1\" class=\"dataframe\">\n",
       "  <thead>\n",
       "    <tr style=\"text-align: right;\">\n",
       "      <th></th>\n",
       "      <th>portfolio_size</th>\n",
       "      <th>host_count</th>\n",
       "      <th>percentage</th>\n",
       "    </tr>\n",
       "  </thead>\n",
       "  <tbody>\n",
       "    <tr>\n",
       "      <th>0</th>\n",
       "      <td>1.0</td>\n",
       "      <td>63429</td>\n",
       "      <td>62.015057</td>\n",
       "    </tr>\n",
       "    <tr>\n",
       "      <th>1</th>\n",
       "      <td>2.0</td>\n",
       "      <td>14445</td>\n",
       "      <td>14.122996</td>\n",
       "    </tr>\n",
       "    <tr>\n",
       "      <th>2</th>\n",
       "      <td>3.0</td>\n",
       "      <td>6577</td>\n",
       "      <td>6.430387</td>\n",
       "    </tr>\n",
       "    <tr>\n",
       "      <th>3</th>\n",
       "      <td>4.0</td>\n",
       "      <td>3552</td>\n",
       "      <td>3.472820</td>\n",
       "    </tr>\n",
       "    <tr>\n",
       "      <th>4</th>\n",
       "      <td>5.0</td>\n",
       "      <td>1995</td>\n",
       "      <td>1.950528</td>\n",
       "    </tr>\n",
       "    <tr>\n",
       "      <th>5</th>\n",
       "      <td>6.0</td>\n",
       "      <td>1477</td>\n",
       "      <td>1.444075</td>\n",
       "    </tr>\n",
       "    <tr>\n",
       "      <th>6</th>\n",
       "      <td>7.0</td>\n",
       "      <td>996</td>\n",
       "      <td>0.973797</td>\n",
       "    </tr>\n",
       "    <tr>\n",
       "      <th>7</th>\n",
       "      <td>8.0</td>\n",
       "      <td>958</td>\n",
       "      <td>0.936645</td>\n",
       "    </tr>\n",
       "    <tr>\n",
       "      <th>8</th>\n",
       "      <td>9.0</td>\n",
       "      <td>543</td>\n",
       "      <td>0.530896</td>\n",
       "    </tr>\n",
       "    <tr>\n",
       "      <th>9</th>\n",
       "      <td>10.0</td>\n",
       "      <td>516</td>\n",
       "      <td>0.504497</td>\n",
       "    </tr>\n",
       "    <tr>\n",
       "      <th>10</th>\n",
       "      <td>11.0</td>\n",
       "      <td>333</td>\n",
       "      <td>0.325577</td>\n",
       "    </tr>\n",
       "    <tr>\n",
       "      <th>11</th>\n",
       "      <td>12.0</td>\n",
       "      <td>463</td>\n",
       "      <td>0.452679</td>\n",
       "    </tr>\n",
       "    <tr>\n",
       "      <th>12</th>\n",
       "      <td>13.0</td>\n",
       "      <td>302</td>\n",
       "      <td>0.295268</td>\n",
       "    </tr>\n",
       "    <tr>\n",
       "      <th>13</th>\n",
       "      <td>14.0</td>\n",
       "      <td>202</td>\n",
       "      <td>0.197497</td>\n",
       "    </tr>\n",
       "    <tr>\n",
       "      <th>14</th>\n",
       "      <td>15.0</td>\n",
       "      <td>120</td>\n",
       "      <td>0.117325</td>\n",
       "    </tr>\n",
       "    <tr>\n",
       "      <th>15</th>\n",
       "      <td>16.0</td>\n",
       "      <td>67</td>\n",
       "      <td>0.065506</td>\n",
       "    </tr>\n",
       "    <tr>\n",
       "      <th>16</th>\n",
       "      <td>17.0</td>\n",
       "      <td>188</td>\n",
       "      <td>0.183809</td>\n",
       "    </tr>\n",
       "    <tr>\n",
       "      <th>17</th>\n",
       "      <td>18.0</td>\n",
       "      <td>140</td>\n",
       "      <td>0.136879</td>\n",
       "    </tr>\n",
       "    <tr>\n",
       "      <th>18</th>\n",
       "      <td>19.0</td>\n",
       "      <td>105</td>\n",
       "      <td>0.102659</td>\n",
       "    </tr>\n",
       "    <tr>\n",
       "      <th>19</th>\n",
       "      <td>20.0</td>\n",
       "      <td>97</td>\n",
       "      <td>0.094838</td>\n",
       "    </tr>\n",
       "  </tbody>\n",
       "</table>\n",
       "</div>"
      ],
      "text/plain": [
       "    portfolio_size  host_count  percentage\n",
       "0              1.0       63429   62.015057\n",
       "1              2.0       14445   14.122996\n",
       "2              3.0        6577    6.430387\n",
       "3              4.0        3552    3.472820\n",
       "4              5.0        1995    1.950528\n",
       "5              6.0        1477    1.444075\n",
       "6              7.0         996    0.973797\n",
       "7              8.0         958    0.936645\n",
       "8              9.0         543    0.530896\n",
       "9             10.0         516    0.504497\n",
       "10            11.0         333    0.325577\n",
       "11            12.0         463    0.452679\n",
       "12            13.0         302    0.295268\n",
       "13            14.0         202    0.197497\n",
       "14            15.0         120    0.117325\n",
       "15            16.0          67    0.065506\n",
       "16            17.0         188    0.183809\n",
       "17            18.0         140    0.136879\n",
       "18            19.0         105    0.102659\n",
       "19            20.0          97    0.094838"
      ]
     },
     "execution_count": 39,
     "metadata": {},
     "output_type": "execute_result"
    }
   ],
   "source": [
    "q_portfolio_distribution = '''\n",
    "SELECT \n",
    "    `calculated host listings count` AS portfolio_size,\n",
    "    COUNT(*) AS host_count,\n",
    "    COUNT(*) * 100.0/(SELECT COUNT(*) FROM airbnb_data WHERE `calculated host listings count` IS NOT NULL) AS percentage\n",
    "FROM airbnb_data \n",
    "WHERE `calculated host listings count` IS NOT NULL\n",
    "GROUP BY `calculated host listings count`\n",
    "ORDER BY `calculated host listings count`;\n",
    "'''\n",
    "\n",
    "distribution = pd.read_sql(q_portfolio_distribution, conn)\n",
    "print(\"Portfolio Size Distribution:\")\n",
    "distribution.head(20)"
   ]
  },
  {
   "cell_type": "code",
   "execution_count": 50,
   "id": "f2b230c4-24f4-4b9f-a5b6-b68e50134ba0",
   "metadata": {},
   "outputs": [
    {
     "data": {
      "text/html": [
       "<div>\n",
       "<style scoped>\n",
       "    .dataframe tbody tr th:only-of-type {\n",
       "        vertical-align: middle;\n",
       "    }\n",
       "\n",
       "    .dataframe tbody tr th {\n",
       "        vertical-align: top;\n",
       "    }\n",
       "\n",
       "    .dataframe thead th {\n",
       "        text-align: right;\n",
       "    }\n",
       "</style>\n",
       "<table border=\"1\" class=\"dataframe\">\n",
       "  <thead>\n",
       "    <tr style=\"text-align: right;\">\n",
       "      <th></th>\n",
       "      <th>test_group</th>\n",
       "      <th>sample_size</th>\n",
       "      <th>avg_daily_price</th>\n",
       "      <th>avg_total_cost</th>\n",
       "      <th>min_price</th>\n",
       "      <th>max_price</th>\n",
       "      <th>avg_portfolio_size</th>\n",
       "    </tr>\n",
       "  </thead>\n",
       "  <tbody>\n",
       "    <tr>\n",
       "      <th>0</th>\n",
       "      <td>Excluded (3-4 properties)</td>\n",
       "      <td>14390</td>\n",
       "      <td>629.827380</td>\n",
       "      <td>755.793259</td>\n",
       "      <td>50.0</td>\n",
       "      <td>1200.0</td>\n",
       "      <td>2.000000</td>\n",
       "    </tr>\n",
       "    <tr>\n",
       "      <th>1</th>\n",
       "      <td>Treatment (Professional: 5+ properties)</td>\n",
       "      <td>14182</td>\n",
       "      <td>626.171203</td>\n",
       "      <td>751.411367</td>\n",
       "      <td>50.0</td>\n",
       "      <td>1200.0</td>\n",
       "      <td>48.050134</td>\n",
       "    </tr>\n",
       "    <tr>\n",
       "      <th>2</th>\n",
       "      <td>Control (Casual: ≤2 properties)</td>\n",
       "      <td>63137</td>\n",
       "      <td>624.610925</td>\n",
       "      <td>749.532952</td>\n",
       "      <td>50.0</td>\n",
       "      <td>1200.0</td>\n",
       "      <td>1.000000</td>\n",
       "    </tr>\n",
       "  </tbody>\n",
       "</table>\n",
       "</div>"
      ],
      "text/plain": [
       "                                test_group  sample_size  avg_daily_price  \\\n",
       "0                Excluded (3-4 properties)        14390       629.827380   \n",
       "1  Treatment (Professional: 5+ properties)        14182       626.171203   \n",
       "2          Control (Casual: ≤2 properties)        63137       624.610925   \n",
       "\n",
       "   avg_total_cost  min_price  max_price  avg_portfolio_size  \n",
       "0      755.793259       50.0     1200.0            2.000000  \n",
       "1      751.411367       50.0     1200.0           48.050134  \n",
       "2      749.532952       50.0     1200.0            1.000000  "
      ]
     },
     "execution_count": 50,
     "metadata": {},
     "output_type": "execute_result"
    }
   ],
   "source": [
    "# A/B Test: Professional vs Casual Host Pricing\n",
    "q_host_port_ab_test = '''\n",
    "SELECT \n",
    "    CASE \n",
    "        WHEN `calculated host listings count` = 1 THEN 'Control (Casual: ≤2 properties)'\n",
    "        WHEN `calculated host listings count` >= 5 THEN 'Treatment (Professional: 5+ properties)'\n",
    "        ELSE 'Excluded (3-4 properties)'\n",
    "    END AS test_group,\n",
    "    COUNT(*) AS sample_size,\n",
    "    AVG(CAST(REPLACE(REPLACE(price, '$', ''), ',', '') AS REAL)) AS avg_daily_price,\n",
    "    AVG(CAST(REPLACE(REPLACE(price, '$', ''), ',', '') AS REAL) + CAST(REPLACE(REPLACE(`service fee`, '$', ''), ',', '') AS REAL)) AS avg_total_cost,\n",
    "    MIN(CAST(REPLACE(REPLACE(price, '$', ''), ',', '') AS REAL)) AS min_price,\n",
    "    MAX(CAST(REPLACE(REPLACE(price, '$', ''), ',', '') AS REAL)) AS max_price,\n",
    "    AVG(`calculated host listings count`) AS avg_portfolio_size\n",
    "FROM airbnb_data \n",
    "WHERE price IS NOT NULL \n",
    "    AND `service fee` IS NOT NULL\n",
    "    AND `calculated host listings count` IS NOT NULL\n",
    "    AND CAST(REPLACE(REPLACE(price, '$', ''), ',', '') AS REAL) > 0\n",
    "    AND (`calculated host listings count` <= 2 OR `calculated host listings count` >= 5)  -- Only include our test groups\n",
    "GROUP BY test_group\n",
    "ORDER BY avg_daily_price DESC;\n",
    "'''\n",
    "\n",
    "pd.read_sql(q_host_port_ab_test, conn)"
   ]
  },
  {
   "cell_type": "code",
   "execution_count": 47,
   "id": "3382cb0d-ff5e-4fac-a08c-e8a8fb59c339",
   "metadata": {},
   "outputs": [
    {
     "name": "stdout",
     "output_type": "stream",
     "text": [
      "Percentage Differences:\n",
      "0.24975584764892417\n",
      "Percentage Differences:\n",
      "0.2508238496124232\n"
     ]
    }
   ],
   "source": [
    "# price percentage difference\n",
    "casual_price = 624.61\n",
    "prof_price = 626.17\n",
    "\n",
    "print(\"Percentage Differences:\")\n",
    "print(((prof_price-casual_price)/casual_price)*100)\n",
    "\n",
    "\n",
    "# total cost percentage difference\n",
    "casual_tc = 749.53\n",
    "prof_tc = 751.41\n",
    "\n",
    "print(\"Percentage Differences:\")\n",
    "print(((prof_tc-casual_tc)/casual_tc)*100)\n",
    "\n",
    "# negligible differences"
   ]
  },
  {
   "cell_type": "markdown",
   "id": "a0a51651-60a5-4f95-b2a2-46a799cfaba8",
   "metadata": {},
   "source": [
    "### A/B Test: Pricing difference between verified and unverified hosts\n",
    "Alternate Hypothesis: Verified hosts can charge premium prices\n",
    "- **Verification premium:** *What price advantage does host verification provide?*\n",
    "- Groups:\n",
    "    - Control: host_identity_verified = 'unconfirmed'\n",
    "    - Treatment: host_identity_verified = 'verified'\n",
    "- Primary metric: Average daily price difference\n",
    "- Secondary metric: Total guest cost (price + service fee)"
   ]
  },
  {
   "cell_type": "code",
   "execution_count": 51,
   "id": "7f0494f6-f08c-4496-ae2a-0fe248a74a3e",
   "metadata": {},
   "outputs": [
    {
     "data": {
      "text/html": [
       "<div>\n",
       "<style scoped>\n",
       "    .dataframe tbody tr th:only-of-type {\n",
       "        vertical-align: middle;\n",
       "    }\n",
       "\n",
       "    .dataframe tbody tr th {\n",
       "        vertical-align: top;\n",
       "    }\n",
       "\n",
       "    .dataframe thead th {\n",
       "        text-align: right;\n",
       "    }\n",
       "</style>\n",
       "<table border=\"1\" class=\"dataframe\">\n",
       "  <thead>\n",
       "    <tr style=\"text-align: right;\">\n",
       "      <th></th>\n",
       "      <th>test_group</th>\n",
       "      <th>sample_size</th>\n",
       "      <th>avg_daily_price</th>\n",
       "      <th>avg_total_cost</th>\n",
       "      <th>min_price</th>\n",
       "      <th>max_price</th>\n",
       "    </tr>\n",
       "  </thead>\n",
       "  <tbody>\n",
       "    <tr>\n",
       "      <th>0</th>\n",
       "      <td>Control (Unconfirmed identity)</td>\n",
       "      <td>50970</td>\n",
       "      <td>626.516186</td>\n",
       "      <td>751.820208</td>\n",
       "      <td>50.0</td>\n",
       "      <td>1200.0</td>\n",
       "    </tr>\n",
       "    <tr>\n",
       "      <th>1</th>\n",
       "      <td>Treatment (Verified identity)</td>\n",
       "      <td>50859</td>\n",
       "      <td>623.778840</td>\n",
       "      <td>748.535264</td>\n",
       "      <td>50.0</td>\n",
       "      <td>1200.0</td>\n",
       "    </tr>\n",
       "  </tbody>\n",
       "</table>\n",
       "</div>"
      ],
      "text/plain": [
       "                       test_group  sample_size  avg_daily_price  \\\n",
       "0  Control (Unconfirmed identity)        50970       626.516186   \n",
       "1   Treatment (Verified identity)        50859       623.778840   \n",
       "\n",
       "   avg_total_cost  min_price  max_price  \n",
       "0      751.820208       50.0     1200.0  \n",
       "1      748.535264       50.0     1200.0  "
      ]
     },
     "execution_count": 51,
     "metadata": {},
     "output_type": "execute_result"
    }
   ],
   "source": [
    "# A/B Test: Pricing premium for verified hosts\n",
    "q_verified_ab_test = '''\n",
    "SELECT \n",
    "    CASE \n",
    "        WHEN host_identity_verified = 'unconfirmed' THEN 'Control (Unconfirmed identity)'\n",
    "        WHEN host_identity_verified = 'verified' THEN 'Treatment (Verified identity)'\n",
    "    END AS test_group,\n",
    "    COUNT(*) AS sample_size,\n",
    "    AVG(CAST(REPLACE(REPLACE(price, '$', ''), ',', '') AS REAL)) AS avg_daily_price,\n",
    "    AVG(CAST(REPLACE(REPLACE(price, '$', ''), ',', '') AS REAL) + CAST(REPLACE(REPLACE(`service fee`, '$', ''), ',', '') AS REAL)) AS avg_total_cost,\n",
    "    MIN(CAST(REPLACE(REPLACE(price, '$', ''), ',', '') AS REAL)) AS min_price,\n",
    "    MAX(CAST(REPLACE(REPLACE(price, '$', ''), ',', '') AS REAL)) AS max_price\n",
    "FROM airbnb_data \n",
    "WHERE price IS NOT NULL \n",
    "    AND `service fee` IS NOT NULL\n",
    "    AND host_identity_verified IS NOT NULL\n",
    "    AND CAST(REPLACE(REPLACE(price, '$', ''), ',', '') AS REAL) > 0\n",
    "GROUP BY test_group\n",
    "ORDER BY avg_daily_price DESC;\n",
    "'''\n",
    "\n",
    "pd.read_sql(q_verified_ab_test, conn)"
   ]
  },
  {
   "cell_type": "code",
   "execution_count": 52,
   "id": "440942d4-0cd3-41b3-903f-52221c1ec24d",
   "metadata": {},
   "outputs": [
    {
     "name": "stdout",
     "output_type": "stream",
     "text": [
      "Percentage Differences:\n",
      "-0.4373363978803564\n",
      "Percentage Differences:\n",
      "-0.4362746402064439\n"
     ]
    }
   ],
   "source": [
    "# price percentage difference\n",
    "verified_price = 623.78\n",
    "unconfirmed_price = 626.52\n",
    "\n",
    "print(\"Percentage Differences:\")\n",
    "print(((verified_price-unconfirmed_price)/unconfirmed_price)*100)\n",
    "\n",
    "\n",
    "# total cost percentage difference\n",
    "verified_tc = 748.54\n",
    "unconfirmed_tc = 751.82\n",
    "\n",
    "print(\"Percentage Differences:\")\n",
    "print(((verified_tc-unconfirmed_tc)/unconfirmed_tc)*100)\n",
    "\n",
    "# negligible differences"
   ]
  },
  {
   "cell_type": "markdown",
   "id": "72c1f26b-6361-4936-a51d-2c1846926cda",
   "metadata": {},
   "source": [
    "## Policy impact on pricing:"
   ]
  },
  {
   "cell_type": "markdown",
   "id": "3e10033f-552e-4fc1-b3ea-9a2d5bf6156e",
   "metadata": {},
   "source": [
    "### A/B Test: Pricing difference between instant-bookable properties and non-instant-bookable properties\n",
    "- Alternate hypothesis: Instant bookable properties command premium for convenience\n",
    "- Groups:\n",
    "    - Control: instant_bookable = FALSE\n",
    "    - Treatment: instant_bookable = TRUE\n",
    "- Primary metric: Average daily price difference\n",
    "- Secondary metric: Total guest cost"
   ]
  },
  {
   "cell_type": "code",
   "execution_count": 21,
   "id": "53240205-3c0d-4be3-919e-ccfe1f47315f",
   "metadata": {},
   "outputs": [
    {
     "data": {
      "text/html": [
       "<div>\n",
       "<style scoped>\n",
       "    .dataframe tbody tr th:only-of-type {\n",
       "        vertical-align: middle;\n",
       "    }\n",
       "\n",
       "    .dataframe tbody tr th {\n",
       "        vertical-align: top;\n",
       "    }\n",
       "\n",
       "    .dataframe thead th {\n",
       "        text-align: right;\n",
       "    }\n",
       "</style>\n",
       "<table border=\"1\" class=\"dataframe\">\n",
       "  <thead>\n",
       "    <tr style=\"text-align: right;\">\n",
       "      <th></th>\n",
       "      <th>test_group</th>\n",
       "      <th>sample_size</th>\n",
       "      <th>avg_daily_price</th>\n",
       "      <th>avg_total_cost</th>\n",
       "      <th>min_price</th>\n",
       "      <th>max_price</th>\n",
       "      <th>rounded_avg_price</th>\n",
       "    </tr>\n",
       "  </thead>\n",
       "  <tbody>\n",
       "    <tr>\n",
       "      <th>0</th>\n",
       "      <td>1</td>\n",
       "      <td>50780</td>\n",
       "      <td>625.344289</td>\n",
       "      <td>750.413883</td>\n",
       "      <td>50.0</td>\n",
       "      <td>1200.0</td>\n",
       "      <td>625.34</td>\n",
       "    </tr>\n",
       "    <tr>\n",
       "      <th>1</th>\n",
       "      <td>0</td>\n",
       "      <td>51237</td>\n",
       "      <td>625.026348</td>\n",
       "      <td>750.032340</td>\n",
       "      <td>50.0</td>\n",
       "      <td>1200.0</td>\n",
       "      <td>625.03</td>\n",
       "    </tr>\n",
       "  </tbody>\n",
       "</table>\n",
       "</div>"
      ],
      "text/plain": [
       "   test_group  sample_size  avg_daily_price  avg_total_cost  min_price  \\\n",
       "0           1        50780       625.344289      750.413883       50.0   \n",
       "1           0        51237       625.026348      750.032340       50.0   \n",
       "\n",
       "   max_price  rounded_avg_price  \n",
       "0     1200.0             625.34  \n",
       "1     1200.0             625.03  "
      ]
     },
     "execution_count": 21,
     "metadata": {},
     "output_type": "execute_result"
    }
   ],
   "source": [
    "q_ins_book_ab_test = '''\n",
    "SELECT\n",
    "    instant_bookable AS test_group,\n",
    "    COUNT(*) AS sample_size, \n",
    "    AVG(CAST(REPLACE(REPLACE(price, '$', ''), ',', '') AS REAL)) AS avg_daily_price,\n",
    "    AVG(CAST(REPLACE(REPLACE(price, '$', ''), ',', '') AS REAL) + CAST(REPLACE(REPLACE(`service fee`, '$', ''), ',', '') AS REAL)) AS avg_total_cost,\n",
    "    MIN(CAST(REPLACE(REPLACE(price, '$', ''), ',', '') AS REAL)) AS min_price,\n",
    "    MAX(CAST(REPLACE(REPLACE(price, '$', ''), ',', '') AS REAL)) AS max_price,\n",
    "    ROUND(AVG(CAST(REPLACE(REPLACE(price, '$', ''), ',', '') AS REAL)), 2) AS rounded_avg_price\n",
    "FROM airbnb_data\n",
    "WHERE price IS NOT NULL AND `service fee` IS NOT NULL AND instant_bookable IS NOT NULL AND CAST(REPLACE(REPLACE(price, '$', ''), ',', '') AS REAL) > 0\n",
    "GROUP BY instant_bookable\n",
    "ORDER BY avg_daily_price DESC; \n",
    "'''\n",
    "\n",
    "pd.read_sql(q_ins_book_ab_test, conn)\n",
    "# there is no impact of being able to instantly book on average daily price or average total cost\n",
    "# REJECT alternate hypothesis"
   ]
  },
  {
   "cell_type": "markdown",
   "id": "044f19f6-1185-4804-8d38-34f974e7c679",
   "metadata": {},
   "source": [
    "### A/B Test: Pricing difference between different levels of cancellation policy strictness\n",
    "- Alternate hypothesis: Stricter cancellation policies allow for higher pricing\n",
    "    - Stricter cancellation policies transfer booking risk from the host to the guest. When hosts offer this risk protection to themselves, they can potentially charge a premium for the reduced uncertainty in their revenue.\n",
    "- Groups:\n",
    "    - Control: cancellation_policy = 'strict'\n",
    "    - Treatment A: cancellation_policy = 'moderate'\n",
    "    - Treatment B: cancellation_policy = 'flexible'\n",
    "- Primary metric: Average daily price by policy type"
   ]
  },
  {
   "cell_type": "code",
   "execution_count": 26,
   "id": "bb02069e-0812-4c31-ba10-b28556988867",
   "metadata": {},
   "outputs": [
    {
     "data": {
      "text/html": [
       "<div>\n",
       "<style scoped>\n",
       "    .dataframe tbody tr th:only-of-type {\n",
       "        vertical-align: middle;\n",
       "    }\n",
       "\n",
       "    .dataframe tbody tr th {\n",
       "        vertical-align: top;\n",
       "    }\n",
       "\n",
       "    .dataframe thead th {\n",
       "        text-align: right;\n",
       "    }\n",
       "</style>\n",
       "<table border=\"1\" class=\"dataframe\">\n",
       "  <thead>\n",
       "    <tr style=\"text-align: right;\">\n",
       "      <th></th>\n",
       "      <th>test_group</th>\n",
       "      <th>sample_size</th>\n",
       "      <th>avg_daily_price</th>\n",
       "      <th>avg_total_cost</th>\n",
       "      <th>min_price</th>\n",
       "      <th>max_price</th>\n",
       "      <th>rounded_avg_price</th>\n",
       "    </tr>\n",
       "  </thead>\n",
       "  <tbody>\n",
       "    <tr>\n",
       "      <th>0</th>\n",
       "      <td>flexible</td>\n",
       "      <td>33906</td>\n",
       "      <td>626.219371</td>\n",
       "      <td>751.464225</td>\n",
       "      <td>50.0</td>\n",
       "      <td>1200.0</td>\n",
       "      <td>626.22</td>\n",
       "    </tr>\n",
       "    <tr>\n",
       "      <th>1</th>\n",
       "      <td>moderate</td>\n",
       "      <td>34181</td>\n",
       "      <td>624.886838</td>\n",
       "      <td>749.866739</td>\n",
       "      <td>50.0</td>\n",
       "      <td>1200.0</td>\n",
       "      <td>624.89</td>\n",
       "    </tr>\n",
       "    <tr>\n",
       "      <th>2</th>\n",
       "      <td>strict</td>\n",
       "      <td>33955</td>\n",
       "      <td>624.420439</td>\n",
       "      <td>749.303195</td>\n",
       "      <td>50.0</td>\n",
       "      <td>1200.0</td>\n",
       "      <td>624.42</td>\n",
       "    </tr>\n",
       "  </tbody>\n",
       "</table>\n",
       "</div>"
      ],
      "text/plain": [
       "  test_group  sample_size  avg_daily_price  avg_total_cost  min_price  \\\n",
       "0   flexible        33906       626.219371      751.464225       50.0   \n",
       "1   moderate        34181       624.886838      749.866739       50.0   \n",
       "2     strict        33955       624.420439      749.303195       50.0   \n",
       "\n",
       "   max_price  rounded_avg_price  \n",
       "0     1200.0             626.22  \n",
       "1     1200.0             624.89  \n",
       "2     1200.0             624.42  "
      ]
     },
     "execution_count": 26,
     "metadata": {},
     "output_type": "execute_result"
    }
   ],
   "source": [
    "# A/B Test: Cancellation Policy Impact on Pricing\n",
    "q_cancel_pol_ab_test = '''\n",
    "SELECT \n",
    "    cancellation_policy AS test_group,\n",
    "    COUNT(*) AS sample_size,\n",
    "    AVG(CAST(REPLACE(REPLACE(price, '$', ''), ',', '') AS REAL)) AS avg_daily_price,\n",
    "    AVG(CAST(REPLACE(REPLACE(price, '$', ''), ',', '') AS REAL) + CAST(REPLACE(REPLACE(`service fee`, '$', ''), ',', '') AS REAL)) AS avg_total_cost,\n",
    "    MIN(CAST(REPLACE(REPLACE(price, '$', ''), ',', '') AS REAL)) AS min_price,\n",
    "    MAX(CAST(REPLACE(REPLACE(price, '$', ''), ',', '') AS REAL)) AS max_price,\n",
    "    ROUND(AVG(CAST(REPLACE(REPLACE(price, '$', ''), ',', '') AS REAL)), 2) AS rounded_avg_price\n",
    "FROM airbnb_data \n",
    "WHERE price IS NOT NULL \n",
    "    AND `service fee` IS NOT NULL\n",
    "    AND cancellation_policy IS NOT NULL\n",
    "    AND CAST(REPLACE(REPLACE(price, '$', ''), ',', '') AS REAL) > 0\n",
    "GROUP BY cancellation_policy\n",
    "ORDER BY avg_daily_price DESC;\n",
    "'''\n",
    "\n",
    "pd.read_sql(q_cancel_pol_ab_test, conn)"
   ]
  },
  {
   "cell_type": "code",
   "execution_count": 41,
   "id": "a9cc64ed-aa67-4e57-a36a-73731176695d",
   "metadata": {},
   "outputs": [
    {
     "name": "stdout",
     "output_type": "stream",
     "text": [
      "Percentage Differences:\n",
      "Flexible vs Strict: 0.288%\n",
      "Moderate vs Strict: 0.075%\n",
      "Flexible vs Moderate: 0.213%\n",
      "Percentage Differences:\n",
      "Flexible vs Strict: 0.288%\n",
      "Moderate vs Strict: 0.076%\n",
      "Flexible vs Moderate: 0.212%\n"
     ]
    }
   ],
   "source": [
    "# price percentage difference\n",
    "flexible_price = 626.22\n",
    "moderate_price = 624.89\n",
    "strict_price = 624.42\n",
    "\n",
    "print(\"Percentage Differences:\")\n",
    "print(f\"Flexible vs Strict: {((flexible_price-strict_price)/strict_price)*100:.3f}%\")\n",
    "print(f\"Moderate vs Strict: {((moderate_price-strict_price)/strict_price)*100:.3f}%\")\n",
    "print(f\"Flexible vs Moderate: {((flexible_price-moderate_price)/moderate_price)*100:.3f}%\")\n",
    "\n",
    "\n",
    "# total cost percentage difference\n",
    "flexible_tc = 751.46\n",
    "moderate_tc = 749.87\n",
    "strict_tc = 749.30\n",
    "\n",
    "print(\"Percentage Differences:\")\n",
    "print(f\"Flexible vs Strict: {((flexible_tc-strict_tc)/strict_tc)*100:.3f}%\")\n",
    "print(f\"Moderate vs Strict: {((moderate_tc-strict_tc)/strict_tc)*100:.3f}%\")\n",
    "print(f\"Flexible vs Moderate: {((flexible_tc-moderate_tc)/moderate_tc)*100:.3f}%\")\n",
    "\n",
    "# negligible differences"
   ]
  },
  {
   "cell_type": "markdown",
   "id": "e92a7571-19b9-4c4d-9006-b3166637d9ef",
   "metadata": {},
   "source": [
    "# Key Findings and Summary"
   ]
  },
  {
   "cell_type": "markdown",
   "id": "bedfae07-d4b1-4195-89c0-6edafc5698e5",
   "metadata": {},
   "source": [
    "## Geographic pricing: \n",
    "- Although Manhattan contains the most listings, it is not more expensive on average for Airbnb rentals. NYC Airbnb pricing is remarkably uniform across boroughs for similar property types\n",
    "\n",
    "## Property features impact on pricing:\n",
    "### Room Type\n",
    "- Contrary to inital hypotheses, I found NO Consistent \"Entire Home Premium\" in the data. There was no major differences between room types and price, with only Hotel Rooms being more largely more expensive (~30 dollars higher per night) than the types of rental properties.\n",
    "- However, these market dynamics for room type vary by borough.\n",
    "\n",
    "### Property age \n",
    "- Contrary to the hypothesis, newer properties actually cost slightly LESS than older homes. However, these differences were not significant in terms of percentage differences. Despite this, it is an interesting point to consider the cases in which older homes may be more expensive to rent than newer, more modern homes. Some possible explanations are that:\n",
    "    - More properties may indicate more supply and, thus, lower prices\n",
    "    - Older properties may have more character or charm that draws renters in\n",
    "    - Older properties may be in more established, more desirable neighborhood close to activities in the city\n",
    "- Out of additional interest, I ran an analysis to see this effect across neighborhood boroughs\n",
    "- I found that while Manhattan, Queens, and Brooklyn had *slightly* higher prices for older properties, this was largely driven by the major difference in sample size between Manhattan/Brooklyn and the other boroughs, as newer properties were more noticably expensive that older properties in Staten Island and the Bronx.\n",
    "- This could be due to make reasons. Outer boroughs may have more space to have larger properties with more amentities and modern design that demands higher premiums. On the other hand, established and central properties may have value in core Manhattan/Brooklyn markets.\n",
    "\n",
    "## Host impact on pricing:\n",
    "- I also sought to examine whether the number of properties in a host's portfolio or their identity verification status shaped rental prices. There were no significant effects of either on pricing.\n",
    "\n",
    "## Policy impacts on pricing:\n",
    "- There was no impact of instant booking on pricing. \n",
    "- There was also no impact of cancellation policy strictness on pricing.\n",
    "- Thus, overall, there was no main influence of policies on pricing.\n",
    "\n",
    "\n",
    "Thus, while there is slight variation and dynamic interaction between property features, pricing is fairly uniform across location, room type, and property age, a surprising finding."
   ]
  },
  {
   "cell_type": "markdown",
   "id": "f4e61ae7-0923-4280-8014-dcbe5223bc3c",
   "metadata": {},
   "source": [
    "## Closing out"
   ]
  },
  {
   "cell_type": "code",
   "execution_count": 81,
   "id": "207f0283-ebc2-402a-b9c1-c5b6474e00a0",
   "metadata": {},
   "outputs": [],
   "source": [
    "# close SQL connection\n",
    "conn.close()"
   ]
  },
  {
   "cell_type": "code",
   "execution_count": null,
   "id": "f561102c-c989-4ecc-94f6-61a60b5ee2a2",
   "metadata": {},
   "outputs": [],
   "source": []
  }
 ],
 "metadata": {
  "kernelspec": {
   "display_name": "Python 3",
   "language": "python",
   "name": "python3"
  },
  "language_info": {
   "codemirror_mode": {
    "name": "ipython",
    "version": 3
   },
   "file_extension": ".py",
   "mimetype": "text/x-python",
   "name": "python",
   "nbconvert_exporter": "python",
   "pygments_lexer": "ipython3",
   "version": "3.8.8"
  }
 },
 "nbformat": 4,
 "nbformat_minor": 5
}
