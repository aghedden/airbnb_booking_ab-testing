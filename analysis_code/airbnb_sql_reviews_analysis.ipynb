{
 "cells": [
  {
   "cell_type": "markdown",
   "id": "da8e745e-ab77-4e23-9336-074c67cab783",
   "metadata": {},
   "source": [
    "# Project Aims\n",
    "This project consisted of 2 sub-projects with distinct aims. First, I sought to investigate features of Airbnb listings that are related to pricing and summarize key results through visualizations and a dashboard. **Second, the focus of this notebook, I sought to investigate the features of Airbnb listings that are related to the number and ratings of reviews and summarize key results through visualizations and a second dashboard.** Key methods included:\n",
    "- Pulling relevant data and calculating basic metrics using SQL\n",
    "- Performing A/B tests to determine feature relationships\n",
    "- Using Seaborn and plotly.io to create unique and interactive data visualizations\n",
    "- Creating 2 dashboards of the main findings in Tableau\n",
    "\n",
    "## Aims/Dashboard 2: Airbnb reviews analysis\n",
    "*Analyze features of Airbnbs that are related to reviews*\n",
    "### General reviews statistics:\n",
    "- **Total listings:** *What is the total number of Airbnb listings in the dataset?*\n",
    "- **Total reviews:** *What are the total number of Airbnb reviews?*\n",
    "- **Total active listings:** *How many properties have recent reviews? (last 3 months)*\n",
    "- **Percentage active listings:** *What percentage of properties have recent reviews? (last 3 months)*\n",
    "- **Average review rating:** *What is the average Airbnb review rating?* \n",
    "\n",
    "### Host impact on reviews: \n",
    "#### Hypothesis 1: Professional hosts receive more positive review activity\n",
    "#### Hypothesis 2: Verified hosts receive higher review ratings\n",
    "- **Host portfolio size effect:** *Do multi-property hosts maintain review quality across listings?*\n",
    "    - Method: A/B Test: Professional vs. Casual Host Performance\n",
    "        - Groups:\n",
    "            - Control: calculated_host_listings_count = 1 (Casual hosts)\n",
    "            - Treatment: calculated_host_listings_count >= 5 (Professional hosts)\n",
    "        - Primary metric: Average rating review\n",
    "        - Secondary metric: Number of reviews\n",
    "- **Host verification impact:** *Does verification status affect guest review rating scores?*\n",
    "    - Method: A/B Test: Host Verification Premium Test\n",
    "        - Groups:\n",
    "            - Control: host_identity_verified = 'unconfirmed'\n",
    "            - Treatment: host_identity_verified = 'verified'\n",
    "        - Primary metric: Average review rating difference\n",
    "        - Secondary metric: Number of reviews\n",
    " \n",
    "### Property features impact on reviews:\n",
    "#### Hypothesis 1: Entire homes receive higher satisfaction ratings than shared spaces\n",
    "#### Hypothesis 2: Newer properties receive more favorable reviews\n",
    "- **Room type:** *Which room types generate the most positive guest feedback?*\n",
    "- **Location (neighborhood):** *Do certain neighborhoods consistently receive better reviews?*\n",
    "- **Property age (construction year):** *Are newer properties rated more favorably?*\n",
    "    - Method: A/B Test: Property age test\n",
    "        - Groups:\n",
    "            - Control (old homes): Construction year < 2010\n",
    "            - Treatment (new homes): Construction year >= 2010\n",
    "        - Primary metric: Average review rating difference\n",
    "        - Secondary metric: Number of reviews\n",
    " \n",
    " \n",
    "### Policy impact on reviews:\n",
    "#### Hypothesis 1: Instant booking reduces friction and improves guest satisfaction\n",
    "#### Hypothesis 2: Flexible cancellation policies lead to better reviews\n",
    "- **Instant booking availability:** *Does instant booking correlate with better review performance?*\n",
    "    - A/B Test: Instant Booking Impact Analysis\n",
    "        - Groups:\n",
    "            - Control: instant_bookable = FALSE\n",
    "            - Treatment: instant_bookable = TRUE\n",
    "        - Primary metric: Average review rating difference\n",
    "        - Secondary metric: Number of reviews\n",
    "- **Cancellation policy strictness:** *How do cancellation policies affect guest satisfaction?*\n",
    "    - A/B Test: Cancellation Policy Strategy Test\n",
    "        - Groups:\n",
    "            - Control: cancellation_policy = 'strict'\n",
    "            - Treatment A: cancellation_policy = 'moderate'\n",
    "            - Treatment B: cancellation_policy = 'flexible'\n",
    "        - Primary metric: Average review rating difference by policy\n",
    "        - Secondary metric: Number of reviews\n",
    "- **Minimum stay requirements:** *What minimum stay requirements generate the best reviews?*\n",
    "\n",
    "\n",
    "## Dataset Overview\n",
    "- **Source:** Airbnb Open Data (NYC)\n",
    "- **Sample Size:** 102599 (listings)\n",
    "- **Time Period:** 2012-07-11 to 2025-06-26 (4733 days)\n",
    "- **Geographic Scope:** New York City (5 boroughs)\n",
    "\n",
    "## Percentage Difference Thresholds Used:\n",
    "- < 1%: Negligible - likely not worth acting on\n",
    "- 1-3%: Small but potentially meaningful for high-volume businesses\n",
    "- 3-5%: Moderate - often worth considering strategically\n",
    "- 5-10%: Substantial - clear business impact\n",
    "- 10%+: Large - significant business driver"
   ]
  },
  {
   "cell_type": "markdown",
   "id": "0579c74d-0b45-475a-863f-f46f35d0bad8",
   "metadata": {},
   "source": [
    "# Set-up"
   ]
  },
  {
   "cell_type": "markdown",
   "id": "a210bd3d-bfa9-467e-8791-4bf783b7bee4",
   "metadata": {},
   "source": [
    "## Load in packages"
   ]
  },
  {
   "cell_type": "code",
   "execution_count": 79,
   "id": "402d53a0-a139-42f9-b5e3-6c09f926747c",
   "metadata": {},
   "outputs": [
    {
     "name": "stdout",
     "output_type": "stream",
     "text": [
      "Requirement already satisfied: scipy in /Users/agshivers/opt/anaconda3/lib/python3.8/site-packages (1.6.2)\n",
      "Collecting scipy\n",
      "  Downloading scipy-1.10.1-cp38-cp38-macosx_10_9_x86_64.whl (35.0 MB)\n",
      "\u001b[K     |████████████████████████████████| 35.0 MB 8.9 MB/s eta 0:00:011\n",
      "\u001b[?25hRequirement already satisfied: numpy<1.27.0,>=1.19.5 in /Users/agshivers/opt/anaconda3/lib/python3.8/site-packages (from scipy) (1.20.1)\n",
      "Installing collected packages: scipy\n",
      "  Attempting uninstall: scipy\n",
      "    Found existing installation: scipy 1.6.2\n",
      "    Uninstalling scipy-1.6.2:\n",
      "      Successfully uninstalled scipy-1.6.2\n",
      "Successfully installed scipy-1.10.1\n",
      "Note: you may need to restart the kernel to use updated packages.\n"
     ]
    }
   ],
   "source": [
    "pip install --upgrade scipy\n"
   ]
  },
  {
   "cell_type": "code",
   "execution_count": 80,
   "id": "787f3d6c-c05e-4f77-ac41-39784a62d9d4",
   "metadata": {},
   "outputs": [
    {
     "ename": "ImportError",
     "evalue": "cannot import name 'tukey_hsd' from 'scipy.stats' (/Users/agshivers/opt/anaconda3/lib/python3.8/site-packages/scipy/stats/__init__.py)",
     "output_type": "error",
     "traceback": [
      "\u001b[0;31m---------------------------------------------------------------------------\u001b[0m",
      "\u001b[0;31mImportError\u001b[0m                               Traceback (most recent call last)",
      "\u001b[0;32m<ipython-input-80-1bbeabd4cd3e>\u001b[0m in \u001b[0;36m<module>\u001b[0;34m\u001b[0m\n\u001b[1;32m      6\u001b[0m \u001b[0;32mimport\u001b[0m \u001b[0mos\u001b[0m\u001b[0;34m\u001b[0m\u001b[0;34m\u001b[0m\u001b[0m\n\u001b[1;32m      7\u001b[0m \u001b[0;32mfrom\u001b[0m \u001b[0mscipy\u001b[0m \u001b[0;32mimport\u001b[0m \u001b[0mstats\u001b[0m\u001b[0;34m\u001b[0m\u001b[0;34m\u001b[0m\u001b[0m\n\u001b[0;32m----> 8\u001b[0;31m \u001b[0;32mfrom\u001b[0m \u001b[0mscipy\u001b[0m\u001b[0;34m.\u001b[0m\u001b[0mstats\u001b[0m \u001b[0;32mimport\u001b[0m \u001b[0mtukey_hsd\u001b[0m\u001b[0;34m\u001b[0m\u001b[0;34m\u001b[0m\u001b[0m\n\u001b[0m",
      "\u001b[0;31mImportError\u001b[0m: cannot import name 'tukey_hsd' from 'scipy.stats' (/Users/agshivers/opt/anaconda3/lib/python3.8/site-packages/scipy/stats/__init__.py)"
     ]
    }
   ],
   "source": [
    "import pandas as pd\n",
    "import numpy as np\n",
    "import sqlite3\n",
    "import plotly.express as px\n",
    "import plotly.graph_objects as go\n",
    "import os\n",
    "from scipy import stats\n",
    "from scipy.stats import tukey_hsd"
   ]
  },
  {
   "cell_type": "markdown",
   "id": "23b5f9ea-5c80-459b-b88d-81006bcb8b0b",
   "metadata": {},
   "source": [
    "## Load in data\n",
    "Variable info is outlined [here](https://docs.google.com/spreadsheets/d/1b_dvmyhb_kAJhUmv81rAxl4KcXn0Pymz/edit?gid=1967362979#gid=1967362979)"
   ]
  },
  {
   "cell_type": "code",
   "execution_count": 41,
   "id": "d2b47c53-b508-4f23-a048-f27fe40582b8",
   "metadata": {},
   "outputs": [],
   "source": [
    "#wd\n",
    "os.chdir('/Users/agshivers/Documents/GitHub/airbnb_booking_ab-testing')"
   ]
  },
  {
   "cell_type": "code",
   "execution_count": 42,
   "id": "128b4c64-66c6-4f5d-b651-6790e9e9d6ff",
   "metadata": {},
   "outputs": [
    {
     "name": "stderr",
     "output_type": "stream",
     "text": [
      "/Users/agshivers/opt/anaconda3/lib/python3.8/site-packages/IPython/core/interactiveshell.py:3165: DtypeWarning: Columns (25) have mixed types.Specify dtype option on import or set low_memory=False.\n",
      "  has_raised = await self.run_ast_nodes(code_ast.body, cell_name,\n"
     ]
    },
    {
     "data": {
      "text/html": [
       "<div>\n",
       "<style scoped>\n",
       "    .dataframe tbody tr th:only-of-type {\n",
       "        vertical-align: middle;\n",
       "    }\n",
       "\n",
       "    .dataframe tbody tr th {\n",
       "        vertical-align: top;\n",
       "    }\n",
       "\n",
       "    .dataframe thead th {\n",
       "        text-align: right;\n",
       "    }\n",
       "</style>\n",
       "<table border=\"1\" class=\"dataframe\">\n",
       "  <thead>\n",
       "    <tr style=\"text-align: right;\">\n",
       "      <th></th>\n",
       "      <th>id</th>\n",
       "      <th>NAME</th>\n",
       "      <th>host id</th>\n",
       "      <th>host_identity_verified</th>\n",
       "      <th>host name</th>\n",
       "      <th>neighbourhood group</th>\n",
       "      <th>neighbourhood</th>\n",
       "      <th>lat</th>\n",
       "      <th>long</th>\n",
       "      <th>country</th>\n",
       "      <th>...</th>\n",
       "      <th>service fee</th>\n",
       "      <th>minimum nights</th>\n",
       "      <th>number of reviews</th>\n",
       "      <th>last review</th>\n",
       "      <th>reviews per month</th>\n",
       "      <th>review rate number</th>\n",
       "      <th>calculated host listings count</th>\n",
       "      <th>availability 365</th>\n",
       "      <th>house_rules</th>\n",
       "      <th>license</th>\n",
       "    </tr>\n",
       "  </thead>\n",
       "  <tbody>\n",
       "    <tr>\n",
       "      <th>0</th>\n",
       "      <td>1001254</td>\n",
       "      <td>Clean &amp; quiet apt home by the park</td>\n",
       "      <td>80014485718</td>\n",
       "      <td>unconfirmed</td>\n",
       "      <td>Madaline</td>\n",
       "      <td>Brooklyn</td>\n",
       "      <td>Kensington</td>\n",
       "      <td>40.64749</td>\n",
       "      <td>-73.97237</td>\n",
       "      <td>United States</td>\n",
       "      <td>...</td>\n",
       "      <td>$193</td>\n",
       "      <td>10.0</td>\n",
       "      <td>9.0</td>\n",
       "      <td>10/19/2021</td>\n",
       "      <td>0.21</td>\n",
       "      <td>4.0</td>\n",
       "      <td>6.0</td>\n",
       "      <td>286.0</td>\n",
       "      <td>Clean up and treat the home the way you'd like...</td>\n",
       "      <td>NaN</td>\n",
       "    </tr>\n",
       "    <tr>\n",
       "      <th>1</th>\n",
       "      <td>1002102</td>\n",
       "      <td>Skylit Midtown Castle</td>\n",
       "      <td>52335172823</td>\n",
       "      <td>verified</td>\n",
       "      <td>Jenna</td>\n",
       "      <td>Manhattan</td>\n",
       "      <td>Midtown</td>\n",
       "      <td>40.75362</td>\n",
       "      <td>-73.98377</td>\n",
       "      <td>United States</td>\n",
       "      <td>...</td>\n",
       "      <td>$28</td>\n",
       "      <td>30.0</td>\n",
       "      <td>45.0</td>\n",
       "      <td>5/21/2022</td>\n",
       "      <td>0.38</td>\n",
       "      <td>4.0</td>\n",
       "      <td>2.0</td>\n",
       "      <td>228.0</td>\n",
       "      <td>Pet friendly but please confirm with me if the...</td>\n",
       "      <td>NaN</td>\n",
       "    </tr>\n",
       "    <tr>\n",
       "      <th>2</th>\n",
       "      <td>1002403</td>\n",
       "      <td>THE VILLAGE OF HARLEM....NEW YORK !</td>\n",
       "      <td>78829239556</td>\n",
       "      <td>NaN</td>\n",
       "      <td>Elise</td>\n",
       "      <td>Manhattan</td>\n",
       "      <td>Harlem</td>\n",
       "      <td>40.80902</td>\n",
       "      <td>-73.94190</td>\n",
       "      <td>United States</td>\n",
       "      <td>...</td>\n",
       "      <td>$124</td>\n",
       "      <td>3.0</td>\n",
       "      <td>0.0</td>\n",
       "      <td>NaN</td>\n",
       "      <td>NaN</td>\n",
       "      <td>5.0</td>\n",
       "      <td>1.0</td>\n",
       "      <td>352.0</td>\n",
       "      <td>I encourage you to use my kitchen, cooking and...</td>\n",
       "      <td>NaN</td>\n",
       "    </tr>\n",
       "    <tr>\n",
       "      <th>3</th>\n",
       "      <td>1002755</td>\n",
       "      <td>NaN</td>\n",
       "      <td>85098326012</td>\n",
       "      <td>unconfirmed</td>\n",
       "      <td>Garry</td>\n",
       "      <td>Brooklyn</td>\n",
       "      <td>Clinton Hill</td>\n",
       "      <td>40.68514</td>\n",
       "      <td>-73.95976</td>\n",
       "      <td>United States</td>\n",
       "      <td>...</td>\n",
       "      <td>$74</td>\n",
       "      <td>30.0</td>\n",
       "      <td>270.0</td>\n",
       "      <td>7/5/2019</td>\n",
       "      <td>4.64</td>\n",
       "      <td>4.0</td>\n",
       "      <td>1.0</td>\n",
       "      <td>322.0</td>\n",
       "      <td>NaN</td>\n",
       "      <td>NaN</td>\n",
       "    </tr>\n",
       "    <tr>\n",
       "      <th>4</th>\n",
       "      <td>1003689</td>\n",
       "      <td>Entire Apt: Spacious Studio/Loft by central park</td>\n",
       "      <td>92037596077</td>\n",
       "      <td>verified</td>\n",
       "      <td>Lyndon</td>\n",
       "      <td>Manhattan</td>\n",
       "      <td>East Harlem</td>\n",
       "      <td>40.79851</td>\n",
       "      <td>-73.94399</td>\n",
       "      <td>United States</td>\n",
       "      <td>...</td>\n",
       "      <td>$41</td>\n",
       "      <td>10.0</td>\n",
       "      <td>9.0</td>\n",
       "      <td>11/19/2018</td>\n",
       "      <td>0.10</td>\n",
       "      <td>3.0</td>\n",
       "      <td>1.0</td>\n",
       "      <td>289.0</td>\n",
       "      <td>Please no smoking in the house, porch or on th...</td>\n",
       "      <td>NaN</td>\n",
       "    </tr>\n",
       "  </tbody>\n",
       "</table>\n",
       "<p>5 rows × 26 columns</p>\n",
       "</div>"
      ],
      "text/plain": [
       "        id                                              NAME      host id  \\\n",
       "0  1001254                Clean & quiet apt home by the park  80014485718   \n",
       "1  1002102                             Skylit Midtown Castle  52335172823   \n",
       "2  1002403               THE VILLAGE OF HARLEM....NEW YORK !  78829239556   \n",
       "3  1002755                                               NaN  85098326012   \n",
       "4  1003689  Entire Apt: Spacious Studio/Loft by central park  92037596077   \n",
       "\n",
       "  host_identity_verified host name neighbourhood group neighbourhood  \\\n",
       "0            unconfirmed  Madaline            Brooklyn    Kensington   \n",
       "1               verified     Jenna           Manhattan       Midtown   \n",
       "2                    NaN     Elise           Manhattan        Harlem   \n",
       "3            unconfirmed     Garry            Brooklyn  Clinton Hill   \n",
       "4               verified    Lyndon           Manhattan   East Harlem   \n",
       "\n",
       "        lat      long        country  ... service fee minimum nights  \\\n",
       "0  40.64749 -73.97237  United States  ...       $193            10.0   \n",
       "1  40.75362 -73.98377  United States  ...        $28            30.0   \n",
       "2  40.80902 -73.94190  United States  ...       $124             3.0   \n",
       "3  40.68514 -73.95976  United States  ...        $74            30.0   \n",
       "4  40.79851 -73.94399  United States  ...        $41            10.0   \n",
       "\n",
       "  number of reviews last review  reviews per month review rate number  \\\n",
       "0               9.0  10/19/2021               0.21                4.0   \n",
       "1              45.0   5/21/2022               0.38                4.0   \n",
       "2               0.0         NaN                NaN                5.0   \n",
       "3             270.0    7/5/2019               4.64                4.0   \n",
       "4               9.0  11/19/2018               0.10                3.0   \n",
       "\n",
       "  calculated host listings count  availability 365  \\\n",
       "0                            6.0             286.0   \n",
       "1                            2.0             228.0   \n",
       "2                            1.0             352.0   \n",
       "3                            1.0             322.0   \n",
       "4                            1.0             289.0   \n",
       "\n",
       "                                         house_rules license  \n",
       "0  Clean up and treat the home the way you'd like...     NaN  \n",
       "1  Pet friendly but please confirm with me if the...     NaN  \n",
       "2  I encourage you to use my kitchen, cooking and...     NaN  \n",
       "3                                                NaN     NaN  \n",
       "4  Please no smoking in the house, porch or on th...     NaN  \n",
       "\n",
       "[5 rows x 26 columns]"
      ]
     },
     "execution_count": 42,
     "metadata": {},
     "output_type": "execute_result"
    }
   ],
   "source": [
    "df = pd.read_csv('Airbnb_Open_Data.csv')\n",
    "df.head()"
   ]
  },
  {
   "cell_type": "markdown",
   "id": "f6e04581-8d82-417c-a63c-c94bc14e47b3",
   "metadata": {},
   "source": [
    "## Basic data cleaning"
   ]
  },
  {
   "cell_type": "markdown",
   "id": "1c213950-303c-425b-b549-f4913418a17d",
   "metadata": {},
   "source": [
    "### Clean neighborhood borough names"
   ]
  },
  {
   "cell_type": "code",
   "execution_count": 43,
   "id": "a84c4249-a573-4540-941a-18b361ae085f",
   "metadata": {},
   "outputs": [
    {
     "data": {
      "text/plain": [
       "array(['Brooklyn', 'Manhattan', 'brookln', 'manhatan', 'Queens', nan,\n",
       "       'Staten Island', 'Bronx'], dtype=object)"
      ]
     },
     "execution_count": 43,
     "metadata": {},
     "output_type": "execute_result"
    }
   ],
   "source": [
    "df['neighbourhood group'].unique()"
   ]
  },
  {
   "cell_type": "code",
   "execution_count": 44,
   "id": "4d16fd93-ed97-4f42-a5ff-9d3033a6a719",
   "metadata": {},
   "outputs": [],
   "source": [
    "# dictionary of corrections\n",
    "name_map = {\n",
    "    \"brookln\": \"Brooklyn\",\n",
    "    \"manhatan\": \"Manhattan\"\n",
    "}\n",
    "\n",
    "# apply corrections\n",
    "df['neighbourhood group'] = df['neighbourhood group'].replace(name_map)"
   ]
  },
  {
   "cell_type": "code",
   "execution_count": 45,
   "id": "6c2e6aa6-38cd-45d1-a7b6-df3c333b5137",
   "metadata": {},
   "outputs": [
    {
     "data": {
      "text/plain": [
       "array(['Brooklyn', 'Manhattan', 'Queens', nan, 'Staten Island', 'Bronx'],\n",
       "      dtype=object)"
      ]
     },
     "execution_count": 45,
     "metadata": {},
     "output_type": "execute_result"
    }
   ],
   "source": [
    "# verify\n",
    "df['neighbourhood group'].unique()"
   ]
  },
  {
   "cell_type": "code",
   "execution_count": 46,
   "id": "2cb1d7fd-5ec9-4876-9073-e724effbd261",
   "metadata": {},
   "outputs": [
    {
     "data": {
      "text/plain": [
       "array(['Kensington', 'Midtown', 'Harlem', 'Clinton Hill', 'East Harlem',\n",
       "       'Murray Hill', 'Bedford-Stuyvesant', \"Hell's Kitchen\",\n",
       "       'Upper West Side', 'Chinatown', 'South Slope', 'West Village',\n",
       "       'Williamsburg', 'Fort Greene', 'Chelsea', 'Crown Heights',\n",
       "       'Park Slope', 'Windsor Terrace', 'Inwood', 'East Village',\n",
       "       'Greenpoint', 'Bushwick', 'Flatbush', 'Lower East Side',\n",
       "       'Prospect-Lefferts Gardens', 'Long Island City', 'Kips Bay',\n",
       "       'SoHo', 'Upper East Side', 'Prospect Heights',\n",
       "       'Washington Heights', 'Woodside', 'Brooklyn Heights',\n",
       "       'Carroll Gardens', 'Gowanus', 'Flatlands', 'Cobble Hill',\n",
       "       'Flushing', 'Boerum Hill', 'Sunnyside', 'DUMBO', 'St. George',\n",
       "       'Highbridge', 'Financial District', 'Ridgewood',\n",
       "       'Morningside Heights', 'Jamaica', 'Middle Village', 'NoHo',\n",
       "       'Ditmars Steinway', 'Flatiron District', 'Roosevelt Island',\n",
       "       'Greenwich Village', 'Little Italy', 'East Flatbush',\n",
       "       'Tompkinsville', 'Astoria', 'Clason Point', 'Eastchester',\n",
       "       'Kingsbridge', 'Two Bridges', 'Queens Village', 'Rockaway Beach',\n",
       "       'Forest Hills', 'Nolita', 'Woodlawn', 'University Heights',\n",
       "       'Gravesend', 'Gramercy', 'Allerton', nan, 'East New York',\n",
       "       'Theater District', 'Concourse Village', 'Sheepshead Bay',\n",
       "       'Emerson Hill', 'Fort Hamilton', 'Bensonhurst', 'Tribeca',\n",
       "       'Shore Acres', 'Sunset Park', 'Concourse', 'Elmhurst',\n",
       "       'Brighton Beach', 'Jackson Heights', 'Cypress Hills', 'St. Albans',\n",
       "       'Arrochar', 'Rego Park', 'Wakefield', 'Clifton', 'Bay Ridge',\n",
       "       'Graniteville', 'Spuyten Duyvil', 'Stapleton', 'Briarwood',\n",
       "       'Ozone Park', 'Columbia St', 'Vinegar Hill', 'Mott Haven',\n",
       "       'Longwood', 'Canarsie', 'Battery Park City', 'Civic Center',\n",
       "       'East Elmhurst', 'New Springville', 'Morris Heights', 'Arverne',\n",
       "       'Cambria Heights', 'Tottenville', 'Mariners Harbor', 'Concord',\n",
       "       'Borough Park', 'Bayside', 'Downtown Brooklyn', 'Port Morris',\n",
       "       'Fieldston', 'Kew Gardens', 'Midwood', 'College Point',\n",
       "       'Mount Eden', 'City Island', 'Glendale', 'Port Richmond',\n",
       "       'Red Hook', 'Richmond Hill', 'Bellerose', 'Maspeth',\n",
       "       'Williamsbridge', 'Soundview', 'Woodhaven', 'Woodrow',\n",
       "       'Co-op City', 'Stuyvesant Town', 'Parkchester', 'North Riverdale',\n",
       "       'Dyker Heights', 'Bronxdale', 'Sea Gate', 'Riverdale',\n",
       "       'Kew Gardens Hills', 'Bay Terrace', 'Norwood', 'Claremont Village',\n",
       "       'Whitestone', 'Fordham', 'Bayswater', 'Navy Yard', 'Brownsville',\n",
       "       'Eltingville', 'Fresh Meadows', 'Mount Hope', 'Lighthouse Hill',\n",
       "       'Springfield Gardens', 'Howard Beach', 'Belle Harbor',\n",
       "       'Jamaica Estates', 'Van Nest', 'Morris Park', 'West Brighton',\n",
       "       'Far Rockaway', 'South Ozone Park', 'Tremont', 'Corona',\n",
       "       'Great Kills', 'Manhattan Beach', 'Marble Hill', 'Dongan Hills',\n",
       "       'Castleton Corners', 'East Morrisania', 'Hunts Point', 'Neponsit',\n",
       "       'Pelham Bay', 'Randall Manor', 'Throgs Neck', 'Todt Hill',\n",
       "       'West Farms', 'Silver Lake', 'Morrisania', 'Laurelton',\n",
       "       'Grymes Hill', 'Holliswood', 'Pelham Gardens', 'Belmont',\n",
       "       'Rosedale', 'Edgemere', 'New Brighton', 'Midland Beach',\n",
       "       'Baychester', 'Melrose', 'Bergen Beach', 'Richmondtown',\n",
       "       'Howland Hook', 'Schuylerville', 'Coney Island', 'New Dorp Beach',\n",
       "       \"Prince's Bay\", 'South Beach', 'Bath Beach', 'Jamaica Hills',\n",
       "       'Oakwood', 'Castle Hill', 'Hollis', 'Douglaston', 'Huguenot',\n",
       "       'Olinville', 'Edenwald', 'Grant City', 'Westerleigh',\n",
       "       'Bay Terrace, Staten Island', 'Westchester Square', 'Little Neck',\n",
       "       'Fort Wadsworth', 'Rosebank', 'Unionport', 'Mill Basin',\n",
       "       'Arden Heights', \"Bull's Head\", 'New Dorp', 'Rossville',\n",
       "       'Breezy Point', 'Willowbrook', 'Glen Oaks', 'Gerritsen Beach',\n",
       "       'Chelsea, Staten Island'], dtype=object)"
      ]
     },
     "execution_count": 46,
     "metadata": {},
     "output_type": "execute_result"
    }
   ],
   "source": [
    "df['neighbourhood'].unique()"
   ]
  },
  {
   "cell_type": "markdown",
   "id": "ccafee3a-7c0c-48f1-94e4-7af7d330564e",
   "metadata": {},
   "source": [
    "## Create SQLite database and load data into it \n",
    "*Note that this is not necessary but just for the purposes of showcasing SQL skills/capabilities*"
   ]
  },
  {
   "cell_type": "code",
   "execution_count": 47,
   "id": "63e5e9bc-c0c8-4036-9ea6-b5fabc550011",
   "metadata": {},
   "outputs": [
    {
     "name": "stderr",
     "output_type": "stream",
     "text": [
      "/Users/agshivers/opt/anaconda3/lib/python3.8/site-packages/pandas/core/generic.py:2779: UserWarning: The spaces in these column names will not be changed. In pandas versions < 0.14, spaces were converted to underscores.\n",
      "  sql.to_sql(\n"
     ]
    }
   ],
   "source": [
    "# connect to the database \n",
    "conn = sqlite3.connect('Airbnb_Open_Data.db')\n",
    "df.to_sql('airbnb_data', conn, if_exists='replace', index=False)"
   ]
  },
  {
   "cell_type": "markdown",
   "id": "8934adbf-addf-40db-8ad1-8852b8a4e730",
   "metadata": {},
   "source": [
    "# Project 2: Review Analysis"
   ]
  },
  {
   "cell_type": "markdown",
   "id": "a3440f89-f183-4537-826a-3712a408976a",
   "metadata": {},
   "source": [
    "## Find basic metrics using SQL"
   ]
  },
  {
   "cell_type": "code",
   "execution_count": 48,
   "id": "0a58fd8e-a905-4c9f-b232-c32982ae96ac",
   "metadata": {},
   "outputs": [],
   "source": [
    "# total listings\n",
    "total_listings = pd.read_sql('SELECT COUNT(*) AS total_listings FROM airbnb_data;', conn)"
   ]
  },
  {
   "cell_type": "code",
   "execution_count": 49,
   "id": "82fab4e6-4868-44a0-8b4f-27c796f4ed19",
   "metadata": {},
   "outputs": [],
   "source": [
    "# total reviews\n",
    "total_reviews = pd.read_sql('SELECT COUNT(*) AS total_reviews FROM airbnb_data WHERE `review rate number` IS NOT NULL', conn)"
   ]
  },
  {
   "cell_type": "code",
   "execution_count": 50,
   "id": "9cd10c01-d86a-4403-adb5-0040f46f3890",
   "metadata": {},
   "outputs": [
    {
     "name": "stdout",
     "output_type": "stream",
     "text": [
      "5986\n"
     ]
    }
   ],
   "source": [
    "# recent listings\n",
    "\n",
    "# read column in as a df using SQL query \n",
    "recent_listings_df = pd.read_sql('SELECT \"last review\" FROM airbnb_data', conn)\n",
    "\n",
    "recent_listings_df['last review'] = pd.to_datetime(recent_listings_df['last review'], format='%m/%d/%Y', errors='coerce')\n",
    "\n",
    "# make a fake \"today\" of May 2022\n",
    "fake_today = pd.Timestamp('2022-05-05')\n",
    "\n",
    "# filter for reviews in last 3 months from this May date\n",
    "recent = recent_listings_df[recent_listings_df['last review'] >= fake_today - pd.DateOffset(months=3)]\n",
    "\n",
    "# count listings\n",
    "total_active_listings = recent.shape[0]\n",
    "print(total_active_listings)"
   ]
  },
  {
   "cell_type": "code",
   "execution_count": 51,
   "id": "4efee4a0-24ce-43b1-8f4b-93f67f66fae8",
   "metadata": {},
   "outputs": [
    {
     "data": {
      "text/html": [
       "<div>\n",
       "<style scoped>\n",
       "    .dataframe tbody tr th:only-of-type {\n",
       "        vertical-align: middle;\n",
       "    }\n",
       "\n",
       "    .dataframe tbody tr th {\n",
       "        vertical-align: top;\n",
       "    }\n",
       "\n",
       "    .dataframe thead th {\n",
       "        text-align: right;\n",
       "    }\n",
       "</style>\n",
       "<table border=\"1\" class=\"dataframe\">\n",
       "  <thead>\n",
       "    <tr style=\"text-align: right;\">\n",
       "      <th></th>\n",
       "      <th>total_listings</th>\n",
       "    </tr>\n",
       "  </thead>\n",
       "  <tbody>\n",
       "    <tr>\n",
       "      <th>0</th>\n",
       "      <td>0.058344</td>\n",
       "    </tr>\n",
       "  </tbody>\n",
       "</table>\n",
       "</div>"
      ],
      "text/plain": [
       "   total_listings\n",
       "0        0.058344"
      ]
     },
     "execution_count": 51,
     "metadata": {},
     "output_type": "execute_result"
    }
   ],
   "source": [
    "# percentage active listings \n",
    "\n",
    "perc_active_listings = total_active_listings/total_listings\n",
    "perc_active_listings\n",
    "\n",
    "# only 5.83% of listings in the database are recent"
   ]
  },
  {
   "cell_type": "code",
   "execution_count": 52,
   "id": "ea352a7b-ee9d-4046-91c0-33d825274356",
   "metadata": {},
   "outputs": [
    {
     "data": {
      "text/html": [
       "<div>\n",
       "<style scoped>\n",
       "    .dataframe tbody tr th:only-of-type {\n",
       "        vertical-align: middle;\n",
       "    }\n",
       "\n",
       "    .dataframe tbody tr th {\n",
       "        vertical-align: top;\n",
       "    }\n",
       "\n",
       "    .dataframe thead th {\n",
       "        text-align: right;\n",
       "    }\n",
       "</style>\n",
       "<table border=\"1\" class=\"dataframe\">\n",
       "  <thead>\n",
       "    <tr style=\"text-align: right;\">\n",
       "      <th></th>\n",
       "      <th>AVG(`review rate number`)</th>\n",
       "    </tr>\n",
       "  </thead>\n",
       "  <tbody>\n",
       "    <tr>\n",
       "      <th>0</th>\n",
       "      <td>3.279106</td>\n",
       "    </tr>\n",
       "  </tbody>\n",
       "</table>\n",
       "</div>"
      ],
      "text/plain": [
       "   AVG(`review rate number`)\n",
       "0                   3.279106"
      ]
     },
     "execution_count": 52,
     "metadata": {},
     "output_type": "execute_result"
    }
   ],
   "source": [
    "avg_rating_q = '''\n",
    "SELECT AVG(`review rate number`)\n",
    "FROM airbnb_data;\n",
    "'''\n",
    "\n",
    "pd.read_sql(avg_rating_q, conn)"
   ]
  },
  {
   "cell_type": "markdown",
   "id": "d250eae7-8590-4d86-ac6d-41969465efb0",
   "metadata": {},
   "source": [
    "# Data Analysis"
   ]
  },
  {
   "cell_type": "markdown",
   "id": "ad925a4a-f368-47a2-954c-453daf1469ae",
   "metadata": {},
   "source": [
    "## Host impact on reviews"
   ]
  },
  {
   "cell_type": "markdown",
   "id": "2f520c74-ed41-459a-847c-528ec774b86d",
   "metadata": {},
   "source": [
    "### A/B Test: Review difference between casual (= 1) and professional (5+) hosts\n",
    "Alternate Hypothesis: Professional hosts (5+ properties) receive more positive reviews than casual hosts (1 property)\n",
    "- **Host portfolio size effect:** *Do multi-property hosts have greater reviews per listing?*\n",
    "- Groups:\n",
    "    - Control: calculated_host_listings_count = 1 (Casual hosts)\n",
    "    - Treatment: calculated_host_listings_count >= 5 (Professional hosts)\n",
    "- Primary metric: Average rating review\n",
    "- Secondary metric: Number of reviews"
   ]
  },
  {
   "cell_type": "code",
   "execution_count": 55,
   "id": "b7994ed7-cdec-4407-b3ea-3e93133787ed",
   "metadata": {},
   "outputs": [
    {
     "name": "stdout",
     "output_type": "stream",
     "text": [
      "1.0\n",
      "1.0\n",
      "2.0\n",
      "1.0\n",
      "-0.5\n",
      "3.5\n",
      "17829\n"
     ]
    },
    {
     "data": {
      "image/png": "[encoded data removed]",
      "text/plain": [
       "<Figure size 432x288 with 1 Axes>"
      ]
     },
     "metadata": {
      "needs_background": "light"
     },
     "output_type": "display_data"
    }
   ],
   "source": [
    "# some quick exploratory to see distribution of properties owned\n",
    "df['calculated host listings count'].hist(bins=50)\n",
    "\n",
    "q1 = df['calculated host listings count'].quantile(0.25)\n",
    "median = df['calculated host listings count'].quantile(0.50)  \n",
    "q3 = df['calculated host listings count'].quantile(0.75)\n",
    "iqr = q3 - q1\n",
    "\n",
    "lower_bound = q1-1.5*iqr\n",
    "upper_bound = q3+1.5*iqr\n",
    "\n",
    "outliers = df[(df['calculated host listings count'] < lower_bound) | (df['calculated host listings count'] > upper_bound)]['calculated host listings count']\n",
    "\n",
    "print(q1)\n",
    "print(median)\n",
    "print(q3)\n",
    "print(iqr)\n",
    "print(lower_bound)\n",
    "print(upper_bound)\n",
    "print(outliers.count())\n",
    "\n",
    "# most hosts are casual with just 1"
   ]
  },
  {
   "cell_type": "code",
   "execution_count": 39,
   "id": "11046a4b-3608-409e-9a7e-575b79e69a26",
   "metadata": {},
   "outputs": [
    {
     "name": "stdout",
     "output_type": "stream",
     "text": [
      "Portfolio Size Distribution:\n"
     ]
    },
    {
     "data": {
      "text/html": [
       "<div>\n",
       "<style scoped>\n",
       "    .dataframe tbody tr th:only-of-type {\n",
       "        vertical-align: middle;\n",
       "    }\n",
       "\n",
       "    .dataframe tbody tr th {\n",
       "        vertical-align: top;\n",
       "    }\n",
       "\n",
       "    .dataframe thead th {\n",
       "        text-align: right;\n",
       "    }\n",
       "</style>\n",
       "<table border=\"1\" class=\"dataframe\">\n",
       "  <thead>\n",
       "    <tr style=\"text-align: right;\">\n",
       "      <th></th>\n",
       "      <th>portfolio_size</th>\n",
       "      <th>host_count</th>\n",
       "      <th>percentage</th>\n",
       "    </tr>\n",
       "  </thead>\n",
       "  <tbody>\n",
       "    <tr>\n",
       "      <th>0</th>\n",
       "      <td>1.0</td>\n",
       "      <td>63429</td>\n",
       "      <td>62.015057</td>\n",
       "    </tr>\n",
       "    <tr>\n",
       "      <th>1</th>\n",
       "      <td>2.0</td>\n",
       "      <td>14445</td>\n",
       "      <td>14.122996</td>\n",
       "    </tr>\n",
       "    <tr>\n",
       "      <th>2</th>\n",
       "      <td>3.0</td>\n",
       "      <td>6577</td>\n",
       "      <td>6.430387</td>\n",
       "    </tr>\n",
       "    <tr>\n",
       "      <th>3</th>\n",
       "      <td>4.0</td>\n",
       "      <td>3552</td>\n",
       "      <td>3.472820</td>\n",
       "    </tr>\n",
       "    <tr>\n",
       "      <th>4</th>\n",
       "      <td>5.0</td>\n",
       "      <td>1995</td>\n",
       "      <td>1.950528</td>\n",
       "    </tr>\n",
       "    <tr>\n",
       "      <th>5</th>\n",
       "      <td>6.0</td>\n",
       "      <td>1477</td>\n",
       "      <td>1.444075</td>\n",
       "    </tr>\n",
       "    <tr>\n",
       "      <th>6</th>\n",
       "      <td>7.0</td>\n",
       "      <td>996</td>\n",
       "      <td>0.973797</td>\n",
       "    </tr>\n",
       "    <tr>\n",
       "      <th>7</th>\n",
       "      <td>8.0</td>\n",
       "      <td>958</td>\n",
       "      <td>0.936645</td>\n",
       "    </tr>\n",
       "    <tr>\n",
       "      <th>8</th>\n",
       "      <td>9.0</td>\n",
       "      <td>543</td>\n",
       "      <td>0.530896</td>\n",
       "    </tr>\n",
       "    <tr>\n",
       "      <th>9</th>\n",
       "      <td>10.0</td>\n",
       "      <td>516</td>\n",
       "      <td>0.504497</td>\n",
       "    </tr>\n",
       "    <tr>\n",
       "      <th>10</th>\n",
       "      <td>11.0</td>\n",
       "      <td>333</td>\n",
       "      <td>0.325577</td>\n",
       "    </tr>\n",
       "    <tr>\n",
       "      <th>11</th>\n",
       "      <td>12.0</td>\n",
       "      <td>463</td>\n",
       "      <td>0.452679</td>\n",
       "    </tr>\n",
       "    <tr>\n",
       "      <th>12</th>\n",
       "      <td>13.0</td>\n",
       "      <td>302</td>\n",
       "      <td>0.295268</td>\n",
       "    </tr>\n",
       "    <tr>\n",
       "      <th>13</th>\n",
       "      <td>14.0</td>\n",
       "      <td>202</td>\n",
       "      <td>0.197497</td>\n",
       "    </tr>\n",
       "    <tr>\n",
       "      <th>14</th>\n",
       "      <td>15.0</td>\n",
       "      <td>120</td>\n",
       "      <td>0.117325</td>\n",
       "    </tr>\n",
       "    <tr>\n",
       "      <th>15</th>\n",
       "      <td>16.0</td>\n",
       "      <td>67</td>\n",
       "      <td>0.065506</td>\n",
       "    </tr>\n",
       "    <tr>\n",
       "      <th>16</th>\n",
       "      <td>17.0</td>\n",
       "      <td>188</td>\n",
       "      <td>0.183809</td>\n",
       "    </tr>\n",
       "    <tr>\n",
       "      <th>17</th>\n",
       "      <td>18.0</td>\n",
       "      <td>140</td>\n",
       "      <td>0.136879</td>\n",
       "    </tr>\n",
       "    <tr>\n",
       "      <th>18</th>\n",
       "      <td>19.0</td>\n",
       "      <td>105</td>\n",
       "      <td>0.102659</td>\n",
       "    </tr>\n",
       "    <tr>\n",
       "      <th>19</th>\n",
       "      <td>20.0</td>\n",
       "      <td>97</td>\n",
       "      <td>0.094838</td>\n",
       "    </tr>\n",
       "  </tbody>\n",
       "</table>\n",
       "</div>"
      ],
      "text/plain": [
       "    portfolio_size  host_count  percentage\n",
       "0              1.0       63429   62.015057\n",
       "1              2.0       14445   14.122996\n",
       "2              3.0        6577    6.430387\n",
       "3              4.0        3552    3.472820\n",
       "4              5.0        1995    1.950528\n",
       "5              6.0        1477    1.444075\n",
       "6              7.0         996    0.973797\n",
       "7              8.0         958    0.936645\n",
       "8              9.0         543    0.530896\n",
       "9             10.0         516    0.504497\n",
       "10            11.0         333    0.325577\n",
       "11            12.0         463    0.452679\n",
       "12            13.0         302    0.295268\n",
       "13            14.0         202    0.197497\n",
       "14            15.0         120    0.117325\n",
       "15            16.0          67    0.065506\n",
       "16            17.0         188    0.183809\n",
       "17            18.0         140    0.136879\n",
       "18            19.0         105    0.102659\n",
       "19            20.0          97    0.094838"
      ]
     },
     "execution_count": 39,
     "metadata": {},
     "output_type": "execute_result"
    }
   ],
   "source": [
    "q_portfolio_distribution = '''\n",
    "SELECT \n",
    "    `calculated host listings count` AS portfolio_size,\n",
    "    COUNT(*) AS host_count,\n",
    "    COUNT(*) * 100.0/(SELECT COUNT(*) FROM airbnb_data WHERE `calculated host listings count` IS NOT NULL) AS percentage\n",
    "FROM airbnb_data \n",
    "WHERE `calculated host listings count` IS NOT NULL\n",
    "GROUP BY `calculated host listings count`\n",
    "ORDER BY `calculated host listings count`;\n",
    "'''\n",
    "\n",
    "distribution = pd.read_sql(q_portfolio_distribution, conn)\n",
    "print(\"Portfolio Size Distribution:\")\n",
    "distribution.head(20)"
   ]
  },
  {
   "cell_type": "code",
   "execution_count": 57,
   "id": "fba818c2-c307-4104-a899-69e7189ff0c5",
   "metadata": {},
   "outputs": [
    {
     "data": {
      "text/html": [
       "<div>\n",
       "<style scoped>\n",
       "    .dataframe tbody tr th:only-of-type {\n",
       "        vertical-align: middle;\n",
       "    }\n",
       "\n",
       "    .dataframe tbody tr th {\n",
       "        vertical-align: top;\n",
       "    }\n",
       "\n",
       "    .dataframe thead th {\n",
       "        text-align: right;\n",
       "    }\n",
       "</style>\n",
       "<table border=\"1\" class=\"dataframe\">\n",
       "  <thead>\n",
       "    <tr style=\"text-align: right;\">\n",
       "      <th></th>\n",
       "      <th>test_group</th>\n",
       "      <th>sample_size</th>\n",
       "      <th>avg_rating</th>\n",
       "      <th>avg_num_reviews</th>\n",
       "      <th>min_rating</th>\n",
       "      <th>max_rating</th>\n",
       "      <th>avg_portfolio_size</th>\n",
       "    </tr>\n",
       "  </thead>\n",
       "  <tbody>\n",
       "    <tr>\n",
       "      <th>0</th>\n",
       "      <td>Treatment (Professional: 5+ properties)</td>\n",
       "      <td>14219</td>\n",
       "      <td>3.379070</td>\n",
       "      <td>20.287854</td>\n",
       "      <td>1.0</td>\n",
       "      <td>5.0</td>\n",
       "      <td>48.076799</td>\n",
       "    </tr>\n",
       "    <tr>\n",
       "      <th>1</th>\n",
       "      <td>Control (Casual: 1 property)</td>\n",
       "      <td>63155</td>\n",
       "      <td>3.244763</td>\n",
       "      <td>24.610165</td>\n",
       "      <td>1.0</td>\n",
       "      <td>5.0</td>\n",
       "      <td>1.000000</td>\n",
       "    </tr>\n",
       "  </tbody>\n",
       "</table>\n",
       "</div>"
      ],
      "text/plain": [
       "                                test_group  sample_size  avg_rating  \\\n",
       "0  Treatment (Professional: 5+ properties)        14219    3.379070   \n",
       "1             Control (Casual: 1 property)        63155    3.244763   \n",
       "\n",
       "   avg_num_reviews  min_rating  max_rating  avg_portfolio_size  \n",
       "0        20.287854         1.0         5.0           48.076799  \n",
       "1        24.610165         1.0         5.0            1.000000  "
      ]
     },
     "execution_count": 57,
     "metadata": {},
     "output_type": "execute_result"
    }
   ],
   "source": [
    "# A/B Test: Professional vs Casual Host Reviews\n",
    "q_host_review_ab_test = '''\n",
    "SELECT \n",
    "   CASE \n",
    "       WHEN `calculated host listings count` = 1 THEN 'Control (Casual: 1 property)'\n",
    "       WHEN `calculated host listings count` >= 5 THEN 'Treatment (Professional: 5+ properties)'\n",
    "       ELSE 'Excluded (2-4 properties)'\n",
    "   END AS test_group,\n",
    "   COUNT(*) AS sample_size,\n",
    "   AVG(`review rate number`) AS avg_rating,\n",
    "   AVG(`number of reviews`) AS avg_num_reviews,\n",
    "   MIN(`review rate number`) AS min_rating,\n",
    "   MAX(`review rate number`) AS max_rating,\n",
    "   AVG(`calculated host listings count`) AS avg_portfolio_size\n",
    "FROM airbnb_data \n",
    "WHERE `review rate number` IS NOT NULL \n",
    "   AND `number of reviews` IS NOT NULL\n",
    "   AND `calculated host listings count` IS NOT NULL\n",
    "   AND `review rate number` > 0\n",
    "   AND (`calculated host listings count` = 1 OR `calculated host listings count` >= 5)  -- Only include our test groups\n",
    "GROUP BY test_group\n",
    "ORDER BY avg_rating DESC;\n",
    "'''\n",
    "\n",
    "pd.read_sql(q_host_review_ab_test, conn)"
   ]
  },
  {
   "cell_type": "code",
   "execution_count": 58,
   "id": "529b74d7-8178-4673-bd05-64c929f25335",
   "metadata": {},
   "outputs": [
    {
     "name": "stdout",
     "output_type": "stream",
     "text": [
      "Percentage Differences:\n",
      "4.139192908696264\n",
      "Percentage Differences:\n",
      "-17.563112640650722\n"
     ]
    }
   ],
   "source": [
    "# review rating percentage difference\n",
    "casual_rating = 3.244763\n",
    "prof_rating = 3.379070\n",
    "\n",
    "print(\"Percentage Differences:\")\n",
    "print(((prof_rating-casual_rating)/casual_rating)*100)\n",
    "\n",
    "\n",
    "# number of reviews percentage difference\n",
    "casual_rev_num = 24.610165\n",
    "prof_rev_num = 20.287854\n",
    "\n",
    "print(\"Percentage Differences:\")\n",
    "print(((prof_rev_num-casual_rev_num)/casual_rev_num)*100)\n",
    "\n",
    "# moderate effect of portfolio size on average rating\n",
    "# large effect of portfolio size on average number of reviews"
   ]
  },
  {
   "cell_type": "markdown",
   "id": "bb86850c-b364-44b7-aaf8-c181542afd55",
   "metadata": {},
   "source": [
    "### A/B Test: Review difference between casual (= 1) and professional (5+) hosts\n",
    "Alternate Hypothesis: Verified hosts receive more positive reviews than unconfirmed hosts.\n",
    "- **Host portfolio size effect:** *Do multi-property hosts have greater reviews per listing?*\n",
    "- Groups:\n",
    "    - Control: host_identity_verified = 'unconfirmed'\n",
    "    - Treatment: host_identity_verified = 'verified'\n",
    "- Primary metric: Average review rating difference\n",
    "- Secondary metric: Number of reviews\n"
   ]
  },
  {
   "cell_type": "code",
   "execution_count": 60,
   "id": "00f4c257-8743-4e17-9bd3-2c2fa810512f",
   "metadata": {},
   "outputs": [
    {
     "data": {
      "text/html": [
       "<div>\n",
       "<style scoped>\n",
       "    .dataframe tbody tr th:only-of-type {\n",
       "        vertical-align: middle;\n",
       "    }\n",
       "\n",
       "    .dataframe tbody tr th {\n",
       "        vertical-align: top;\n",
       "    }\n",
       "\n",
       "    .dataframe thead th {\n",
       "        text-align: right;\n",
       "    }\n",
       "</style>\n",
       "<table border=\"1\" class=\"dataframe\">\n",
       "  <thead>\n",
       "    <tr style=\"text-align: right;\">\n",
       "      <th></th>\n",
       "      <th>test_group</th>\n",
       "      <th>sample_size</th>\n",
       "      <th>avg_rating</th>\n",
       "      <th>avg_num_reviews</th>\n",
       "      <th>min_rating</th>\n",
       "      <th>max_rating</th>\n",
       "    </tr>\n",
       "  </thead>\n",
       "  <tbody>\n",
       "    <tr>\n",
       "      <th>0</th>\n",
       "      <td>Treatment (Verified identity)</td>\n",
       "      <td>50872</td>\n",
       "      <td>3.286720</td>\n",
       "      <td>27.270247</td>\n",
       "      <td>1.0</td>\n",
       "      <td>5.0</td>\n",
       "    </tr>\n",
       "    <tr>\n",
       "      <th>1</th>\n",
       "      <td>Control (Unconfirmed identity)</td>\n",
       "      <td>50944</td>\n",
       "      <td>3.271651</td>\n",
       "      <td>27.490185</td>\n",
       "      <td>1.0</td>\n",
       "      <td>5.0</td>\n",
       "    </tr>\n",
       "  </tbody>\n",
       "</table>\n",
       "</div>"
      ],
      "text/plain": [
       "                       test_group  sample_size  avg_rating  avg_num_reviews  \\\n",
       "0   Treatment (Verified identity)        50872    3.286720        27.270247   \n",
       "1  Control (Unconfirmed identity)        50944    3.271651        27.490185   \n",
       "\n",
       "   min_rating  max_rating  \n",
       "0         1.0         5.0  \n",
       "1         1.0         5.0  "
      ]
     },
     "execution_count": 60,
     "metadata": {},
     "output_type": "execute_result"
    }
   ],
   "source": [
    "# A/B Test: Pricing premium for verified hosts\n",
    "q_verified_ab_test = '''\n",
    "SELECT \n",
    "    CASE \n",
    "        WHEN host_identity_verified = 'unconfirmed' THEN 'Control (Unconfirmed identity)'\n",
    "        WHEN host_identity_verified = 'verified' THEN 'Treatment (Verified identity)'\n",
    "    END AS test_group,\n",
    "    COUNT(*) AS sample_size,\n",
    "    AVG(`review rate number`) AS avg_rating,\n",
    "    AVG(`number of reviews`) AS avg_num_reviews,\n",
    "    MIN(`review rate number`) AS min_rating,\n",
    "    MAX(`review rate number`) AS max_rating\n",
    "FROM airbnb_data \n",
    "WHERE `review rate number` IS NOT NULL \n",
    "    AND `number of reviews` IS NOT NULL\n",
    "    AND host_identity_verified IS NOT NULL\n",
    "    AND `review rate number` > 0\n",
    "GROUP BY test_group\n",
    "ORDER BY avg_rating DESC;\n",
    "'''\n",
    "\n",
    "pd.read_sql(q_verified_ab_test, conn)"
   ]
  },
  {
   "cell_type": "code",
   "execution_count": 61,
   "id": "63dbb2ca-b0a6-4f42-b74e-8a8a7ee6fd64",
   "metadata": {},
   "outputs": [
    {
     "name": "stdout",
     "output_type": "stream",
     "text": [
      "Percentage Differences:\n",
      "-0.45848140395287706\n",
      "Percentage Differences:\n",
      "0.8065126802848507\n"
     ]
    }
   ],
   "source": [
    "# review rating percentage difference\n",
    "ver_rating = 3.286720\n",
    "unver_rating = 3.271651\n",
    "\n",
    "print(\"Percentage Differences:\")\n",
    "print(((unver_rating-ver_rating)/ver_rating)*100)\n",
    "\n",
    "\n",
    "# number of reviews percentage difference\n",
    "ver_rev_num = 27.270247\n",
    "unver_rev_num = 27.490185\n",
    "\n",
    "print(\"Percentage Differences:\")\n",
    "print(((unver_rev_num-ver_rev_num)/ver_rev_num)*100)\n",
    "\n",
    "# negigible differences -- virtually no impact on reviews"
   ]
  },
  {
   "cell_type": "markdown",
   "id": "b9caa0b5-a8f3-47d8-ba28-9bb1be351f88",
   "metadata": {},
   "source": [
    "## Property features impact on reviews"
   ]
  },
  {
   "cell_type": "markdown",
   "id": "2d0b4420-f77e-4f2d-8917-85deb9b8fcc0",
   "metadata": {},
   "source": [
    "### Average reviews per room type"
   ]
  },
  {
   "cell_type": "code",
   "execution_count": 70,
   "id": "93cd7129-2ac2-47f7-add3-343ca5d64cd1",
   "metadata": {},
   "outputs": [
    {
     "data": {
      "text/html": [
       "<div>\n",
       "<style scoped>\n",
       "    .dataframe tbody tr th:only-of-type {\n",
       "        vertical-align: middle;\n",
       "    }\n",
       "\n",
       "    .dataframe tbody tr th {\n",
       "        vertical-align: top;\n",
       "    }\n",
       "\n",
       "    .dataframe thead th {\n",
       "        text-align: right;\n",
       "    }\n",
       "</style>\n",
       "<table border=\"1\" class=\"dataframe\">\n",
       "  <thead>\n",
       "    <tr style=\"text-align: right;\">\n",
       "      <th></th>\n",
       "      <th>room type</th>\n",
       "      <th>listings_count</th>\n",
       "      <th>avg_rating</th>\n",
       "      <th>avg_num_reviews</th>\n",
       "      <th>min_rating</th>\n",
       "      <th>max_rating</th>\n",
       "    </tr>\n",
       "  </thead>\n",
       "  <tbody>\n",
       "    <tr>\n",
       "      <th>0</th>\n",
       "      <td>Hotel room</td>\n",
       "      <td>116</td>\n",
       "      <td>3.534483</td>\n",
       "      <td>83.439655</td>\n",
       "      <td>2.0</td>\n",
       "      <td>5.0</td>\n",
       "    </tr>\n",
       "    <tr>\n",
       "      <th>1</th>\n",
       "      <td>Shared room</td>\n",
       "      <td>2219</td>\n",
       "      <td>3.308698</td>\n",
       "      <td>20.415052</td>\n",
       "      <td>1.0</td>\n",
       "      <td>5.0</td>\n",
       "    </tr>\n",
       "    <tr>\n",
       "      <th>2</th>\n",
       "      <td>Private room</td>\n",
       "      <td>46288</td>\n",
       "      <td>3.281714</td>\n",
       "      <td>27.706209</td>\n",
       "      <td>1.0</td>\n",
       "      <td>5.0</td>\n",
       "    </tr>\n",
       "    <tr>\n",
       "      <th>3</th>\n",
       "      <td>Entire home/apt</td>\n",
       "      <td>53468</td>\n",
       "      <td>3.274987</td>\n",
       "      <td>27.340203</td>\n",
       "      <td>1.0</td>\n",
       "      <td>5.0</td>\n",
       "    </tr>\n",
       "  </tbody>\n",
       "</table>\n",
       "</div>"
      ],
      "text/plain": [
       "         room type  listings_count  avg_rating  avg_num_reviews  min_rating  \\\n",
       "0       Hotel room             116    3.534483        83.439655         2.0   \n",
       "1      Shared room            2219    3.308698        20.415052         1.0   \n",
       "2     Private room           46288    3.281714        27.706209         1.0   \n",
       "3  Entire home/apt           53468    3.274987        27.340203         1.0   \n",
       "\n",
       "   max_rating  \n",
       "0         5.0  \n",
       "1         5.0  \n",
       "2         5.0  \n",
       "3         5.0  "
      ]
     },
     "execution_count": 70,
     "metadata": {},
     "output_type": "execute_result"
    }
   ],
   "source": [
    "reviews_by_room_q = '''\n",
    "SELECT \n",
    "    `room type`,\n",
    "    COUNT(*) as listings_count,\n",
    "    AVG(`review rate number`) AS avg_rating,\n",
    "    AVG(`number of reviews`) AS avg_num_reviews,\n",
    "    MIN(`review rate number`) AS min_rating,\n",
    "    MAX(`review rate number`) AS max_rating\n",
    "FROM airbnb_data \n",
    "WHERE `review rate number` IS NOT NULL \n",
    "    AND `number of reviews` IS NOT NULL \n",
    "    AND `room type` IS NOT NULL \n",
    "    AND `review rate number` > 0\n",
    "GROUP BY `room type`\n",
    "ORDER BY avg_rating DESC;\n",
    "'''\n",
    "\n",
    "pd.read_sql(reviews_by_room_q, conn)"
   ]
  },
  {
   "cell_type": "markdown",
   "id": "606675dd-1d91-4beb-9204-4d263607e06b",
   "metadata": {},
   "source": [
    "#### ANOVA to compare rewiew differences by room type"
   ]
  },
  {
   "cell_type": "code",
   "execution_count": 73,
   "id": "2aea1a15-4a82-499f-a89b-89fcd4688fff",
   "metadata": {},
   "outputs": [],
   "source": [
    "# query the raw data for statistical testing\n",
    "\n",
    "room_type_data = '''\n",
    "SELECT \n",
    "    `room type`,\n",
    "    `review rate number` as rating,\n",
    "    `number of reviews` as num_reviews\n",
    "FROM airbnb_data \n",
    "WHERE `review rate number` IS NOT NULL \n",
    "    AND `number of reviews` IS NOT NULL \n",
    "    AND `room type` IS NOT NULL \n",
    "    AND `review rate number` > 0\n",
    "'''\n",
    "raw_data = pd.read_sql(room_type_data, conn)"
   ]
  },
  {
   "cell_type": "markdown",
   "id": "332b6292-e20d-4dff-99c7-4f8988c05515",
   "metadata": {},
   "source": [
    "##### Room type rating ANOVA"
   ]
  },
  {
   "cell_type": "code",
   "execution_count": 75,
   "id": "c4dbc725-e4e3-4132-8c81-1e47dda5d142",
   "metadata": {},
   "outputs": [
    {
     "name": "stdout",
     "output_type": "stream",
     "text": [
      "ANOVA Results for Ratings:\n",
      "F-statistic: 2.1672\n",
      "p-value: 0.089603\n",
      "Significant: No\n"
     ]
    }
   ],
   "source": [
    "# separate data by room type\n",
    "hotel_ratings = raw_data[raw_data['room type'] == 'Hotel room']['rating']\n",
    "shared_ratings = raw_data[raw_data['room type'] == 'Shared room']['rating']\n",
    "private_ratings = raw_data[raw_data['room type'] == 'Private room']['rating']\n",
    "entire_ratings = raw_data[raw_data['room type'] == 'Entire home/apt']['rating']\n",
    "\n",
    "# ANOVA test for ratings\n",
    "f_stat_rating, p_value_rating = stats.f_oneway(hotel_ratings, shared_ratings, private_ratings, entire_ratings)\n",
    "\n",
    "print(f\"ANOVA Results for Ratings:\")\n",
    "print(f\"F-statistic: {f_stat_rating:.4f}\")\n",
    "print(f\"p-value: {p_value_rating:.6f}\")\n",
    "print(f\"Significant: {'Yes' if p_value_rating < 0.05 else 'No'}\")"
   ]
  },
  {
   "cell_type": "markdown",
   "id": "5b3647e7-85b1-43e2-944e-dead38d8f97a",
   "metadata": {},
   "source": [
    "##### Room type number of reviews ANOVA"
   ]
  },
  {
   "cell_type": "code",
   "execution_count": 76,
   "id": "cbb8e762-eb31-4bcb-8e7d-491b59cf59c8",
   "metadata": {},
   "outputs": [
    {
     "name": "stdout",
     "output_type": "stream",
     "text": [
      "\n",
      "ANOVA Results for Number of Reviews:\n",
      "F-statistic: 65.3532\n",
      "p-value: 0.000000\n",
      "Significant: Yes\n"
     ]
    }
   ],
   "source": [
    "# separate by room type again but instead grab review num\n",
    "hotel_reviews = raw_data[raw_data['room type'] == 'Hotel room']['num_reviews']\n",
    "shared_reviews = raw_data[raw_data['room type'] == 'Shared room']['num_reviews']\n",
    "private_reviews = raw_data[raw_data['room type'] == 'Private room']['num_reviews']\n",
    "entire_reviews = raw_data[raw_data['room type'] == 'Entire home/apt']['num_reviews']\n",
    "\n",
    "f_stat_reviews, p_value_reviews = stats.f_oneway(hotel_reviews, shared_reviews, private_reviews, entire_reviews)\n",
    "\n",
    "print(f\"\\nANOVA Results for Number of Reviews:\")\n",
    "print(f\"F-statistic: {f_stat_reviews:.4f}\")\n",
    "print(f\"p-value: {p_value_reviews:.6f}\")\n",
    "print(f\"Significant: {'Yes' if p_value_reviews < 0.05 else 'No'}\")"
   ]
  },
  {
   "cell_type": "code",
   "execution_count": 81,
   "id": "ddd30b90-1c76-46b7-873c-068140899651",
   "metadata": {},
   "outputs": [],
   "source": [
    "# since significant, run posthoc analysis\n",
    "# Tukey's HSD for pairwise comparisons\n",
    "if p_value_rating < 0.05:\n",
    "    tukey_result = tukey_hsd(hotel_ratings, shared_ratings, private_ratings, entire_ratings)\n",
    "    print(\"\\nTukey's HSD Results for Ratings:\")\n",
    "    print(tukey_result)"
   ]
  },
  {
   "cell_type": "code",
   "execution_count": null,
   "id": "cecf59ce-cecf-4a44-810b-96ecb71a1c62",
   "metadata": {},
   "outputs": [],
   "source": [
    "# Calculate eta-squared (effect size for ANOVA)\n",
    "def calculate_eta_squared(f_stat, df_between, df_within):\n",
    "    return (f_stat * df_between) / (f_stat * df_between + df_within)\n",
    "\n",
    "# For ratings\n",
    "df_between = 3  # 4 groups - 1\n",
    "df_within = len(raw_data) - 4  # total observations - number of groups\n",
    "eta_squared_rating = calculate_eta_squared(f_stat_rating, df_between, df_within)\n",
    "\n",
    "print(f\"\\nEffect Size (η²) for Ratings: {eta_squared_rating:.4f}\")\n",
    "print(\"Effect size interpretation:\")\n",
    "print(\"Small: 0.01, Medium: 0.06, Large: 0.14\")"
   ]
  },
  {
   "cell_type": "code",
   "execution_count": null,
   "id": "7ad6add7-68f8-4459-9786-3d534c96d68a",
   "metadata": {},
   "outputs": [],
   "source": [
    "import matplotlib.pyplot as plt\n",
    "import seaborn as sns\n",
    "\n",
    "# Box plot for visual comparison\n",
    "plt.figure(figsize=(12, 5))\n",
    "\n",
    "plt.subplot(1, 2, 1)\n",
    "sns.boxplot(data=raw_data, x='room type', y='rating')\n",
    "plt.title('Rating Distribution by Room Type')\n",
    "plt.xticks(rotation=45)\n",
    "\n",
    "plt.subplot(1, 2, 2)\n",
    "sns.boxplot(data=raw_data, x='room type', y='num_reviews')\n",
    "plt.title('Number of Reviews by Room Type')\n",
    "plt.xticks(rotation=45)\n",
    "\n",
    "plt.tight_layout()\n",
    "plt.show()"
   ]
  },
  {
   "cell_type": "markdown",
   "id": "523e75d1-070f-44b1-ae04-dff77688e236",
   "metadata": {},
   "source": [
    "### Room type/Location interaction"
   ]
  },
  {
   "cell_type": "code",
   "execution_count": null,
   "id": "07e1bb47-5014-4981-94ff-2b11f54f75b0",
   "metadata": {},
   "outputs": [],
   "source": [
    "# room type breakdown by borough\n",
    "q_room_type = '''\n",
    "SELECT \n",
    "    `neighbourhood group`,\n",
    "    `room type`,\n",
    "    COUNT(*) AS listings,\n",
    "    AVG(CAST(REPLACE(REPLACE(price, '$', ''), ',', '') AS REAL)) AS avg_price\n",
    "FROM airbnb_data \n",
    "WHERE price IS NOT NULL \n",
    "    AND `neighbourhood group` IS NOT NULL\n",
    "    AND `room type` IS NOT NULL\n",
    "    AND CAST(REPLACE(REPLACE(price, '$', ''), ',', '') AS REAL) > 0\n",
    "GROUP BY `neighbourhood group`, `room type`\n",
    "ORDER BY `neighbourhood group`, avg_price DESC;\n",
    "'''\n",
    "\n",
    "pd.read_sql(q_room_type, conn)\n",
    "\n",
    "# room type is a bigger influence on price than location"
   ]
  },
  {
   "cell_type": "markdown",
   "id": "fb77c169-3c29-417c-9c9e-356c89d54d00",
   "metadata": {},
   "source": [
    "### A/B Test: Review difference between newer and older properties\n",
    "Alternate Hypothesis: Newer properties (2011 and later) receive more favorable than older properties.\n",
    "- **Property age (construction year):** *Are newer properties rated more favorably?*\n",
    "- Groups:\n",
    "    - Control (old homes): Construction year < 2010\n",
    "    - Treatment (new homes): Construction year >= 2010\n",
    "- Primary metric: Average review rating difference\n",
    "- Secondary metric: Number of reviews\n"
   ]
  },
  {
   "cell_type": "code",
   "execution_count": 62,
   "id": "a0e39fb1-63cd-4ad7-9fba-e99598684dc3",
   "metadata": {},
   "outputs": [
    {
     "name": "stdout",
     "output_type": "stream",
     "text": [
      "oldest year:  2003.0\n",
      "newest year:  2022.0\n"
     ]
    }
   ],
   "source": [
    "print('oldest year: ', df['Construction year'].min())\n",
    "print('newest year: ', df['Construction year'].max())"
   ]
  },
  {
   "cell_type": "code",
   "execution_count": 67,
   "id": "0a5896d1-27b2-429a-a09b-583935bc1eee",
   "metadata": {},
   "outputs": [
    {
     "data": {
      "text/html": [
       "<div>\n",
       "<style scoped>\n",
       "    .dataframe tbody tr th:only-of-type {\n",
       "        vertical-align: middle;\n",
       "    }\n",
       "\n",
       "    .dataframe tbody tr th {\n",
       "        vertical-align: top;\n",
       "    }\n",
       "\n",
       "    .dataframe thead th {\n",
       "        text-align: right;\n",
       "    }\n",
       "</style>\n",
       "<table border=\"1\" class=\"dataframe\">\n",
       "  <thead>\n",
       "    <tr style=\"text-align: right;\">\n",
       "      <th></th>\n",
       "      <th>test_group</th>\n",
       "      <th>sample_size</th>\n",
       "      <th>avg_rating</th>\n",
       "      <th>avg_num_reviews</th>\n",
       "      <th>min_rating</th>\n",
       "      <th>max_rating</th>\n",
       "    </tr>\n",
       "  </thead>\n",
       "  <tbody>\n",
       "    <tr>\n",
       "      <th>0</th>\n",
       "      <td>Treatment (Built 2011 or later)</td>\n",
       "      <td>60934</td>\n",
       "      <td>3.290774</td>\n",
       "      <td>27.457413</td>\n",
       "      <td>1.0</td>\n",
       "      <td>5.0</td>\n",
       "    </tr>\n",
       "    <tr>\n",
       "      <th>1</th>\n",
       "      <td>Control (Built 2010 or earlier)</td>\n",
       "      <td>40952</td>\n",
       "      <td>3.262918</td>\n",
       "      <td>27.216571</td>\n",
       "      <td>1.0</td>\n",
       "      <td>5.0</td>\n",
       "    </tr>\n",
       "  </tbody>\n",
       "</table>\n",
       "</div>"
      ],
      "text/plain": [
       "                        test_group  sample_size  avg_rating  avg_num_reviews  \\\n",
       "0  Treatment (Built 2011 or later)        60934    3.290774        27.457413   \n",
       "1  Control (Built 2010 or earlier)        40952    3.262918        27.216571   \n",
       "\n",
       "   min_rating  max_rating  \n",
       "0         1.0         5.0  \n",
       "1         1.0         5.0  "
      ]
     },
     "execution_count": 67,
     "metadata": {},
     "output_type": "execute_result"
    }
   ],
   "source": [
    "# A/B Test: Property age impact on reviews\n",
    "property_ab_test = '''\n",
    "SELECT \n",
    "    CASE \n",
    "        WHEN `Construction year` <= 2010 THEN 'Control (Built 2010 or earlier)'\n",
    "        WHEN `Construction year` >= 2011 THEN 'Treatment (Built 2011 or later)'\n",
    "        ELSE 'Unknown'\n",
    "    END AS test_group,\n",
    "    COUNT(*) AS sample_size,\n",
    "    AVG(`review rate number`) AS avg_rating,\n",
    "    AVG(`number of reviews`) AS avg_num_reviews,\n",
    "    MIN(`review rate number`) AS min_rating,\n",
    "    MAX(`review rate number`) AS max_rating\n",
    "FROM airbnb_data \n",
    "WHERE `review rate number` IS NOT NULL \n",
    "    AND `number of reviews` IS NOT NULL\n",
    "    AND `Construction year` IS NOT NULL\n",
    "    AND `review rate number` > 0\n",
    "GROUP BY test_group\n",
    "ORDER BY avg_rating DESC;\n",
    "'''\n",
    "pd.read_sql(property_ab_test, conn)"
   ]
  },
  {
   "cell_type": "code",
   "execution_count": 64,
   "id": "58efb633-8bc2-4e5f-bd16-8c4d7e5f4bba",
   "metadata": {},
   "outputs": [
    {
     "name": "stdout",
     "output_type": "stream",
     "text": [
      "Percentage Differences:\n",
      "-0.8464877867638397\n",
      "Percentage Differences:\n",
      "-0.8771474574097737\n"
     ]
    }
   ],
   "source": [
    "# review rating percentage difference\n",
    "new_rating = 3.290774\n",
    "old_rating = 3.262918\n",
    "\n",
    "print(\"Percentage Differences:\")\n",
    "print(((old_rating-new_rating)/new_rating)*100)\n",
    "\n",
    "\n",
    "# number of reviews percentage difference\n",
    "new_rev_num = 27.457413\n",
    "old_rev_num = 27.216571\n",
    "\n",
    "print(\"Percentage Differences:\")\n",
    "print(((old_rev_num-new_rev_num)/new_rev_num)*100)\n",
    "\n",
    "# negigible differences -- virtually no impact on reviews"
   ]
  },
  {
   "cell_type": "markdown",
   "id": "64e33150-4e82-4ced-81a4-5692bcfbcdd8",
   "metadata": {},
   "source": [
    "## Policy impact on reviews"
   ]
  },
  {
   "cell_type": "code",
   "execution_count": null,
   "id": "4fa42a9c-8d1b-4c53-bca4-076a0535a9d6",
   "metadata": {},
   "outputs": [],
   "source": []
  },
  {
   "cell_type": "code",
   "execution_count": null,
   "id": "69ae3e39-62ff-4ec5-980d-302a30d8e85d",
   "metadata": {},
   "outputs": [],
   "source": []
  },
  {
   "cell_type": "code",
   "execution_count": null,
   "id": "3bd2c759-1dea-46b4-a82d-2cf845137c6e",
   "metadata": {},
   "outputs": [],
   "source": []
  },
  {
   "cell_type": "code",
   "execution_count": null,
   "id": "45fb9fb9-43a3-4502-a7f3-dc43de75e7eb",
   "metadata": {},
   "outputs": [],
   "source": []
  },
  {
   "cell_type": "code",
   "execution_count": null,
   "id": "511acb98-4af8-4a24-bd40-f8705e36cdb4",
   "metadata": {},
   "outputs": [],
   "source": []
  },
  {
   "cell_type": "code",
   "execution_count": null,
   "id": "07b6df17-c323-42e6-9240-1be3d2b44fa3",
   "metadata": {},
   "outputs": [],
   "source": []
  },
  {
   "cell_type": "code",
   "execution_count": null,
   "id": "377314f9-cc83-4916-a4b3-a7e839587766",
   "metadata": {},
   "outputs": [],
   "source": []
  },
  {
   "cell_type": "markdown",
   "id": "0f22b7db-8364-4231-b0e3-a5015058eb34",
   "metadata": {},
   "source": [
    "# Key Findings and Summary"
   ]
  },
  {
   "cell_type": "markdown",
   "id": "08a11826-9d43-4b8d-9984-2c31c5bd843f",
   "metadata": {},
   "source": [
    "## Host impact on reviews:\n",
    "### Host portfolio size:\n",
    "- There was a moderate effect (4.12% difference) of host portfolio size on average review rating, with professional hosts receiving slightly more positive reviews, supporting the initial hypothesis. This practical significance is minimal, though.\n",
    "- Surprisingly, the effect flipped directions when considering the number of reviews, where there was a large effect of portfolio size on number of reviews. Here,casual hosts get significantly more reviews per listing (+17.56%), contradicting our initial hypotheses.\n",
    "### Host verification status:\n",
    "- Verification status of hosts had virtually no impact (percentage differences < 1%) on average review ratings or the number of reviews.\n",
    "\n",
    "## Property features impact on reviews:\n",
    "- Surprisingly the A/B test comparing older homes to newer homes revealed no significant differences between older and newer properties in terms of the average review rating or the number of reviws. \n",
    "\n",
    "\n",
    "## Policy impacts on pricing:\n",
    "- There was no impact of instant booking on pricing. \n",
    "- There was also no impact of cancellation policy strictness on pricing.\n",
    "- Thus, overall, there was no main influence of policies on pricing.\n",
    "\n",
    "\n",
    "Thus, while there is slight variation and dynamic interaction between property features, pricing is fairly uniform across location, room type, and property age, a surprising finding."
   ]
  }
 ],
 "metadata": {
  "kernelspec": {
   "display_name": "Python 3",
   "language": "python",
   "name": "python3"
  },
  "language_info": {
   "codemirror_mode": {
    "name": "ipython",
    "version": 3
   },
   "file_extension": ".py",
   "mimetype": "text/x-python",
   "name": "python",
   "nbconvert_exporter": "python",
   "pygments_lexer": "ipython3",
   "version": "3.8.8"
  }
 },
 "nbformat": 4,
 "nbformat_minor": 5
}
